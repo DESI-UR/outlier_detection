{
 "cells": [
  {
   "cell_type": "code",
   "execution_count": 1,
   "metadata": {},
   "outputs": [],
   "source": [
    "%matplotlib inline\n",
    "\n",
    "import os\n",
    "import numpy as np\n",
    "\n",
    "import matplotlib as mpl\n",
    "import matplotlib.pyplot as plt\n",
    "\n",
    "from astropy.io import fits\n",
    "from astropy.table import Table"
   ]
  },
  {
   "cell_type": "code",
   "execution_count": 2,
   "metadata": {},
   "outputs": [
    {
     "name": "stderr",
     "output_type": "stream",
     "text": [
      "/Users/ryanrubenzahl/Library/Python/2.7/lib/python/site-packages/matplotlib/__init__.py:1405: UserWarning: \n",
      "This call to matplotlib.use() has no effect because the backend has already\n",
      "been chosen; matplotlib.use() must be called *before* pylab, matplotlib.pyplot,\n",
      "or matplotlib.backends is imported for the first time.\n",
      "\n",
      "  warnings.warn(_use_error_msg)\n"
     ]
    }
   ],
   "source": [
    "import desispec.io\n",
    "import desisim.io\n",
    "from desisim.obs import new_exposure\n",
    "from desisim.scripts import quickgen\n",
    "from desispec.scripts import group_spectra"
   ]
  },
  {
   "cell_type": "code",
   "execution_count": 3,
   "metadata": {},
   "outputs": [
    {
     "name": "stdout",
     "output_type": "stream",
     "text": [
      "Populating the interactive namespace from numpy and matplotlib\n"
     ]
    }
   ],
   "source": [
    "%pylab inline"
   ]
  },
  {
   "cell_type": "code",
   "execution_count": 4,
   "metadata": {},
   "outputs": [],
   "source": [
    "def check_env():\n",
    "    for env in ('DESIMODEL', 'DESI_ROOT', 'DESI_SPECTRO_SIM', 'DESI_SPECTRO_DATA', \n",
    "            'DESI_SPECTRO_REDUX', 'SPECPROD', 'PIXPROD'):\n",
    "        if env in os.environ:\n",
    "            print('{} environment set to {}'.format(env, os.getenv(env)))\n",
    "        else:\n",
    "            print('Required environment variable {} not set!'.format(env))"
   ]
  },
  {
   "cell_type": "code",
   "execution_count": 5,
   "metadata": {},
   "outputs": [
    {
     "name": "stdout",
     "output_type": "stream",
     "text": [
      "DESIMODEL environment set to /Users/ryanrubenzahl/Documents/DESI/code//desimodel\n",
      "DESI_ROOT environment set to /Users/ryanrubenzahl/Documents/DESI\n",
      "DESI_SPECTRO_SIM environment set to /Users/ryanrubenzahl/Documents/DESI/spectro/sim\n",
      "DESI_SPECTRO_DATA environment set to /Users/ryanrubenzahl/Documents/DESI/spectro/data\n",
      "DESI_SPECTRO_REDUX environment set to /Users/ryanrubenzahl/Documents/DESI/spectro/redux\n",
      "SPECPROD environment set to dailytest\n",
      "PIXPROD environment set to dailytest\n"
     ]
    }
   ],
   "source": [
    "check_env()"
   ]
  },
  {
   "cell_type": "code",
   "execution_count": 6,
   "metadata": {},
   "outputs": [
    {
     "name": "stdout",
     "output_type": "stream",
     "text": [
      "env: SPECPROD=example\n",
      "env: PIXPROD=example\n",
      "env: DESI_SPECTRO_DATA=/Users/ryanrubenzahl/Documents/DESI/spectro/sim/example/\n",
      "Simulated raw data will be written to /Users/ryanrubenzahl/Documents/DESI/spectro/sim/example/\n",
      "Pipeline will read raw data from /Users/ryanrubenzahl/Documents/DESI/spectro/sim/example/\n",
      "    (without knowing that it was simulated)\n",
      "Paipeline will write processed data to /Users/ryanrubenzahl/Documents/DESI/spectro/redux/example\n"
     ]
    }
   ],
   "source": [
    "%set_env SPECPROD=example\n",
    "%set_env PIXPROD=example\n",
    "rawdata_dir = desisim.io.simdir()\n",
    "%set_env DESI_SPECTRO_DATA=$rawdata_dir\n",
    "\n",
    "print('Simulated raw data will be written to {}'.format(desisim.io.simdir()))\n",
    "print('Pipeline will read raw data from {}'.format(desispec.io.rawdata_root()))\n",
    "print('    (without knowing that it was simulated)')\n",
    "print('Paipeline will write processed data to {}'.format(desispec.io.specprod_root()))"
   ]
  },
  {
   "cell_type": "markdown",
   "metadata": {},
   "source": [
    "## Read in simulated spectra"
   ]
  },
  {
   "cell_type": "code",
   "execution_count": 7,
   "metadata": {},
   "outputs": [],
   "source": [
    "flavor  = 'dark' # choose sky-brightness model and distribution of targets\n",
    "flavors = ['dark', 'gray', 'grey', 'bright', 'bgs', 'mws', 'lrg', 'elg', 'qso', 'std', 'arc', 'flat'] # all options\n",
    "night   = '20180201' # default is current date\n",
    "expid   = 0 # exposure ID number, can use to simulate more than one DESI exposure"
   ]
  },
  {
   "cell_type": "markdown",
   "metadata": {},
   "source": [
    "First get truth data of simulated objects"
   ]
  },
  {
   "cell_type": "code",
   "execution_count": 8,
   "metadata": {},
   "outputs": [],
   "source": [
    "fiberfile   = desispec.io.findfile('fibermap', night=night, expid=expid)\n",
    "simspecfile = desisim.io.findfile('simspec', night=night, expid=expid)"
   ]
  },
  {
   "cell_type": "code",
   "execution_count": 9,
   "metadata": {
    "scrolled": false
   },
   "outputs": [
    {
     "name": "stdout",
     "output_type": "stream",
     "text": [
      "Reading simspec file /Users/ryanrubenzahl/Documents/DESI/spectro/sim/example/20180201/simspec-00000000.fits.\n",
      "Filename: /Users/ryanrubenzahl/Documents/DESI/spectro/sim/example/20180201/simspec-00000000.fits\n",
      "No.    Name      Ver    Type      Cards   Dimensions   Format\n",
      "  0  WAVE          1 PrimaryHDU      58   (31900,)   float64   \n",
      "  1  FLUX          1 ImageHDU         9   (31900, 1000)   float32   \n",
      "  2  SKYFLUX       1 ImageHDU         9   (31900, 1000)   float32   \n",
      "  3  WAVE_B        1 ImageHDU         7   (11896,)   float64   \n",
      "  4  PHOT_B        1 ImageHDU         9   (11896, 1000)   float32   \n",
      "  5  SKYPHOT_B     1 ImageHDU         9   (11896, 1000)   float32   \n",
      "  6  WAVE_R        1 ImageHDU         7   (10575,)   float64   \n",
      "  7  PHOT_R        1 ImageHDU         9   (10575, 1000)   float32   \n",
      "  8  SKYPHOT_R     1 ImageHDU         9   (10575, 1000)   float32   \n",
      "  9  WAVE_Z        1 ImageHDU         7   (11990,)   float64   \n",
      " 10  PHOT_Z        1 ImageHDU         9   (11990, 1000)   float32   \n",
      " 11  SKYPHOT_Z     1 ImageHDU         9   (11990, 1000)   float32   \n",
      " 12  TRUTH         1 BinTableHDU     63   1000R x 27C   [10A, 10A, J, K, E, E, E, E, E, E, E, E, E, E, E, E, E, E, E, E, E, E, E, E, E, E, E]   \n",
      " 13  FIBERMAP      1 BinTableHDU     62   1000R x 26C   [10A, 20A, 8A, K, K, K, K, 5E, 50A, J, K, J, J, J, J, E, D, D, D, D, D, D, D, D, E, E]   \n",
      " 14  OBSCONDITIONS    1 BinTableHDU     21   1R x 6C   [D, K, K, D, K, D]   \n"
     ]
    }
   ],
   "source": [
    "print('Reading simspec file {}.'.format(simspecfile))\n",
    "hdu = fits.open(simspecfile)\n",
    "hdu.info()\n",
    "meta = Table(hdu['TRUTH'].data)\n",
    "hdu.close()"
   ]
  },
  {
   "cell_type": "markdown",
   "metadata": {},
   "source": [
    "Now read in simulated spectra"
   ]
  },
  {
   "cell_type": "code",
   "execution_count": 10,
   "metadata": {},
   "outputs": [],
   "source": [
    "cameras = ['b0', 'b1', 'r0', 'r1', 'z0', 'z1']\n",
    "cframes = {camera: [] for camera in cameras}"
   ]
  },
  {
   "cell_type": "code",
   "execution_count": 11,
   "metadata": {},
   "outputs": [
    {
     "name": "stdout",
     "output_type": "stream",
     "text": [
      "Reading /Users/ryanrubenzahl/Documents/DESI/spectro/redux/example/exposures/20180201/00000000/cframe-b0-00000000.fits\n",
      "Reading /Users/ryanrubenzahl/Documents/DESI/spectro/redux/example/exposures/20180201/00000000/cframe-b1-00000000.fits\n",
      "Reading /Users/ryanrubenzahl/Documents/DESI/spectro/redux/example/exposures/20180201/00000000/cframe-r0-00000000.fits\n",
      "Reading /Users/ryanrubenzahl/Documents/DESI/spectro/redux/example/exposures/20180201/00000000/cframe-r1-00000000.fits\n",
      "Reading /Users/ryanrubenzahl/Documents/DESI/spectro/redux/example/exposures/20180201/00000000/cframe-z0-00000000.fits\n",
      "Reading /Users/ryanrubenzahl/Documents/DESI/spectro/redux/example/exposures/20180201/00000000/cframe-z1-00000000.fits\n"
     ]
    }
   ],
   "source": [
    "# From using desispec.io.frame.read_frame\n",
    "for camera in cameras:\n",
    "    cframefile = desispec.io.findfile('cframe', \n",
    "                                      night=night, \n",
    "                                      expid=expid, \n",
    "                                      camera=camera)\n",
    "    print('Reading {}'.format(cframefile))\n",
    "    cframes[camera] = desispec.io.frame.read_frame(cframefile)\n",
    "    \n"
   ]
  },
  {
   "cell_type": "code",
   "execution_count": 12,
   "metadata": {},
   "outputs": [
    {
     "data": {
      "text/plain": [
       "<Frame: nspec=500, nwave=4760>"
      ]
     },
     "execution_count": 12,
     "metadata": {},
     "output_type": "execute_result"
    }
   ],
   "source": [
    "cframes['b0']"
   ]
  },
  {
   "cell_type": "code",
   "execution_count": 61,
   "metadata": {},
   "outputs": [
    {
     "data": {
      "text/plain": [
       "<matplotlib.legend.Legend at 0x12622b410>"
      ]
     },
     "execution_count": 61,
     "metadata": {},
     "output_type": "execute_result"
    },
    {
     "data": {
      "image/png": "[encoded data removed]",
      "text/plain": [
       "<matplotlib.figure.Figure at 0x117e5cd10>"
      ]
     },
     "metadata": {},
     "output_type": "display_data"
    }
   ],
   "source": [
    "# Lets plot one of the spectra that we simulated\n",
    "n = 41\n",
    "\n",
    "fig, ax = plt.subplots(1,1, figsize=(8,5))\n",
    "for camera in cameras:\n",
    "    cframe = cframes[camera]\n",
    "    \n",
    "    ax.errorbar(cframe.wave, cframe.flux[n, :], 1/np.sqrt(cframe.ivar[n, :]), label=camera)\n",
    "    ax.set_xlabel('Wavelength (A)')\n",
    "    ax.set_ylabel('Flux ($10^{-17}$ erg/s/cm$^2$)')\n",
    "ax.legend(loc='best')"
   ]
  },
  {
   "cell_type": "markdown",
   "metadata": {},
   "source": [
    "## Spectral coaddition\n",
    "\n",
    "Here we combine exposures from individual camera bands (b, r, z) into one exposure per camera, then combine the three cameras into one overall spectrum.\n",
    "\n",
    "Overview on coaddition: https://desi.lbl.gov/DocDB/cgi-bin/private/RetrieveFile?docid=1056;filename=coadd.pdf;version=2\n",
    "\n",
    "Test coaddition: `desispec/test/test_coadd.py`\n",
    "\n",
    "Global coaddition: `desispec/scripts/updatecoadd.py`"
   ]
  },
  {
   "cell_type": "code",
   "execution_count": 62,
   "metadata": {},
   "outputs": [],
   "source": [
    "from desispec.coaddition import Spectrum\n",
    "from desispec.resolution import Resolution"
   ]
  },
  {
   "cell_type": "code",
   "execution_count": 63,
   "metadata": {},
   "outputs": [],
   "source": [
    "# dir(cframes['b0'])\n",
    "\n",
    "specobj1 = Spectrum(\n",
    "cframes['b0'].wave,\n",
    "flux=cframes['b0'].flux[0],\n",
    "ivar=cframes['b0'].ivar[0],\n",
    "resolution=Resolution(cframes['b0'].resolution_data[0]),\n",
    ")\n",
    "\n",
    "specobj2 = Spectrum(\n",
    "cframes['b1'].wave,\n",
    "flux=cframes['b1'].flux[0],\n",
    "ivar=cframes['b1'].ivar[0],\n",
    "resolution=Resolution(cframes['b1'].resolution_data[0]),\n",
    ")"
   ]
  },
  {
   "cell_type": "code",
   "execution_count": 64,
   "metadata": {
    "collapsed": true
   },
   "outputs": [
    {
     "ename": "KeyboardInterrupt",
     "evalue": "",
     "output_type": "error",
     "traceback": [
      "\u001b[0;31m---------------------------------------------------------------------------\u001b[0m",
      "\u001b[0;31mKeyboardInterrupt\u001b[0m                         Traceback (most recent call last)",
      "\u001b[0;32m<ipython-input-64-2a6cc77351b1>\u001b[0m in \u001b[0;36m<module>\u001b[0;34m()\u001b[0m\n\u001b[1;32m      1\u001b[0m \u001b[0mspecobj1\u001b[0m \u001b[0;34m+=\u001b[0m \u001b[0mspecobj2\u001b[0m\u001b[0;34m\u001b[0m\u001b[0m\n\u001b[0;32m----> 2\u001b[0;31m \u001b[0mspecobj1\u001b[0m\u001b[0;34m.\u001b[0m\u001b[0mfinalize\u001b[0m\u001b[0;34m(\u001b[0m\u001b[0;34m)\u001b[0m\u001b[0;34m\u001b[0m\u001b[0m\n\u001b[0m",
      "\u001b[0;32m/Users/ryanrubenzahl/Documents/DESI/code/desispec/py/desispec/coaddition.pyc\u001b[0m in \u001b[0;36mfinalize\u001b[0;34m(self)\u001b[0m\n\u001b[1;32m     89\u001b[0m         \u001b[0mR\u001b[0m \u001b[0;34m=\u001b[0m \u001b[0mnp\u001b[0m\u001b[0;34m.\u001b[0m\u001b[0mzeros_like\u001b[0m\u001b[0;34m(\u001b[0m\u001b[0mself\u001b[0m\u001b[0;34m.\u001b[0m\u001b[0mCinv\u001b[0m\u001b[0;34m)\u001b[0m\u001b[0;34m\u001b[0m\u001b[0m\n\u001b[1;32m     90\u001b[0m         \u001b[0;31m# Calculate the deconvolved flux,ivar and resolution for ivar > 0 pixels.\u001b[0m\u001b[0;34m\u001b[0m\u001b[0;34m\u001b[0m\u001b[0m\n\u001b[0;32m---> 91\u001b[0;31m         \u001b[0mself\u001b[0m\u001b[0;34m.\u001b[0m\u001b[0mivar\u001b[0m\u001b[0;34m[\u001b[0m\u001b[0mmask\u001b[0m\u001b[0;34m]\u001b[0m\u001b[0;34m,\u001b[0m\u001b[0mR\u001b[0m\u001b[0;34m[\u001b[0m\u001b[0mkeep_t\u001b[0m\u001b[0;34m,\u001b[0m\u001b[0mkeep\u001b[0m\u001b[0;34m]\u001b[0m \u001b[0;34m=\u001b[0m \u001b[0mdecorrelate\u001b[0m\u001b[0;34m(\u001b[0m\u001b[0mself\u001b[0m\u001b[0;34m.\u001b[0m\u001b[0mCinv\u001b[0m\u001b[0;34m[\u001b[0m\u001b[0mkeep_t\u001b[0m\u001b[0;34m,\u001b[0m\u001b[0mkeep\u001b[0m\u001b[0;34m]\u001b[0m\u001b[0;34m)\u001b[0m\u001b[0;34m\u001b[0m\u001b[0m\n\u001b[0m\u001b[1;32m     92\u001b[0m         \u001b[0;32mtry\u001b[0m\u001b[0;34m:\u001b[0m\u001b[0;34m\u001b[0m\u001b[0m\n\u001b[1;32m     93\u001b[0m             \u001b[0mR_it\u001b[0m \u001b[0;34m=\u001b[0m \u001b[0mscipy\u001b[0m\u001b[0;34m.\u001b[0m\u001b[0mlinalg\u001b[0m\u001b[0;34m.\u001b[0m\u001b[0minv\u001b[0m\u001b[0;34m(\u001b[0m\u001b[0mR\u001b[0m\u001b[0;34m[\u001b[0m\u001b[0mkeep_t\u001b[0m\u001b[0;34m,\u001b[0m\u001b[0mkeep\u001b[0m\u001b[0;34m]\u001b[0m\u001b[0;34m.\u001b[0m\u001b[0mT\u001b[0m\u001b[0;34m)\u001b[0m\u001b[0;34m\u001b[0m\u001b[0m\n",
      "\u001b[0;32m/Users/ryanrubenzahl/Documents/DESI/code/desispec/py/desispec/coaddition.pyc\u001b[0m in \u001b[0;36mdecorrelate\u001b[0;34m(Cinv)\u001b[0m\n\u001b[1;32m    203\u001b[0m     \u001b[0;31m# Calculate the matrix square root. Note that we do not use scipy.linalg.sqrtm since\u001b[0m\u001b[0;34m\u001b[0m\u001b[0;34m\u001b[0m\u001b[0m\n\u001b[1;32m    204\u001b[0m     \u001b[0;31m# the method below is about 2x faster for a positive definite matrix.\u001b[0m\u001b[0;34m\u001b[0m\u001b[0;34m\u001b[0m\u001b[0m\n\u001b[0;32m--> 205\u001b[0;31m     \u001b[0mL\u001b[0m\u001b[0;34m,\u001b[0m\u001b[0mX\u001b[0m \u001b[0;34m=\u001b[0m \u001b[0mscipy\u001b[0m\u001b[0;34m.\u001b[0m\u001b[0mlinalg\u001b[0m\u001b[0;34m.\u001b[0m\u001b[0meigh\u001b[0m\u001b[0;34m(\u001b[0m\u001b[0mCinv\u001b[0m\u001b[0;34m)\u001b[0m\u001b[0;34m\u001b[0m\u001b[0m\n\u001b[0m\u001b[1;32m    206\u001b[0m     \u001b[0;31m# Check for negative eigenvalues.\u001b[0m\u001b[0;34m\u001b[0m\u001b[0;34m\u001b[0m\u001b[0m\n\u001b[1;32m    207\u001b[0m     \u001b[0mnbad\u001b[0m \u001b[0;34m=\u001b[0m \u001b[0mnp\u001b[0m\u001b[0;34m.\u001b[0m\u001b[0mcount_nonzero\u001b[0m\u001b[0;34m(\u001b[0m\u001b[0mL\u001b[0m \u001b[0;34m<\u001b[0m \u001b[0;36m0\u001b[0m\u001b[0;34m)\u001b[0m\u001b[0;34m\u001b[0m\u001b[0m\n",
      "\u001b[0;32m/Users/ryanrubenzahl/Library/Python/2.7/lib/python/site-packages/scipy/linalg/decomp.pyc\u001b[0m in \u001b[0;36meigh\u001b[0;34m(a, b, lower, eigvals_only, overwrite_a, overwrite_b, turbo, eigvals, type, check_finite)\u001b[0m\n\u001b[1;32m    382\u001b[0m         \u001b[0;32mif\u001b[0m \u001b[0meigvals\u001b[0m \u001b[0;32mis\u001b[0m \u001b[0mNone\u001b[0m\u001b[0;34m:\u001b[0m\u001b[0;34m\u001b[0m\u001b[0m\n\u001b[1;32m    383\u001b[0m             w, v, info = evr(a1, uplo=uplo, jobz=_job, range=\"A\", il=1,\n\u001b[0;32m--> 384\u001b[0;31m                              iu=a1.shape[0], overwrite_a=overwrite_a)\n\u001b[0m\u001b[1;32m    385\u001b[0m         \u001b[0;32melse\u001b[0m\u001b[0;34m:\u001b[0m\u001b[0;34m\u001b[0m\u001b[0m\n\u001b[1;32m    386\u001b[0m             \u001b[0;34m(\u001b[0m\u001b[0mlo\u001b[0m\u001b[0;34m,\u001b[0m \u001b[0mhi\u001b[0m\u001b[0;34m)\u001b[0m \u001b[0;34m=\u001b[0m \u001b[0meigvals\u001b[0m\u001b[0;34m\u001b[0m\u001b[0m\n",
      "\u001b[0;31mKeyboardInterrupt\u001b[0m: "
     ]
    }
   ],
   "source": [
    "specobj1 += specobj2\n",
    "specobj1.finalize()"
   ]
  },
  {
   "cell_type": "code",
   "execution_count": 17,
   "metadata": {},
   "outputs": [
    {
     "name": "stdout",
     "output_type": "stream",
     "text": [
      "[ 5.93990337 -6.06758869 -4.20943106 ..., -6.27092244  5.65672206\n",
      "  5.8644593 ]\n"
     ]
    }
   ],
   "source": [
    "print specobj1.flux"
   ]
  },
  {
   "cell_type": "code",
   "execution_count": 65,
   "metadata": {},
   "outputs": [],
   "source": [
    "allspecs = []\n",
    "\n",
    "for cband in [['b0', 'b1'], ['r0', 'r1'], ['z0', 'z1']]:\n",
    "    # dir(cframes['b0'])\n",
    "    c0, c1 = cband\n",
    "\n",
    "    specobj1 = Spectrum(\n",
    "    cframes[c0].wave,\n",
    "    flux=cframes[c0].flux[n],\n",
    "    ivar=cframes[c0].ivar[n],\n",
    "    resolution=Resolution(cframes[c0].resolution_data[n]),\n",
    "    )\n",
    "\n",
    "    specobj2 = Spectrum(\n",
    "    cframes[c1].wave,\n",
    "    flux=cframes[c1].flux[n],\n",
    "    ivar=cframes[c1].ivar[n],\n",
    "    resolution=Resolution(cframes[c1].resolution_data[n]),\n",
    "    )\n",
    "\n",
    "    specobj1 += specobj2\n",
    "    specobj1.finalize()\n",
    "    allspecs.append(specobj1)"
   ]
  },
  {
   "cell_type": "markdown",
   "metadata": {},
   "source": [
    "### Wavelength Grids\n",
    "see: https://github.com/desihub/desispec/blob/master/doc/coadd.rst\n",
    "\n",
    "\n",
    "|  Band |\tMin(A)|\tMax(A) | Nbins | Size(A)  |\tFiles  |\n",
    "|------- |-------- |------- |------- |-------- |--------| \n",
    "|b\t    |  3579.0 |\t5938.8 | 3934  | 0.6 |\tbrick, band coadd |\n",
    "|r\t    |  5635.0 |\t7730.8 | 3494  | 0.6 |\tbrick, band coadd |\n",
    "|z\t    |  7445.0 |\t9824.0 | 3966  | 0.6 |\tbrick, band coadd |\n",
    "|all\t|  3579.0 |\t9825.0 | 6247  | 1.0 |\tglobal coadd |"
   ]
  },
  {
   "cell_type": "code",
   "execution_count": 42,
   "metadata": {},
   "outputs": [
    {
     "name": "stdout",
     "output_type": "stream",
     "text": [
      "[ 3579.  3580.  3581. ...,  9823.  9824.  9825.]\n"
     ]
    }
   ],
   "source": [
    "print desispec.coaddition.global_wavelength_grid"
   ]
  },
  {
   "cell_type": "code",
   "execution_count": 66,
   "metadata": {},
   "outputs": [],
   "source": [
    "# Now combine the b, r, and z spectra into one final spectra\n",
    "# First, get overall wavelength range of the spectrum\n",
    "# Individual cameras have 0.5 A resolutions\n",
    "# We make the final coadd spectrum uniformly spaced with 1.0 A\n",
    "global_wavelength_grid = np.arange(np.min(allspecs[0].wave), \n",
    "                                  np.max(allspecs[2].wave + 0.5), \n",
    "                                  1.0, dtype=np.float32)\n",
    "\n",
    "coadd_all_spectra = Spectrum(global_wavelength_grid)\n",
    "# coadd_all_spectra = Spectrum(desispec.coaddition.global_wavelength_grid)\n",
    "for coadd_band in allspecs:\n",
    "    coadd_all_spectra += coadd_band"
   ]
  },
  {
   "cell_type": "code",
   "execution_count": 67,
   "metadata": {},
   "outputs": [],
   "source": [
    "coadd_all_spectra.finalize()"
   ]
  },
  {
   "cell_type": "code",
   "execution_count": 68,
   "metadata": {
    "scrolled": true
   },
   "outputs": [
    {
     "data": {
      "text/plain": [
       "<matplotlib.text.Text at 0x118f7d8d0>"
      ]
     },
     "execution_count": 68,
     "metadata": {},
     "output_type": "execute_result"
    },
    {
     "data": {
      "image/png": "[encoded data removed]",
      "text/plain": [
       "<matplotlib.figure.Figure at 0x117e5ce90>"
      ]
     },
     "metadata": {},
     "output_type": "display_data"
    }
   ],
   "source": [
    "fig, ax = plt.subplots(1,1)\n",
    "\n",
    "ax.errorbar(coadd_all_spectra.wave, coadd_all_spectra.flux, 1/np.sqrt(coadd_all_spectra.ivar))\n",
    "ax.set_xlabel('Wavelength (A)')\n",
    "ax.set_ylabel('Flux ($10^{-17}$ erg/s/cm$^2$)')"
   ]
  },
  {
   "cell_type": "code",
   "execution_count": 108,
   "metadata": {
    "scrolled": true
   },
   "outputs": [
    {
     "ename": "AttributeError",
     "evalue": "'Spectrum' object has no attribute 'meta'",
     "output_type": "error",
     "traceback": [
      "\u001b[0;31m---------------------------------------------------------------------------\u001b[0m",
      "\u001b[0;31mAttributeError\u001b[0m                            Traceback (most recent call last)",
      "\u001b[0;32m<ipython-input-108-f8b15e8167c7>\u001b[0m in \u001b[0;36m<module>\u001b[0;34m()\u001b[0m\n\u001b[1;32m      1\u001b[0m \u001b[0;32mfrom\u001b[0m \u001b[0mdesispec\u001b[0m\u001b[0;34m.\u001b[0m\u001b[0mio\u001b[0m \u001b[0;32mimport\u001b[0m \u001b[0mwrite_frame\u001b[0m\u001b[0;34m\u001b[0m\u001b[0m\n\u001b[1;32m      2\u001b[0m \u001b[0;34m\u001b[0m\u001b[0m\n\u001b[0;32m----> 3\u001b[0;31m \u001b[0mwrite_frame\u001b[0m\u001b[0;34m(\u001b[0m\u001b[0;34m\"test.fits\"\u001b[0m\u001b[0;34m,\u001b[0m \u001b[0mcoadd_all_spectra\u001b[0m\u001b[0;34m)\u001b[0m\u001b[0;34m\u001b[0m\u001b[0m\n\u001b[0m",
      "\u001b[0;32m/Users/ryanrubenzahl/Documents/DESI/code/desispec/py/desispec/io/frame.pyc\u001b[0m in \u001b[0;36mwrite_frame\u001b[0;34m(outfile, frame, header, fibermap, units)\u001b[0m\n\u001b[1;32m     44\u001b[0m         \u001b[0mhdr\u001b[0m \u001b[0;34m=\u001b[0m \u001b[0mfitsheader\u001b[0m\u001b[0;34m(\u001b[0m\u001b[0mheader\u001b[0m\u001b[0;34m)\u001b[0m\u001b[0;34m\u001b[0m\u001b[0m\n\u001b[1;32m     45\u001b[0m     \u001b[0;32melse\u001b[0m\u001b[0;34m:\u001b[0m\u001b[0;34m\u001b[0m\u001b[0m\n\u001b[0;32m---> 46\u001b[0;31m         \u001b[0mhdr\u001b[0m \u001b[0;34m=\u001b[0m \u001b[0mfitsheader\u001b[0m\u001b[0;34m(\u001b[0m\u001b[0mframe\u001b[0m\u001b[0;34m.\u001b[0m\u001b[0mmeta\u001b[0m\u001b[0;34m)\u001b[0m\u001b[0;34m\u001b[0m\u001b[0m\n\u001b[0m\u001b[1;32m     47\u001b[0m \u001b[0;34m\u001b[0m\u001b[0m\n\u001b[1;32m     48\u001b[0m     \u001b[0madd_dependencies\u001b[0m\u001b[0;34m(\u001b[0m\u001b[0mhdr\u001b[0m\u001b[0;34m)\u001b[0m\u001b[0;34m\u001b[0m\u001b[0m\n",
      "\u001b[0;31mAttributeError\u001b[0m: 'Spectrum' object has no attribute 'meta'"
     ]
    }
   ],
   "source": [
    "from desispec.io import write_frame\n",
    "\n",
    "write_frame(\"test.fits\", coadd_all_spectra)"
   ]
  },
  {
   "cell_type": "code",
   "execution_count": 111,
   "metadata": {},
   "outputs": [
    {
     "ename": "AssertionError",
     "evalue": "",
     "output_type": "error",
     "traceback": [
      "\u001b[0;31m---------------------------------------------------------------------------\u001b[0m",
      "\u001b[0;31mAssertionError\u001b[0m                            Traceback (most recent call last)",
      "\u001b[0;32m<ipython-input-111-d66633467685>\u001b[0m in \u001b[0;36m<module>\u001b[0;34m()\u001b[0m\n\u001b[1;32m      4\u001b[0m               \u001b[0mcoadd_all_spectra\u001b[0m\u001b[0;34m.\u001b[0m\u001b[0mflux\u001b[0m\u001b[0;34m,\u001b[0m\u001b[0;34m\u001b[0m\u001b[0m\n\u001b[1;32m      5\u001b[0m               \u001b[0mcoadd_all_spectra\u001b[0m\u001b[0;34m.\u001b[0m\u001b[0mivar\u001b[0m\u001b[0;34m,\u001b[0m\u001b[0;34m\u001b[0m\u001b[0m\n\u001b[0;32m----> 6\u001b[0;31m               coadd_all_spectra.resolution)\n\u001b[0m",
      "\u001b[0;32m/Users/ryanrubenzahl/Documents/DESI/code/desispec/py/desispec/frame.pyc\u001b[0m in \u001b[0;36m__init__\u001b[0;34m(self, wave, flux, ivar, mask, resolution_data, fibers, spectrograph, meta, fibermap, chi2pix, wsigma, ndiag)\u001b[0m\n\u001b[1;32m     84\u001b[0m         \"\"\"\n\u001b[1;32m     85\u001b[0m         \u001b[0;32massert\u001b[0m \u001b[0mwave\u001b[0m\u001b[0;34m.\u001b[0m\u001b[0mndim\u001b[0m \u001b[0;34m==\u001b[0m \u001b[0;36m1\u001b[0m\u001b[0;34m\u001b[0m\u001b[0m\n\u001b[0;32m---> 86\u001b[0;31m         \u001b[0;32massert\u001b[0m \u001b[0mflux\u001b[0m\u001b[0;34m.\u001b[0m\u001b[0mndim\u001b[0m \u001b[0;34m==\u001b[0m \u001b[0;36m2\u001b[0m\u001b[0;34m\u001b[0m\u001b[0m\n\u001b[0m\u001b[1;32m     87\u001b[0m         \u001b[0;32massert\u001b[0m \u001b[0mwave\u001b[0m\u001b[0;34m.\u001b[0m\u001b[0mshape\u001b[0m\u001b[0;34m[\u001b[0m\u001b[0;36m0\u001b[0m\u001b[0;34m]\u001b[0m \u001b[0;34m==\u001b[0m \u001b[0mflux\u001b[0m\u001b[0;34m.\u001b[0m\u001b[0mshape\u001b[0m\u001b[0;34m[\u001b[0m\u001b[0;36m1\u001b[0m\u001b[0;34m]\u001b[0m\u001b[0;34m\u001b[0m\u001b[0m\n\u001b[1;32m     88\u001b[0m         \u001b[0;32massert\u001b[0m \u001b[0mivar\u001b[0m\u001b[0;34m.\u001b[0m\u001b[0mshape\u001b[0m \u001b[0;34m==\u001b[0m \u001b[0mflux\u001b[0m\u001b[0;34m.\u001b[0m\u001b[0mshape\u001b[0m\u001b[0;34m\u001b[0m\u001b[0m\n",
      "\u001b[0;31mAssertionError\u001b[0m: "
     ]
    }
   ],
   "source": [
    "from desispec.frame import Frame\n",
    "\n",
    "frame = Frame(coadd_all_spectra.wave,\n",
    "              coadd_all_spectra.flux, \n",
    "              coadd_all_spectra.ivar, \n",
    "              coadd_all_spectra.resolution)"
   ]
  },
  {
   "cell_type": "code",
   "execution_count": 123,
   "metadata": {},
   "outputs": [],
   "source": [
    "def write_coadd_spectra(outfile, coadd_spectra):\n",
    "    \"\"\"\n",
    "    Write the output of the full brz coadded spectra to a fits file.\n",
    "    Include the truth and metadata from fiberfile and simspecfile\n",
    "    \"\"\"\n",
    "    \n",
    "    # Make parent directory if necessary\n",
    "    dir, base = os.path.split(outfile)\n",
    "    if not os.path.exists(dir):\n",
    "        os.makedirs(dir)\n",
    "        \n",
    "    # Create HDUs from the data\n",
    "    all_hdus = fits.HDUList()\n",
    "    \n",
    "    # metadata goes in empty primary HDU\n",
    "    "
   ]
  },
  {
   "cell_type": "code",
   "execution_count": null,
   "metadata": {},
   "outputs": [],
   "source": []
  }
 ],
 "metadata": {
  "kernelspec": {
   "display_name": "Python 2",
   "language": "python",
   "name": "python2"
  },
  "language_info": {
   "codemirror_mode": {
    "name": "ipython",
    "version": 2
   },
   "file_extension": ".py",
   "mimetype": "text/x-python",
   "name": "python",
   "nbconvert_exporter": "python",
   "pygments_lexer": "ipython2",
   "version": "2.7.13"
  }
 },
 "nbformat": 4,
 "nbformat_minor": 2
}

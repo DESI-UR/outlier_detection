{
 "cells": [
  {
   "cell_type": "code",
   "execution_count": 2,
   "metadata": {},
   "outputs": [],
   "source": [
    "%matplotlib inline\n",
    "\n",
    "import os\n",
    "import glob\n",
    "\n",
    "import numpy as np\n",
    "import pandas as pd\n",
    "\n",
    "from astropy.io import fits\n",
    "from astropy.table import Table\n",
    "\n",
    "from desispec.interpolation import resample_flux\n",
    "\n",
    "import matplotlib as mpl\n",
    "from matplotlib import pyplot as plt\n",
    "\n",
    "mpl.rc('font', family='serif', size=16)"
   ]
  },
  {
   "cell_type": "code",
   "execution_count": 3,
   "metadata": {},
   "outputs": [
    {
     "name": "stdout",
     "output_type": "stream",
     "text": [
      "21000 total galaxies\n",
      "18900 total sn hosts\n"
     ]
    }
   ],
   "source": [
    "# Load in the data\n",
    "basedir = '/Users/ryanrubenzahl/Documents/DESI/my_outlier_detection/'\n",
    "specdir = 'galaxy_sim_catalog/spectra/'\n",
    "expid = 4\n",
    "\n",
    "sn_dir = 'bright_atpeak' # 'dim_atpeak/'\n",
    "gal_globpath = basedir + specdir + 'galaxies/*expid%03d*.fits' % expid\n",
    "sn_globpath  = basedir + specdir + sn_dir + '/*expid%03d*.fits' % expid\n",
    "\n",
    "# Galaxies without supernovae\n",
    "gal_files = glob.glob(gal_globpath)\n",
    "# Galaxies with supernovae\n",
    "sn_host_files = glob.glob(sn_globpath)\n",
    "# All the files\n",
    "all_files = np.append(gal_files, sn_host_files)\n",
    "\n",
    "print len(gal_files), \"total galaxies\"\n",
    "print len(sn_host_files), \"total sn hosts\""
   ]
  },
  {
   "cell_type": "markdown",
   "metadata": {},
   "source": [
    "## Pandas dataframe"
   ]
  },
  {
   "cell_type": "code",
   "execution_count": 4,
   "metadata": {},
   "outputs": [],
   "source": [
    "data = []\n",
    "\n",
    "for n, f in enumerate(all_files):\n",
    "        \n",
    "    # Read the fits file\n",
    "    with fits.open(f, memmap=0) as hdul:\n",
    "\n",
    "        specid  = os.path.basename(f)[8:31] # Spectra ID tag\n",
    "        objtype = hdul[0].header['OBJTYPE'] # Object type (e.g. BGS)\n",
    "\n",
    "        # Throw out non-galaxy types (sky/calib star)\n",
    "        if objtype in ['SKY', 'FSTD']:\n",
    "            continue\n",
    "        else:\n",
    "            has_sn  = hdul[0].header['HAS_SN'] # flag indicating SN or not\n",
    "            Z    = hdul[0].header['REDSHIFT']  # redshift of the spectrum\n",
    "            mag  = hdul[0].header['MAG']       # magnitude of host galaxy\n",
    "            wave = hdul[1].data / (Z+1) # wavelength shifted to rest frame\n",
    "            if not has_sn:\n",
    "                flux = hdul[2].data * 1e-17 # gal fluxes aren't in units\n",
    "                sn_epoch = np.nan           # placeholder for empty epoch\n",
    "            else:\n",
    "                flux = hdul[2].data         # flux values\n",
    "                sn_epoch = hdul[0].header['SN_EPOCH'] # supernova epoch\n",
    "            ivar = hdul[3].data # inverse variance (in the flux)\n",
    "            # TODO: FIX IVAR UNIT HERE\n",
    "            \n",
    "            # Create a new table row\n",
    "            new_row = [specid, objtype, has_sn, sn_epoch, \n",
    "                       Z, mag, wave, flux, ivar]\n",
    "            \n",
    "            # And add it to the table\n",
    "            data.append(new_row)\n"
   ]
  },
  {
   "cell_type": "code",
   "execution_count": 6,
   "metadata": {},
   "outputs": [],
   "source": [
    "spec_df = pd.DataFrame(data=data, \n",
    "                      columns=('ID', 'OBJTYPE', 'HAS_SN', 'SN_EPOCH', \n",
    "                          'REDSHIFT', 'MAG', 'WAVE', 'FLUX', 'IVAR'))\n",
    "soec_table = Table.from_pandas(spec_df)"
   ]
  },
  {
   "cell_type": "code",
   "execution_count": 7,
   "metadata": {},
   "outputs": [
    {
     "ename": "ValueError",
     "evalue": "array-shape mismatch in array 6",
     "output_type": "error",
     "traceback": [
      "\u001b[0;31m---------------------------------------------------------------------------\u001b[0m",
      "\u001b[0;31mValueError\u001b[0m                                Traceback (most recent call last)",
      "\u001b[0;32m<ipython-input-7-73e0da19b391>\u001b[0m in \u001b[0;36m<module>\u001b[0;34m()\u001b[0m\n\u001b[1;32m      3\u001b[0m                           'REDSHIFT', 'MAG', 'WAVE', 'FLUX', 'IVAR'),\n\u001b[1;32m      4\u001b[0m                  dtype=('S23', 'S4', 'S5', float, \n\u001b[0;32m----> 5\u001b[0;31m                         float, float, list, list, list))\n\u001b[0m",
      "\u001b[0;32m/Users/ryanrubenzahl/Library/Python/2.7/lib/python/site-packages/astropy/table/table.pyc\u001b[0m in \u001b[0;36m__init__\u001b[0;34m(self, data, masked, names, dtype, meta, copy, rows, copy_indices, **kwargs)\u001b[0m\n\u001b[1;32m    312\u001b[0m                 \u001b[0mdata\u001b[0m \u001b[0;34m=\u001b[0m \u001b[0mrows\u001b[0m\u001b[0;34m\u001b[0m\u001b[0m\n\u001b[1;32m    313\u001b[0m             \u001b[0;32melse\u001b[0m\u001b[0;34m:\u001b[0m\u001b[0;34m\u001b[0m\u001b[0m\n\u001b[0;32m--> 314\u001b[0;31m                 \u001b[0mrec_data\u001b[0m \u001b[0;34m=\u001b[0m \u001b[0mrecarray_fromrecords\u001b[0m\u001b[0;34m(\u001b[0m\u001b[0mrows\u001b[0m\u001b[0;34m)\u001b[0m\u001b[0;34m\u001b[0m\u001b[0m\n\u001b[0m\u001b[1;32m    315\u001b[0m                 \u001b[0mdata\u001b[0m \u001b[0;34m=\u001b[0m \u001b[0;34m[\u001b[0m\u001b[0mrec_data\u001b[0m\u001b[0;34m[\u001b[0m\u001b[0mname\u001b[0m\u001b[0;34m]\u001b[0m \u001b[0;32mfor\u001b[0m \u001b[0mname\u001b[0m \u001b[0;32min\u001b[0m \u001b[0mrec_data\u001b[0m\u001b[0;34m.\u001b[0m\u001b[0mdtype\u001b[0m\u001b[0;34m.\u001b[0m\u001b[0mnames\u001b[0m\u001b[0;34m]\u001b[0m\u001b[0;34m\u001b[0m\u001b[0m\n\u001b[1;32m    316\u001b[0m \u001b[0;34m\u001b[0m\u001b[0m\n",
      "\u001b[0;32m/Users/ryanrubenzahl/Library/Python/2.7/lib/python/site-packages/astropy/table/np_utils.pyc\u001b[0m in \u001b[0;36mrecarray_fromrecords\u001b[0;34m(rec_list)\u001b[0m\n\u001b[1;32m    201\u001b[0m         \u001b[0mformats\u001b[0m\u001b[0;34m.\u001b[0m\u001b[0mappend\u001b[0m\u001b[0;34m(\u001b[0m\u001b[0mobj\u001b[0m\u001b[0;34m.\u001b[0m\u001b[0mdtype\u001b[0m\u001b[0;34m.\u001b[0m\u001b[0mstr\u001b[0m\u001b[0;34m)\u001b[0m\u001b[0;34m\u001b[0m\u001b[0m\n\u001b[1;32m    202\u001b[0m     \u001b[0mformats\u001b[0m \u001b[0;34m=\u001b[0m \u001b[0;34m','\u001b[0m\u001b[0;34m.\u001b[0m\u001b[0mjoin\u001b[0m\u001b[0;34m(\u001b[0m\u001b[0mformats\u001b[0m\u001b[0;34m)\u001b[0m\u001b[0;34m\u001b[0m\u001b[0m\n\u001b[0;32m--> 203\u001b[0;31m     \u001b[0;32mreturn\u001b[0m \u001b[0mnp\u001b[0m\u001b[0;34m.\u001b[0m\u001b[0mrec\u001b[0m\u001b[0;34m.\u001b[0m\u001b[0mfromarrays\u001b[0m\u001b[0;34m(\u001b[0m\u001b[0marray_list\u001b[0m\u001b[0;34m,\u001b[0m \u001b[0mformats\u001b[0m\u001b[0;34m=\u001b[0m\u001b[0mformats\u001b[0m\u001b[0;34m)\u001b[0m\u001b[0;34m\u001b[0m\u001b[0m\n\u001b[0m",
      "\u001b[0;32m/Users/ryanrubenzahl/Library/Python/2.7/lib/python/site-packages/numpy/core/records.pyc\u001b[0m in \u001b[0;36mfromarrays\u001b[0;34m(arrayList, dtype, shape, formats, names, titles, aligned, byteorder)\u001b[0m\n\u001b[1;32m    617\u001b[0m         \u001b[0mtestshape\u001b[0m \u001b[0;34m=\u001b[0m \u001b[0mobj\u001b[0m\u001b[0;34m.\u001b[0m\u001b[0mshape\u001b[0m\u001b[0;34m[\u001b[0m\u001b[0;34m:\u001b[0m\u001b[0mobj\u001b[0m\u001b[0;34m.\u001b[0m\u001b[0mndim\u001b[0m \u001b[0;34m-\u001b[0m \u001b[0mnn\u001b[0m\u001b[0;34m]\u001b[0m\u001b[0;34m\u001b[0m\u001b[0m\n\u001b[1;32m    618\u001b[0m         \u001b[0;32mif\u001b[0m \u001b[0mtestshape\u001b[0m \u001b[0;34m!=\u001b[0m \u001b[0mshape\u001b[0m\u001b[0;34m:\u001b[0m\u001b[0;34m\u001b[0m\u001b[0m\n\u001b[0;32m--> 619\u001b[0;31m             \u001b[0;32mraise\u001b[0m \u001b[0mValueError\u001b[0m\u001b[0;34m(\u001b[0m\u001b[0;34m\"array-shape mismatch in array %d\"\u001b[0m \u001b[0;34m%\u001b[0m \u001b[0mk\u001b[0m\u001b[0;34m)\u001b[0m\u001b[0;34m\u001b[0m\u001b[0m\n\u001b[0m\u001b[1;32m    620\u001b[0m \u001b[0;34m\u001b[0m\u001b[0m\n\u001b[1;32m    621\u001b[0m     \u001b[0m_array\u001b[0m \u001b[0;34m=\u001b[0m \u001b[0mrecarray\u001b[0m\u001b[0;34m(\u001b[0m\u001b[0mshape\u001b[0m\u001b[0;34m,\u001b[0m \u001b[0mdescr\u001b[0m\u001b[0;34m)\u001b[0m\u001b[0;34m\u001b[0m\u001b[0m\n",
      "\u001b[0;31mValueError\u001b[0m: array-shape mismatch in array 6"
     ]
    }
   ],
   "source": [
    "spec_table = Table(rows=data,\n",
    "                 names=('ID', 'OBJTYPE', 'HAS_SN', 'SN_EPOCH', \n",
    "                          'REDSHIFT', 'MAG', 'WAVE', 'FLUX', 'IVAR'),\n",
    "                 dtype=('S23', 'S4', 'S5', float, \n",
    "                        float, float, list, list, list))\n"
   ]
  },
  {
   "cell_type": "code",
   "execution_count": null,
   "metadata": {},
   "outputs": [],
   "source": []
  }
 ],
 "metadata": {
  "kernelspec": {
   "display_name": "Python 2",
   "language": "python",
   "name": "python2"
  },
  "language_info": {
   "codemirror_mode": {
    "name": "ipython",
    "version": 2
   },
   "file_extension": ".py",
   "mimetype": "text/x-python",
   "name": "python",
   "nbconvert_exporter": "python",
   "pygments_lexer": "ipython2",
   "version": "2.7.13"
  }
 },
 "nbformat": 4,
 "nbformat_minor": 2
}

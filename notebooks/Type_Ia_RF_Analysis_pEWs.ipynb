{
 "cells": [
  {
   "cell_type": "code",
   "execution_count": 1,
   "metadata": {},
   "outputs": [],
   "source": [
    "%matplotlib inline\n",
    "\n",
    "import os\n",
    "import glob\n",
    "\n",
    "import numpy as np\n",
    "import pandas as pd\n",
    "\n",
    "from astropy.io import fits\n",
    "from astropy.table import Table\n",
    "\n",
    "from desispec.interpolation import resample_flux\n",
    "\n",
    "from collections import Counter\n",
    "\n",
    "import matplotlib as mpl\n",
    "from matplotlib import pyplot as plt\n",
    "\n",
    "mpl.rc('font', family='serif', size=16)"
   ]
  },
  {
   "cell_type": "code",
   "execution_count": 2,
   "metadata": {},
   "outputs": [
    {
     "name": "stdout",
     "output_type": "stream",
     "text": [
      "bright_atpeak\n",
      "21000 total galaxies\n",
      "18900 total sn hosts\n",
      "\n",
      "dim_atpeak\n",
      "21000 total galaxies\n",
      "18900 total sn hosts\n",
      "\n",
      "very_faint_atpeak\n",
      "21000 total galaxies\n",
      "18900 total sn hosts\n",
      "\n",
      "faint_atpeak\n",
      "21000 total galaxies\n",
      "18900 total sn hosts\n",
      "\n"
     ]
    }
   ],
   "source": [
    "# Load in the data\n",
    "basedir = '/Users/ryanrubenzahl/Documents/DESI/my_outlier_detection/'\n",
    "specdir = 'galaxy_sim_catalog/spectra/'\n",
    "expid = 4\n",
    "\n",
    "fluxscaled_sne = ['bright_atpeak', 'dim_atpeak', \n",
    "                  'faint_atpeak', 'very_faint_atpeak']\n",
    "\n",
    "scaled_files = {}\n",
    "for sn_dir in fluxscaled_sne:\n",
    "             \n",
    "    gal_globpath = basedir + specdir + 'galaxies/*expid%03d*.fits' % expid\n",
    "    sn_globpath  = basedir + specdir + sn_dir + '/*expid%03d*.fits'% expid\n",
    "\n",
    "    # Galaxies without supernovae\n",
    "    gal_files = glob.glob(gal_globpath)\n",
    "    # Galaxies with supernovae\n",
    "    sn_host_files = glob.glob(sn_globpath)\n",
    "\n",
    "    scaled_files[sn_dir] = {'galaxies': gal_files,\n",
    "                            'sn_hosts': sn_host_files}\n",
    "\n",
    "for sn_dir in scaled_files:\n",
    "    \n",
    "    print sn_dir\n",
    "    print len(scaled_files[sn_dir]['galaxies']), \"total galaxies\"\n",
    "    print len(scaled_files[sn_dir]['sn_hosts']), \"total sn hosts\"\n",
    "    print"
   ]
  },
  {
   "cell_type": "markdown",
   "metadata": {},
   "source": [
    "## Read in the data to an astropy table"
   ]
  },
  {
   "cell_type": "code",
   "execution_count": 3,
   "metadata": {},
   "outputs": [],
   "source": [
    "spec_tables = {}\n",
    "\n",
    "for sn_dir in scaled_files:\n",
    "    gal_files     = scaled_files[sn_dir]['galaxies']\n",
    "    sn_host_files = scaled_files[sn_dir]['sn_hosts']\n",
    "    all_files = np.append(gal_files, sn_host_files)\n",
    "    \n",
    "    data = []\n",
    "\n",
    "    for n, f in enumerate(all_files):\n",
    "\n",
    "        # Read the fits file\n",
    "        with fits.open(f, memmap=0) as hdul:\n",
    "\n",
    "            specid  = os.path.basename(f)[8:31] # Spectra ID tag\n",
    "            objtype = hdul[0].header['OBJTYPE'] # Object type (e.g. BGS)\n",
    "\n",
    "            # Throw out non-galaxy types (sky/calib star)\n",
    "            if objtype in ['SKY', 'FSTD']:\n",
    "                continue\n",
    "            else:\n",
    "                has_sn  = hdul[0].header['HAS_SN'] # SN or not\n",
    "                Z    = hdul[0].header['REDSHIFT']  # z of the spectrum\n",
    "                mag  = hdul[0].header['MAG']       # m of host galaxy\n",
    "                wave = hdul[1].data / (Z+1) # wavelength in rest frame\n",
    "                if not has_sn:\n",
    "                    flux = hdul[2].data * 1e-17 # match flux units\n",
    "                    sn_epoch = np.nan           # if empty epoch\n",
    "                else:\n",
    "                    flux = hdul[2].data         # flux values\n",
    "                    sn_epoch = hdul[0].header['SN_EPOCH'] # SN epoch\n",
    "                ivar = hdul[3].data # inverse variance (in the flux)\n",
    "                # TODO: FIX IVAR UNIT HERE\n",
    "\n",
    "                # Create a new table row\n",
    "                new_row = [specid, objtype, has_sn, sn_epoch, \n",
    "                           Z, mag, wave, flux, ivar]\n",
    "\n",
    "                # And add it to the table\n",
    "                data.append(new_row)\n",
    "\n",
    "    spec_df = pd.DataFrame(data=data, \n",
    "                          columns=('ID', 'OBJTYPE', 'HAS_SN', 'SN_EPOCH', \n",
    "                              'REDSHIFT', 'MAG', 'WAVE', 'FLUX', 'IVAR'))\n",
    "    spec_table = Table.from_pandas(spec_df)\n",
    "    \n",
    "    spec_tables[sn_dir] = spec_table"
   ]
  },
  {
   "cell_type": "markdown",
   "metadata": {},
   "source": [
    "## Eigenspectra Analysis"
   ]
  },
  {
   "cell_type": "code",
   "execution_count": 4,
   "metadata": {},
   "outputs": [],
   "source": [
    "# Read in the eigenbasis\n",
    "eigentable = np.genfromtxt(basedir + 'galaxy_sim_catalog/eigenspectra.txt')\n",
    "\n",
    "global_wavelength_grid = eigentable[0]\n",
    "eigenspectra = eigentable[1:]"
   ]
  },
  {
   "cell_type": "code",
   "execution_count": 5,
   "metadata": {},
   "outputs": [],
   "source": [
    "# Resample spectra to a common wavelength grid\n",
    "for sn_dir in spec_tables:\n",
    "    spec_table = spec_tables[sn_dir]\n",
    "    \n",
    "    resample_fluxes = []\n",
    "    resample_ivars  = []\n",
    "    for spectra in spec_table:\n",
    "        spec_flux_resample, spec_ivar_resample = resample_flux(\n",
    "                                 global_wavelength_grid, \n",
    "                                 spectra['WAVE'], \n",
    "                                 spectra['FLUX'],\n",
    "                                 ivar=spectra['IVAR'], \n",
    "                                 extrapolate=False\n",
    "                                )\n",
    "        resample_fluxes.append(spec_flux_resample)\n",
    "        resample_ivars.append(spec_ivar_resample)\n",
    "\n",
    "    spec_table['RESAMPLED_FLUX'] = resample_fluxes\n",
    "    spec_table['RESAMPLED_IVAR'] = resample_ivars"
   ]
  },
  {
   "cell_type": "code",
   "execution_count": 6,
   "metadata": {},
   "outputs": [],
   "source": [
    "# Loop through the spectra and calculate the\n",
    "# continuum flux using an eigenspectra fit\n",
    "for sn_dir in spec_tables:\n",
    "    spec_table = spec_tables[sn_dir]\n",
    "    \n",
    "    continuum_fluxes = []\n",
    "    for spectra in spec_table:    \n",
    "        # Project/fit the basis to the spectrum\n",
    "        basis_fit     = np.dot(np.linalg.pinv(eigenspectra.T), \n",
    "                               spectra['RESAMPLED_FLUX'])\n",
    "        bestfit_flux  = np.dot(basis_fit, eigenspectra)\n",
    "\n",
    "        continuum_fluxes.append(bestfit_flux)\n",
    "\n",
    "    spec_table['CONTINUUM_FLUX'] = continuum_fluxes"
   ]
  },
  {
   "cell_type": "markdown",
   "metadata": {},
   "source": [
    "## Measure amplitudes of features"
   ]
  },
  {
   "cell_type": "markdown",
   "metadata": {},
   "source": [
    "Table of feature boundaries in type Ia supernova spectra\n",
    "\n",
    "from https://arxiv.org/pdf/1011.6227.pdf\n",
    "\n",
    "| Feature | Dominating line | Lower region (centre A) | Upper region (centre A) | Rest wavelength (A) |\n",
    "|---------||----------------|-------------------------||---------------|\n",
    "|f1 | Ca II H&K           | 3450 - 3800 | 3800 - 4100 | 3945.12 |\n",
    "|f2 | Si II $\\lambda$4000 | 3800 - 3950 | 4000 - 4200 | 4129.73 |\n",
    "|f3 | Mg II $\\lambda$4300 | 3850 - 4250 | 4300 - 4700 | 4481.20 |\n",
    "|f4 | Fe II $\\lambda$4800 | 4300 - 4700 | 4950 - 5600 | 5083.42 |\n",
    "|f5 | S II W              | 5050 - 5300 | 5500 - 5750 | 5536.24 |\n",
    "|f6 | Si II $\\lambda$5800 | 5400 - 5700 | 5800 - 6000 | 6007.70 |\n",
    "|f7 | Si II $\\lambda$6150 | 5800 - 6100 | 6200 - 6600 | 6355.21 |"
   ]
  },
  {
   "cell_type": "code",
   "execution_count": 7,
   "metadata": {},
   "outputs": [],
   "source": [
    "features = {\n",
    "#   id     center    lower region    upper region\n",
    "    \"f1\": [3800, [3450, 3800], [3800, 4000]],\n",
    "    \"f2\": [4000, [3900, 3950], [4050, 4200]],\n",
    "    \"f3\": [4300, [4000, 4250], [4300, 4700]],\n",
    "    \"f4\": [4800, [4300, 4700], [4950, 5600]],\n",
    "    \"f5\": [5475, [5050, 5300], [5500, 5750]],\n",
    "    \"f6\": [5800, [5400, 5700], [5800, 6000]],\n",
    "    \"f7\": [6150, [5900, 6100], [6200, 6500]],\n",
    "}\n",
    "# features = {\n",
    "# #   id     center    min    max\n",
    "#     \"f1\": [3800, 3700, 3900],\n",
    "#     \"f2\": [4000, 3950, 4100],\n",
    "#     \"f3\": [4300, 4200, 4400],\n",
    "#     \"f4\": [4850, 4700, 5000],\n",
    "#     \"f5\": [5475, 5400, 5550],\n",
    "#     \"f6\": [5800, 5750, 5850],\n",
    "#     \"f7\": [6150, 6000, 6300],\n",
    "# }\n",
    "featurenames = {\n",
    "#   id     center    min    max\n",
    "    \"f1\": \"Ca II H&K\",\n",
    "    \"f2\": \"Si II $\\lambda$4000\",\n",
    "    \"f3\": \"Mg II $\\lambda$4300\",\n",
    "    \"f4\": \"Fe II $\\lambda$4800\",\n",
    "    \"f5\": \"S II W\",\n",
    "    \"f6\": \"Si II $\\lambda$5800\",\n",
    "    \"f7\": \"Si II $\\lambda$6150\",\n",
    "}"
   ]
  },
  {
   "cell_type": "code",
   "execution_count": 8,
   "metadata": {},
   "outputs": [],
   "source": [
    "def lowPassFilter(signal, fc, b):\n",
    "    N = int(np.ceil((4 / b)))\n",
    "    if not N % 2:\n",
    "        N += 1\n",
    "    n = np.arange(N)\n",
    "    sinc_func = np.sinc(2 * fc * (n - (N - 1) / 2.))\n",
    "    w1 = 0.42 - 0.5 * np.cos(2 * np.pi * n / (N - 1))\n",
    "    window = w1 + 0.08 * np.cos(4 * np.pi * n / (N - 1))\n",
    "    sinc_func = sinc_func * window\n",
    "    sinc_func = sinc_func / np.sum(sinc_func)\n",
    "    return N, np.convolve(signal, sinc_func)\n",
    "\n",
    "def highPassFilter(signal, fc, b):\n",
    "    N = int(np.ceil((4 / b)))\n",
    "    if not N % 2:\n",
    "        N += 1\n",
    "    n = np.arange(N)\n",
    " \n",
    "    sinc_func = np.sinc(2 * fc * (n - (N - 1) / 2.))\n",
    "    window = np.blackman(N)\n",
    "    sinc_func = sinc_func * window\n",
    "    sinc_func = sinc_func / np.sum(sinc_func)\n",
    "\n",
    "    # reverse function\n",
    "    sinc_func = -sinc_func\n",
    "    sinc_func[(N - 1) // 2] += 1\n",
    "\n",
    "    return N, np.convolve(signal, sinc_func)"
   ]
  },
  {
   "cell_type": "code",
   "execution_count": 9,
   "metadata": {},
   "outputs": [],
   "source": [
    "def get_feature_box(feature, spectrum):\n",
    "    \n",
    "    flux = spectrum['RESAMPLED_FLUX'] \n",
    "    lowercut = ((global_wavelength_grid > feature[1][0]) &\n",
    "                    (global_wavelength_grid < feature[1][1]))\n",
    "    uppercut = ((global_wavelength_grid > feature[2][0]) &\n",
    "                    (global_wavelength_grid < feature[2][1]))\n",
    "    \n",
    "    lowerregion = global_wavelength_grid[lowercut]\n",
    "    upperregion = global_wavelength_grid[uppercut]\n",
    "    \n",
    "#     lowerregion_flux = flux[lowercut]\n",
    "#     upperregion_flux = flux[uppercut]\n",
    "    \n",
    "    # Using low pass filters\n",
    "    fc, b = 0.01, 0.01\n",
    "    N, lpf = lowPassFilter(flux, fc=fc, b=b)\n",
    "    dN = (N-1) // 2\n",
    "    lpf = lpf[dN:-dN]\n",
    "    \n",
    "    lowerregion_flux = lpf[lowercut]\n",
    "    upperregion_flux = lpf[uppercut]\n",
    "\n",
    "    lowerbound = lowerregion[np.argmax(lowerregion_flux)]\n",
    "    upperbound = upperregion[np.argmax(upperregion_flux)]\n",
    "        \n",
    "    featurecut = ((global_wavelength_grid > lowerbound) &\n",
    "                    (global_wavelength_grid < upperbound))\n",
    "    \n",
    "    feature_wave = global_wavelength_grid[featurecut]\n",
    "    feature_flux = lpf[featurecut] # flux[featurecut]\n",
    "    \n",
    "    # Define the pseudo-continuum\n",
    "    fluxdiff = (feature_flux[-1] - feature_flux[0])\n",
    "    waverange = (upperbound - lowerbound)\n",
    "    slope = fluxdiff / waverange\n",
    "    \n",
    "    pseudo_continuum = feature_flux[0]+slope*(feature_wave-lowerbound)\n",
    "\n",
    "    return [feature_wave, feature_flux, pseudo_continuum], lpf\n",
    "\n"
   ]
  },
  {
   "cell_type": "code",
   "execution_count": 10,
   "metadata": {},
   "outputs": [],
   "source": [
    "def get_pEW(feature, spectrum):\n",
    "    \n",
    "    # Get the bounding box to calculate the pEW in\n",
    "    feature_box, lpf = get_feature_box(feature, spectrum)\n",
    "    feature_wave, feature_flux, pseudo_continuum = feature_box\n",
    "    \n",
    "    pEW = np.sum(1. - feature_flux/pseudo_continuum)    \n",
    "    \n",
    "    return pEW"
   ]
  },
  {
   "cell_type": "code",
   "execution_count": 11,
   "metadata": {
    "scrolled": false
   },
   "outputs": [],
   "source": [
    "for sn_dir in spec_tables:\n",
    "    spec_table = spec_tables[sn_dir]\n",
    "    \n",
    "    pEW_features = []\n",
    "    for spectrum in spec_table:\n",
    "        pEWs = []\n",
    "        gaussian_amplitudes = []\n",
    "        for fn in sorted(features.keys()):\n",
    "            feature = features[fn]\n",
    "            pEW = get_pEW(feature, spectrum)\n",
    "            pEWs.append(pEW)\n",
    "\n",
    "        pEW_features.append(pEWs)\n",
    "\n",
    "    spec_table['pEW_FEATURES'] = pEW_features\n"
   ]
  },
  {
   "cell_type": "markdown",
   "metadata": {},
   "source": [
    "## Organize data for classification"
   ]
  },
  {
   "cell_type": "code",
   "execution_count": 12,
   "metadata": {},
   "outputs": [],
   "source": [
    "import pandas as pd\n",
    "from sklearn.ensemble import RandomForestClassifier"
   ]
  },
  {
   "cell_type": "code",
   "execution_count": 13,
   "metadata": {},
   "outputs": [],
   "source": [
    "datatables = {}\n",
    "\n",
    "for sn_dir in spec_tables:\n",
    "    spec_table = spec_tables[sn_dir]\n",
    "    \n",
    "    # Load feature values into one overall table\n",
    "    # each column = one feature\n",
    "    table  = []\n",
    "    names  = []\n",
    "    dtypes = []\n",
    "\n",
    "    num_features = len(features)\n",
    "\n",
    "    for spec in spec_table:\n",
    "        tablerow = np.append(spec['pEW_FEATURES'], spec['HAS_SN'])\n",
    "        table.append(tablerow)\n",
    "\n",
    "    for i in range(1,num_features+1):\n",
    "        names.append(\"f%d\" % i)\n",
    "        dtypes.append(np.float32)\n",
    "\n",
    "    names.append('HAS_SN')\n",
    "    dtypes.append('S')\n",
    "\n",
    "    data = Table(rows=table, names=names, dtype=dtypes)\n",
    "    \n",
    "    datatables[sn_dir] = data"
   ]
  },
  {
   "cell_type": "markdown",
   "metadata": {},
   "source": [
    "## Run random forest classifier on featureset"
   ]
  },
  {
   "cell_type": "code",
   "execution_count": 25,
   "metadata": {},
   "outputs": [],
   "source": [
    "def rf_cross_validate(data, n=1000):\n",
    "    \n",
    "    clf_list = []\n",
    "    truth_list = []\n",
    "    preds_list = []\n",
    "    \n",
    "    for i in range(n):\n",
    "        df = data.to_pandas()\n",
    "\n",
    "        df['is_train'] = np.random.uniform(0, 1, len(df)) <= 0.75\n",
    "\n",
    "        # We now split the dataframes into a test and training dataset\n",
    "        train, test = df[df['is_train']==True], df[df['is_train']==False]\n",
    "#         print 'Number of observations in the training data:', len(train)\n",
    "#         print 'Number of observations in the test data:',len(test)\n",
    "\n",
    "        train_count = Counter(train['HAS_SN'])\n",
    "        test_count  = Counter(test['HAS_SN'])\n",
    "\n",
    "        trainstr = \"\"\n",
    "        for k in train_count.keys():\n",
    "            trainstr += \"%s %d,\" % (k, train_count[k])\n",
    "#         print \"Training set: %d: (%s)\" % (len(train), trainstr)\n",
    "\n",
    "        teststr = \"\"\n",
    "        for k in test_count.keys():\n",
    "            teststr += \"%s %d,\" % (k, test_count[k])\n",
    "#         print \"Training set: %d: (%s)\" % (len(test), teststr)\n",
    "\n",
    "        rf_features = df.columns[:-2]\n",
    "        rf_features\n",
    "\n",
    "        y, objtypes = pd.factorize(train['HAS_SN'])\n",
    "\n",
    "        # Now we train the random forest\n",
    "        clf = RandomForestClassifier(n_jobs=1, \n",
    "                                     random_state=0,\n",
    "                                     verbose=0)\n",
    "\n",
    "        clf.fit(train[rf_features], y)\n",
    "\n",
    "        # Apply the classifier to the test data\n",
    "        preds = [objtypes[i] for i in clf.predict(test[rf_features])]\n",
    "        truth = np.asarray(test['HAS_SN'])\n",
    "        \n",
    "        clf_list.append(clf)\n",
    "        truth_list.append(truth)\n",
    "        preds_list.append(np.asarray(preds))\n",
    "    \n",
    "    return clf_list, truth_list, preds_list"
   ]
  },
  {
   "cell_type": "code",
   "execution_count": 26,
   "metadata": {},
   "outputs": [
    {
     "name": "stdout",
     "output_type": "stream",
     "text": [
      "bright_atpeak done\n",
      "dim_atpeak done\n",
      "very_faint_atpeak done\n",
      "faint_atpeak done\n"
     ]
    }
   ],
   "source": [
    "rf_classifiers = {}\n",
    "predictions = {}\n",
    "actuals     = {}\n",
    "\n",
    "for sn_dir in datatables:\n",
    "    \n",
    "    data = datatables[sn_dir]\n",
    "    \n",
    "    clf, truth, preds = rf_cross_validate(data)\n",
    "    \n",
    "    rf_classifiers[sn_dir] = clf\n",
    "    predictions[sn_dir] = preds\n",
    "    actuals[sn_dir]     = truth\n",
    "    \n",
    "    print sn_dir, \"done\""
   ]
  },
  {
   "cell_type": "code",
   "execution_count": 43,
   "metadata": {},
   "outputs": [],
   "source": [
    "from pandas_ml import ConfusionMatrix\n",
    "\n",
    "# Check on the output of the confusion matrices\n",
    "sn_dir = datatables.keys()[0]\n",
    "test_cm_list  = [ConfusionMatrix(a, p) for (a, p) in zip(actuals[sn_dir], predictions[sn_dir])]\n",
    "test_acc_list = [cm.ACC for cm in test_cm_list]\n",
    "\n",
    "# cm.print_stats()"
   ]
  },
  {
   "cell_type": "code",
   "execution_count": 44,
   "metadata": {},
   "outputs": [
    {
     "name": "stdout",
     "output_type": "stream",
     "text": [
      "mean: 0.99994836078\n",
      "84th: 1.0\n",
      "16th: 0.999893454709\n"
     ]
    },
    {
     "data": {
      "text/plain": [
       "[<matplotlib.text.Text at 0x854064ed0>]"
      ]
     },
     "execution_count": 44,
     "metadata": {},
     "output_type": "execute_result"
    },
    {
     "data": {
      "image/png": "[encoded data removed]",
      "text/plain": [
       "<matplotlib.figure.Figure at 0x854000710>"
      ]
     },
     "metadata": {},
     "output_type": "display_data"
    }
   ],
   "source": [
    "fig, ax = plt.subplots(1,1, figsize=(6,4))\n",
    "ax.hist(test_acc_list)\n",
    "\n",
    "mu  = np.mean(test_acc_list)\n",
    "upper = np.percentile(test_acc_list, 84)\n",
    "lower = np.percentile(test_acc_list, 16)\n",
    "print \"mean:\", mu\n",
    "print \"84th:\", upper\n",
    "print \"16th:\", lower\n",
    "\n",
    "ax.axvline(mu, color='k', ls='-')\n",
    "ax.axvline(lower, color='k', ls='--')\n",
    "ax.axvline(upper, color='k', ls='--')\n",
    "ax.set(title='Accuracy of RF in zbin %d' % testn)"
   ]
  },
  {
   "cell_type": "code",
   "execution_count": 45,
   "metadata": {},
   "outputs": [],
   "source": [
    "# Calculate the confusion matrix for each zbin's predictions\n",
    "cm_list = {}\n",
    "for sn_dir in datatables.keys():\n",
    "    cm_list[sn_dir] = [ConfusionMatrix(a, p) for (a, p) in zip(actuals[sn_dir], predictions[sn_dir])]\n"
   ]
  },
  {
   "cell_type": "code",
   "execution_count": 46,
   "metadata": {},
   "outputs": [
    {
     "data": {
      "text/plain": [
       "Predicted   0.0    Ia  __all__\n",
       "Actual                        \n",
       "0.0        4767     0     4767\n",
       "Ia            0  4823     4823\n",
       "__all__    4767  4823     9590"
      ]
     },
     "execution_count": 46,
     "metadata": {},
     "output_type": "execute_result"
    }
   ],
   "source": [
    "# Check the results, should match tests from above\n",
    "cm_list['bright_atpeak'][23]"
   ]
  },
  {
   "cell_type": "code",
   "execution_count": 49,
   "metadata": {},
   "outputs": [],
   "source": [
    "RF_stats = {'ACC': [],\n",
    "            'TPR': [],\n",
    "            'TNR': [],\n",
    "            'FPR': [],\n",
    "            'FNR': [],\n",
    "            }\n",
    "\n",
    "for sn_dir in fluxscaled_sne:\n",
    "    \n",
    "    acc_list = [cm.ACC for cm in cm_list[sn_dir]]\n",
    "    acc_mean = np.mean(acc_list)\n",
    "    RF_stats['ACC'].append([acc_mean, \n",
    "                              acc_mean - np.percentile(acc_list, 16),\n",
    "                              np.percentile(acc_list, 84) - acc_mean])\n",
    "    \n",
    "    tpr_list = [cm.TPR for cm in cm_list[sn_dir]]\n",
    "    tpr_mean = np.mean(tpr_list)\n",
    "    RF_stats['TPR'].append([tpr_mean, \n",
    "                              tpr_mean - np.percentile(tpr_list, 16),\n",
    "                              np.percentile(tpr_list, 84) - tpr_mean])\n",
    "    \n",
    "    tnr_list = [cm.TNR for cm in cm_list[sn_dir]]\n",
    "    tnr_mean = np.mean(tnr_list),\n",
    "    RF_stats['TNR'].append([tnr_mean, \n",
    "                              tnr_mean - np.percentile(tnr_list, 16),\n",
    "                              np.percentile(tnr_list, 84) - tnr_mean])\n",
    "    \n",
    "    fpr_list = [cm.FPR for cm in cm_list[sn_dir]]\n",
    "    fpr_mean = np.mean(fpr_list)\n",
    "    RF_stats['FPR'].append([fpr_mean, \n",
    "                              fpr_mean - np.percentile(fpr_list, 16),\n",
    "                              np.percentile(fpr_list, 84) - fpr_mean])\n",
    "    \n",
    "    fnr_list = [cm.FNR for cm in cm_list[sn_dir]]\n",
    "    fnr_mean = np.mean(fnr_list)\n",
    "    RF_stats['FNR'].append([np.mean(fnr_list), \n",
    "                              fnr_mean - np.percentile(fnr_list, 16),\n",
    "                              np.percentile(fnr_list, 84) - fnr_mean])\n",
    "    \n",
    "for stat in RF_stats:\n",
    "    RF_stats[stat] = np.asarray(RF_stats[stat])"
   ]
  },
  {
   "cell_type": "code",
   "execution_count": 57,
   "metadata": {},
   "outputs": [
    {
     "data": {
      "image/png": "[encoded data removed]",
      "text/plain": [
       "<matplotlib.figure.Figure at 0x7e2f156d0>"
      ]
     },
     "metadata": {},
     "output_type": "display_data"
    }
   ],
   "source": [
    "fig, ax = plt.subplots(1,1, figsize=(8,4))\n",
    "\n",
    "labels = ['Bright', 'Dim', 'Faint', 'Very Faint']\n",
    "\n",
    "ax.errorbar(range(len(fluxscaled_sne)), RF_stats['ACC'][:,0]*100,\n",
    "            yerr=[RF_stats['ACC'][:,1]*100, RF_stats['ACC'][:,2]*100],\n",
    "            capsize=3, color='k', lw=2, label='Accuracy')\n",
    "\n",
    "ax.errorbar(range(len(fluxscaled_sne)), RF_stats['TPR'][:,0]*100,\n",
    "        yerr=[RF_stats['TPR'][:,1]*100, RF_stats['TPR'][:,2]*100],\n",
    "            capsize=3, color='g', lw=2, label='TPR')\n",
    "\n",
    "ax.errorbar(range(len(fluxscaled_sne)), RF_stats['TNR'][:,0]*100,\n",
    "        yerr=[RF_stats['TNR'][:,1]*100, RF_stats['TNR'][:,2]*100],\n",
    "            capsize=3, color='b', lw=2, label='TNR')\n",
    "\n",
    "ax.errorbar(range(len(fluxscaled_sne)), RF_stats['FPR'][:,0]*100,\n",
    "        yerr=[RF_stats['FPR'][:,1]*100, RF_stats['FPR'][:,2]*100],\n",
    "            capsize=3, color='r', lw=2, label='FPR')\n",
    "\n",
    "ax.errorbar(range(len(fluxscaled_sne)), RF_stats['FNR'][:,0]*100, \n",
    "        yerr=[RF_stats['FNR'][:,1]*100, RF_stats['FNR'][:,2]*100],\n",
    "            capsize=3, color='m', lw=2, label='FNR')\n",
    "\n",
    "\n",
    "# Lables and stuff\n",
    "ax.set(ylabel='Percent', ylim=[0,100],\n",
    "       xticks=range(len(fluxscaled_sne)), xticklabels=labels)\n",
    "\n",
    "ax.legend(loc='center', bbox_to_anchor=(0.5, 1.08), ncol=5, fontsize=12)\n",
    "# ax.legend(loc='center left', bbox_to_anchor=(1, 0.5))\n",
    "\n",
    "savedir = '/Users/ryanrubenzahl/Library/Ryan/College/Senior Thesis/'\n",
    "savedir += 'thesis/Figures/'\n",
    "\n",
    "# plt.savefig(savedir + 'ratioscaling_stats.png',\n",
    "#            format='png', dpi=300, bbox_inches='tight')"
   ]
  },
  {
   "cell_type": "code",
   "execution_count": 62,
   "metadata": {},
   "outputs": [
    {
     "name": "stdout",
     "output_type": "stream",
     "text": [
      "ACC\n",
      "bright_atpeak & $99.9948^{+0.0055}_{-0.0052}$\n",
      "dim_atpeak & $99.9619^{+0.0155}_{-0.0171}$\n",
      "faint_atpeak & $94.8963^{+0.2009}_{-0.2142}$\n",
      "very_faint_atpeak & $49.1067^{+0.4505}_{-0.4563}$\n",
      "FPR\n",
      "bright_atpeak & $0.0103^{+0.0103}_{-0.0111}$\n",
      "dim_atpeak & $0.0390^{+0.0184}_{-0.0250}$\n",
      "faint_atpeak & $4.3992^{+0.3034}_{-0.3068}$\n",
      "very_faint_atpeak & $42.5486^{+0.7580}_{-0.7891}$\n",
      "FNR\n",
      "bright_atpeak & $0.0000^{+0.0000}_{--0.0000}$\n",
      "dim_atpeak & $0.0372^{+0.0372}_{-0.0265}$\n",
      "faint_atpeak & $5.8083^{+0.3613}_{-0.3539}$\n",
      "very_faint_atpeak & $59.2273^{+0.7316}_{-0.7558}$\n",
      "TPR\n",
      "bright_atpeak & $100.0000^{+-0.0000}_{-0.0000}$\n",
      "dim_atpeak & $99.9628^{+0.0265}_{-0.0372}$\n",
      "faint_atpeak & $94.1917^{+0.3539}_{-0.3613}$\n",
      "very_faint_atpeak & $40.7727^{+0.7558}_{-0.7316}$\n",
      "TNR\n",
      "bright_atpeak & $99.9897^{+0.0111}_{-0.0103}$\n",
      "dim_atpeak & $99.9610^{+0.0250}_{-0.0184}$\n",
      "faint_atpeak & $95.6008^{+0.3068}_{-0.3034}$\n",
      "very_faint_atpeak & $57.4514^{+0.7891}_{-0.7580}$\n"
     ]
    }
   ],
   "source": [
    "for stat in RF_stats:\n",
    "    print stat\n",
    "    for i, sn_dir in enumerate(fluxscaled_sne):\n",
    "        print \"%s & $%.4f^{+%.4f}_{-%.4f}$\" % (sn_dir, \n",
    "                                              RF_stats[stat][i][0]*100,\n",
    "                                              RF_stats[stat][i][1]*100,\n",
    "                                              RF_stats[stat][i][2]*100)"
   ]
  },
  {
   "cell_type": "code",
   "execution_count": 31,
   "metadata": {
    "collapsed": true
   },
   "outputs": [
    {
     "data": {
      "image/png": "[encoded data removed]",
      "text/plain": [
       "<matplotlib.figure.Figure at 0x1263e4210>"
      ]
     },
     "metadata": {},
     "output_type": "display_data"
    },
    {
     "data": {
      "image/png": "[encoded data removed]",
      "text/plain": [
       "<matplotlib.figure.Figure at 0x1266f49d0>"
      ]
     },
     "metadata": {},
     "output_type": "display_data"
    },
    {
     "data": {
      "image/png": "[encoded data removed]",
      "text/plain": [
       "<matplotlib.figure.Figure at 0x1268a6190>"
      ]
     },
     "metadata": {},
     "output_type": "display_data"
    },
    {
     "data": {
      "image/png": "[encoded data removed]",
      "text/plain": [
       "<matplotlib.figure.Figure at 0x126841210>"
      ]
     },
     "metadata": {},
     "output_type": "display_data"
    }
   ],
   "source": [
    "feature_importances = {}\n",
    "\n",
    "for sn_dir in fluxscaled_sne:\n",
    "    clfs = rf_classifiers[sn_dir]\n",
    "    \n",
    "    feature_scores = np.array([clf.feature_importances_ for clf in clfs])\n",
    "    \n",
    "    feature_importances[sn_dir] = [np.mean(feature_scores, axis=0),\n",
    "                                   np.std(feature_scores, ddof=1, axis=0)]"
   ]
  },
  {
   "cell_type": "code",
   "execution_count": null,
   "metadata": {},
   "outputs": [],
   "source": [
    "fig, ax = plt.subplots(1,1, figsize=(10,5))\n",
    "\n",
    "# Label line\n",
    "labels = ['Bright', 'Dim', 'Faint', 'Very Faint']\n",
    "width = 0.5\n",
    "for i, sn_dir in enumerate(fluxscaled_sne):\n",
    "    nfeatures = len(feature_importances[sn_dir][0])\n",
    "    x = np.linspace(1, 3*nfeatures, nfeatures) + i*width\n",
    "    ax.bar(x, feature_importances[sn_dir][0],\n",
    "               yerr=feature_importances[sn_dir][1],\n",
    "               width=width, align='edge',\n",
    "               capsize=3, ecolor='k', label=labels[i])\n",
    "\n",
    "ax.set(xlabel='Feature',\n",
    "       ylabel='Relative Importance',\n",
    "       xticks=x, xticklabels=range(1, nfeatures+1),\n",
    "#        ylim=[0, 0.45], \n",
    "       title='pEW Feature-set')\n",
    "ax.legend(loc='upper right')\n",
    "fig.tight_layout()\n",
    "\n",
    "# plt.savefig(savedir + 'pEW_feature_importances.png',\n",
    "#             format='png', dpi=300, bbox_inches='tight')"
   ]
  },
  {
   "cell_type": "code",
   "execution_count": null,
   "metadata": {},
   "outputs": [],
   "source": []
  }
 ],
 "metadata": {
  "kernelspec": {
   "display_name": "Python 2",
   "language": "python",
   "name": "python2"
  },
  "language_info": {
   "codemirror_mode": {
    "name": "ipython",
    "version": 2
   },
   "file_extension": ".py",
   "mimetype": "text/x-python",
   "name": "python",
   "nbconvert_exporter": "python",
   "pygments_lexer": "ipython2",
   "version": "2.7.13"
  }
 },
 "nbformat": 4,
 "nbformat_minor": 2
}

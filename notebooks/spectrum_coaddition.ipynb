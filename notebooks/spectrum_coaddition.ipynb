{
 "cells": [
  {
   "cell_type": "code",
   "execution_count": 25,
   "metadata": {},
   "outputs": [],
   "source": [
    "%matplotlib inline\n",
    "\n",
    "import os\n",
    "import numpy as np\n",
    "\n",
    "import matplotlib as mpl\n",
    "import matplotlib.pyplot as plt\n",
    "\n",
    "from astropy.io import fits\n",
    "from astropy.table import Table\n",
    "\n",
    "mpl.rc('font', family='serif', size=16)"
   ]
  },
  {
   "cell_type": "code",
   "execution_count": 2,
   "metadata": {},
   "outputs": [
    {
     "name": "stderr",
     "output_type": "stream",
     "text": [
      "/Users/ryanrubenzahl/Library/Python/2.7/lib/python/site-packages/matplotlib/__init__.py:1405: UserWarning: \n",
      "This call to matplotlib.use() has no effect because the backend has already\n",
      "been chosen; matplotlib.use() must be called *before* pylab, matplotlib.pyplot,\n",
      "or matplotlib.backends is imported for the first time.\n",
      "\n",
      "  warnings.warn(_use_error_msg)\n"
     ]
    }
   ],
   "source": [
    "import desispec.io\n",
    "import desisim.io\n",
    "from desisim.obs import new_exposure\n",
    "from desisim.scripts import quickgen\n",
    "from desispec.scripts import group_spectra"
   ]
  },
  {
   "cell_type": "code",
   "execution_count": 3,
   "metadata": {},
   "outputs": [
    {
     "name": "stdout",
     "output_type": "stream",
     "text": [
      "Populating the interactive namespace from numpy and matplotlib\n"
     ]
    }
   ],
   "source": [
    "%pylab inline"
   ]
  },
  {
   "cell_type": "code",
   "execution_count": 4,
   "metadata": {},
   "outputs": [],
   "source": [
    "def check_env():\n",
    "    for env in ('DESIMODEL', 'DESI_ROOT', 'DESI_SPECTRO_SIM', 'DESI_SPECTRO_DATA', \n",
    "            'DESI_SPECTRO_REDUX', 'SPECPROD', 'PIXPROD'):\n",
    "        if env in os.environ:\n",
    "            print('{} environment set to {}'.format(env, os.getenv(env)))\n",
    "        else:\n",
    "            print('Required environment variable {} not set!'.format(env))"
   ]
  },
  {
   "cell_type": "code",
   "execution_count": 5,
   "metadata": {},
   "outputs": [
    {
     "name": "stdout",
     "output_type": "stream",
     "text": [
      "DESIMODEL environment set to /Users/ryanrubenzahl/Documents/DESI/code//desimodel\n",
      "DESI_ROOT environment set to /Users/ryanrubenzahl/Documents/DESI\n",
      "DESI_SPECTRO_SIM environment set to /Users/ryanrubenzahl/Documents/DESI/spectro/sim\n",
      "DESI_SPECTRO_DATA environment set to /Users/ryanrubenzahl/Documents/DESI/spectro/data\n",
      "DESI_SPECTRO_REDUX environment set to /Users/ryanrubenzahl/Documents/DESI/spectro/redux\n",
      "SPECPROD environment set to dailytest\n",
      "PIXPROD environment set to dailytest\n"
     ]
    }
   ],
   "source": [
    "check_env()"
   ]
  },
  {
   "cell_type": "code",
   "execution_count": 6,
   "metadata": {},
   "outputs": [
    {
     "name": "stdout",
     "output_type": "stream",
     "text": [
      "env: SPECPROD=example\n",
      "env: PIXPROD=example\n",
      "env: DESI_SPECTRO_DATA=/Users/ryanrubenzahl/Documents/DESI/spectro/sim/example/\n",
      "Simulated raw data will be written to /Users/ryanrubenzahl/Documents/DESI/spectro/sim/example/\n",
      "Pipeline will read raw data from /Users/ryanrubenzahl/Documents/DESI/spectro/sim/example/\n",
      "    (without knowing that it was simulated)\n",
      "Pipeline will write processed data to /Users/ryanrubenzahl/Documents/DESI/spectro/redux/example\n"
     ]
    }
   ],
   "source": [
    "%set_env SPECPROD=example\n",
    "%set_env PIXPROD=example\n",
    "rawdata_dir = desisim.io.simdir()\n",
    "%set_env DESI_SPECTRO_DATA=$rawdata_dir\n",
    "\n",
    "print('Simulated raw data will be written to {}'.format(desisim.io.simdir()))\n",
    "print('Pipeline will read raw data from {}'.format(desispec.io.rawdata_root()))\n",
    "print('    (without knowing that it was simulated)')\n",
    "print('Pipeline will write processed data to {}'.format(desispec.io.specprod_root()))"
   ]
  },
  {
   "cell_type": "markdown",
   "metadata": {},
   "source": [
    "## Read in simulated spectra"
   ]
  },
  {
   "cell_type": "code",
   "execution_count": 7,
   "metadata": {},
   "outputs": [],
   "source": [
    "night   = '20190401' # default is current date\n",
    "expid   = 4 # exposure ID number, can use to simulate more than one DESI exposure"
   ]
  },
  {
   "cell_type": "markdown",
   "metadata": {},
   "source": [
    "First get truth data of simulated objects"
   ]
  },
  {
   "cell_type": "code",
   "execution_count": 8,
   "metadata": {},
   "outputs": [],
   "source": [
    "fiberfile   = desispec.io.findfile('fibermap', night=night, expid=expid)\n",
    "simspecfile = desisim.io.findfile('simspec', night=night, expid=expid)"
   ]
  },
  {
   "cell_type": "code",
   "execution_count": 9,
   "metadata": {
    "scrolled": false
   },
   "outputs": [
    {
     "name": "stdout",
     "output_type": "stream",
     "text": [
      "Reading simspec file /Users/ryanrubenzahl/Documents/DESI/spectro/sim/example/20190401/simspec-00000004.fits.\n",
      "Filename: /Users/ryanrubenzahl/Documents/DESI/spectro/sim/example/20190401/simspec-00000004.fits\n",
      "No.    Name      Ver    Type      Cards   Dimensions   Format\n",
      "  0  WAVE          1 PrimaryHDU      58   (31900,)   float64   \n",
      "  1  FLUX          1 ImageHDU         9   (31900, 1000)   float32   \n",
      "  2  SKYFLUX       1 ImageHDU         9   (31900, 1000)   float32   \n",
      "  3  WAVE_B        1 ImageHDU         7   (11896,)   float64   \n",
      "  4  PHOT_B        1 ImageHDU         9   (11896, 1000)   float32   \n",
      "  5  SKYPHOT_B     1 ImageHDU         9   (11896, 1000)   float32   \n",
      "  6  WAVE_R        1 ImageHDU         7   (10575,)   float64   \n",
      "  7  PHOT_R        1 ImageHDU         9   (10575, 1000)   float32   \n",
      "  8  SKYPHOT_R     1 ImageHDU         9   (10575, 1000)   float32   \n",
      "  9  WAVE_Z        1 ImageHDU         7   (11990,)   float64   \n",
      " 10  PHOT_Z        1 ImageHDU         9   (11990, 1000)   float32   \n",
      " 11  SKYPHOT_Z     1 ImageHDU         9   (11990, 1000)   float32   \n",
      " 12  TRUTH         1 BinTableHDU     63   1000R x 27C   [10A, 10A, J, K, E, E, E, E, E, E, E, E, E, E, E, E, E, E, E, E, E, E, E, E, E, E, E]   \n",
      " 13  FIBERMAP      1 BinTableHDU     62   1000R x 26C   [10A, 20A, 8A, K, K, K, K, 5E, 50A, J, K, J, J, J, J, E, D, D, D, D, D, D, D, D, E, E]   \n",
      " 14  OBSCONDITIONS    1 BinTableHDU     21   1R x 6C   [D, K, K, D, K, D]   \n"
     ]
    }
   ],
   "source": [
    "print('Reading simspec file {}.'.format(simspecfile))\n",
    "hdu = fits.open(simspecfile)\n",
    "hdu.info()\n",
    "meta = Table(hdu['TRUTH'].data)\n",
    "hdu.close()"
   ]
  },
  {
   "cell_type": "code",
   "execution_count": 10,
   "metadata": {},
   "outputs": [
    {
     "name": "stdout",
     "output_type": "stream",
     "text": [
      "Reading fiberfile file /Users/ryanrubenzahl/Documents/DESI/spectro/sim/example/20190401/fibermap-00000004.fits.\n",
      "Filename: /Users/ryanrubenzahl/Documents/DESI/spectro/sim/example/20190401/fibermap-00000004.fits\n",
      "No.    Name      Ver    Type      Cards   Dimensions   Format\n",
      "  0  PRIMARY       1 PrimaryHDU       6   ()      \n",
      "  1  FIBERMAP      1 BinTableHDU    113   1000R x 26C   [10A, 20A, 8A, K, K, K, K, 5E, 50A, J, K, J, J, J, J, E, D, D, D, D, D, D, D, D, E, E]   \n"
     ]
    }
   ],
   "source": [
    "print('Reading fiberfile file {}.'.format(fiberfile))\n",
    "hdu = fits.open(fiberfile)\n",
    "hdu.info()\n",
    "fibermap = Table(hdu['FIBERMAP'].data)\n",
    "hdu.close()"
   ]
  },
  {
   "cell_type": "markdown",
   "metadata": {},
   "source": [
    "Now read in simulated spectra"
   ]
  },
  {
   "cell_type": "code",
   "execution_count": 11,
   "metadata": {},
   "outputs": [
    {
     "name": "stdout",
     "output_type": "stream",
     "text": [
      "1000\n"
     ]
    }
   ],
   "source": [
    "nspec = len(meta)\n",
    "print nspec"
   ]
  },
  {
   "cell_type": "code",
   "execution_count": 12,
   "metadata": {},
   "outputs": [
    {
     "name": "stdout",
     "output_type": "stream",
     "text": [
      "['b0', 'b1', 'r0', 'r1', 'z0', 'z1']\n",
      "{'r0': [], 'r1': [], 'b0': [], 'b1': [], 'z0': [], 'z1': []}\n"
     ]
    }
   ],
   "source": [
    "cameras = []\n",
    "for cam in ['b', 'r', 'z']:\n",
    "    for i in range(0, nspec, 500):\n",
    "        spectrograph = int(i/500)\n",
    "        cameras.append(cam + \"{:d}\".format(spectrograph))\n",
    "\n",
    "print cameras\n",
    "\n",
    "cframes = {cam: [] for cam in cameras}\n",
    "print cframes"
   ]
  },
  {
   "cell_type": "code",
   "execution_count": 13,
   "metadata": {
    "scrolled": true
   },
   "outputs": [
    {
     "name": "stdout",
     "output_type": "stream",
     "text": [
      "Reading /Users/ryanrubenzahl/Documents/DESI/spectro/redux/example/exposures/20190401/00000004/cframe-b0-00000004.fits\n",
      "Reading /Users/ryanrubenzahl/Documents/DESI/spectro/redux/example/exposures/20190401/00000004/cframe-b1-00000004.fits\n",
      "Reading /Users/ryanrubenzahl/Documents/DESI/spectro/redux/example/exposures/20190401/00000004/cframe-r0-00000004.fits\n",
      "Reading /Users/ryanrubenzahl/Documents/DESI/spectro/redux/example/exposures/20190401/00000004/cframe-r1-00000004.fits\n",
      "Reading /Users/ryanrubenzahl/Documents/DESI/spectro/redux/example/exposures/20190401/00000004/cframe-z0-00000004.fits\n",
      "Reading /Users/ryanrubenzahl/Documents/DESI/spectro/redux/example/exposures/20190401/00000004/cframe-z1-00000004.fits\n"
     ]
    }
   ],
   "source": [
    "# From using desispec.io.frame.read_frame\n",
    "for camera in cameras:\n",
    "    cframefile = desispec.io.findfile('cframe', \n",
    "                                      night=night, \n",
    "                                      expid=expid, \n",
    "                                      camera=camera)\n",
    "    print('Reading {}'.format(cframefile))\n",
    "    cframes[camera] = desispec.io.frame.read_frame(cframefile)"
   ]
  },
  {
   "cell_type": "code",
   "execution_count": 69,
   "metadata": {},
   "outputs": [
    {
     "name": "stdout",
     "output_type": "stream",
     "text": [
      "134\n"
     ]
    },
    {
     "data": {
      "text/plain": [
       "<matplotlib.legend.Legend at 0x13b8eaf90>"
      ]
     },
     "execution_count": 69,
     "metadata": {},
     "output_type": "execute_result"
    },
    {
     "data": {
      "image/png": "[encoded data removed]",
      "text/plain": [
       "<matplotlib.figure.Figure at 0x13b8eac50>"
      ]
     },
     "metadata": {},
     "output_type": "display_data"
    }
   ],
   "source": [
    "# Lets plot one of the spectra that we simulated\n",
    "n = np.argwhere(meta['OBJTYPE']=='BGS')[120][0] # 120, 240\n",
    "\n",
    "fig, ax = plt.subplots(1,1, figsize=(8,5))\n",
    "nn = n - 500*int(n/500)\n",
    "print nn\n",
    "ncameras = cameras[int(n/500)::int(np.ceil(nspec/500.))]\n",
    "for i, camera in enumerate(ncameras):\n",
    "    cframe = cframes[camera]\n",
    "    \n",
    "    ax.errorbar(cframe.wave, cframe.flux[nn, :],\n",
    "                1/np.sqrt(cframe.ivar[nn, :]), \n",
    "                color='brg'[i], label='brz'[i])\n",
    "    \n",
    "ax.set_xlabel('Wavelength (A)')\n",
    "ax.set_ylabel('Flux ($10^{-17}$ erg/s/cm$^2$)')\n",
    "# ax.set_title(\"Simulated %s Exposures\" % meta[n]['OBJTYPE'])\n",
    "ax.legend(loc='best')\n"
   ]
  },
  {
   "cell_type": "markdown",
   "metadata": {},
   "source": [
    "## Spectral coaddition\n",
    "\n",
    "Here we combine exposures from individual camera bands (b, r, z) into one exposure per camera, then combine the three cameras into one overall spectrum.\n",
    "\n",
    "Overview on coaddition: https://desi.lbl.gov/DocDB/cgi-bin/private/RetrieveFile?docid=1056;filename=coadd.pdf;version=2\n",
    "\n",
    "Test coaddition: `desispec/test/test_coadd.py`\n",
    "\n",
    "Global coaddition: `desispec/scripts/updatecoadd.py`"
   ]
  },
  {
   "cell_type": "code",
   "execution_count": 70,
   "metadata": {},
   "outputs": [],
   "source": [
    "from desispec.coaddition import Spectrum\n",
    "from desispec.resolution import Resolution"
   ]
  },
  {
   "cell_type": "markdown",
   "metadata": {},
   "source": [
    "### Wavelength Grids\n",
    "see: https://github.com/desihub/desispec/blob/master/doc/coadd.rst\n",
    "\n",
    "\n",
    "|  Band |\tMin(A)|\tMax(A) | Nbins | Size(A)  |\tFiles  |\n",
    "|------- |-------- |------- |------- |-------- |--------| \n",
    "|b\t    |  3579.0 |\t5938.8 | 3934  | 0.6 |\tbrick, band coadd |\n",
    "|r\t    |  5635.0 |\t7730.8 | 3494  | 0.6 |\tbrick, band coadd |\n",
    "|z\t    |  7445.0 |\t9824.0 | 3966  | 0.6 |\tbrick, band coadd |\n",
    "|all\t|  3579.0 |\t9825.0 | 6247  | 1.0 |\tglobal coadd |"
   ]
  },
  {
   "cell_type": "code",
   "execution_count": 71,
   "metadata": {},
   "outputs": [],
   "source": [
    "# Now combine the b, r, and z spectra into one final spectra\n",
    "\n",
    "# First, get overall wavelength range of the spectrum\n",
    "# Individual cameras have 0.5 A resolutions\n",
    "# We make the final coadd spectrum uniformly spaced with 1.0 A\n",
    "spectrograph = int(nn/500)\n",
    "ncameras = cameras[spectrograph::int(np.ceil(nspec/500.))]\n",
    "global_wavelength_grid = np.arange(cframes['b{:d}'.format(spectrograph)].wave[0], \n",
    "                                   cframes['z{:d}'.format(spectrograph)].wave[-1] + 0.5, \n",
    "                                   1.0, dtype=np.float32)\n",
    "\n",
    "coadd_all_bands = Spectrum(global_wavelength_grid)\n",
    "# coadd_all_spectra = Spectrum(desispec.coaddition.global_wavelength_grid)\n",
    "for band in ncameras:\n",
    "    band_specobj = Spectrum(\n",
    "                    cframes[band].wave,\n",
    "                    flux=cframes[band].flux[nn],\n",
    "                    ivar=cframes[band].ivar[nn],\n",
    "                    resolution=Resolution(cframes[band].resolution_data[nn]),\n",
    "                    )\n",
    "    \n",
    "    coadd_all_bands += band_specobj"
   ]
  },
  {
   "cell_type": "code",
   "execution_count": 72,
   "metadata": {},
   "outputs": [],
   "source": [
    "# This is the expensive call\n",
    "coadd_all_bands.finalize()"
   ]
  },
  {
   "cell_type": "code",
   "execution_count": 73,
   "metadata": {
    "scrolled": true
   },
   "outputs": [
    {
     "data": {
      "text/plain": [
       "<matplotlib.text.Text at 0x1788c8050>"
      ]
     },
     "execution_count": 73,
     "metadata": {},
     "output_type": "execute_result"
    },
    {
     "data": {
      "image/png": "[encoded data removed]",
      "text/plain": [
       "<matplotlib.figure.Figure at 0x13b866fd0>"
      ]
     },
     "metadata": {},
     "output_type": "display_data"
    }
   ],
   "source": [
    "fig, ax = plt.subplots(1,1)\n",
    "\n",
    "ax.errorbar(coadd_all_bands.wave, coadd_all_bands.flux, 1/np.sqrt(coadd_all_bands.ivar))\n",
    "ax.set_xlabel('Wavelength (A)')\n",
    "ax.set_ylabel('Flux ($10^{-17}$ erg/s/cm$^2$)')\n",
    "ax.set_title(meta[n]['OBJTYPE'])"
   ]
  },
  {
   "cell_type": "code",
   "execution_count": 75,
   "metadata": {},
   "outputs": [
    {
     "name": "stdout",
     "output_type": "stream",
     "text": [
      "134\n",
      "3569.19995117 5948.70019531\n",
      "5625.20019531 7740.70019531\n",
      "7435.20019531 9833.70019531\n"
     ]
    },
    {
     "data": {
      "image/png": "[encoded data removed]",
      "text/plain": [
       "<matplotlib.figure.Figure at 0x178dbbfd0>"
      ]
     },
     "metadata": {},
     "output_type": "display_data"
    }
   ],
   "source": [
    "# Overlay the 3 cameras with the final coadd\n",
    "\n",
    "fig, ax = plt.subplots(1,1, figsize=(8,4))\n",
    "nn = n - 500*int(n/500)\n",
    "print nn\n",
    "ncameras = cameras[int(n/500)::int(np.ceil(nspec/500.))]\n",
    "for i, camera in enumerate(ncameras):\n",
    "    cframe = cframes[camera]\n",
    "    \n",
    "    print np.min(cframe.wave), np.max(cframe.wave)\n",
    "    ax.plot(cframe.wave, cframe.flux[nn, :],\n",
    "#                 1/np.sqrt(cframe.ivar[nn, :]), fmt='.', \n",
    "                color='brg'[i], label='%s' % 'brz'[i])\n",
    "\n",
    "ax.plot(coadd_all_bands.wave, coadd_all_bands.flux, lw='0.5', \n",
    "#             1/np.sqrt(coadd_all_bands.ivar), fmt='.-',\n",
    "            color='k',label='coadd')\n",
    "\n",
    "ax.set_xlabel('Wavelength (A)')\n",
    "ax.set_ylabel('Flux ($10^{-17}$ erg/s/cm$^2$/A)')\n",
    "# ax.set_ylim(0, 130)\n",
    "ax.set_xlim(3600, 9800)\n",
    "# ax.set_title(\"Simulated %s Exposures\" % meta[n]['OBJTYPE'])\n",
    "ax.legend(loc='lower center', ncol=4, fontsize=12)\n",
    "# savedir = '/Users/ryanrubenzahl/Library/Ryan/College/Senior Thesis/thesis/Figures/'\n",
    "# plt.savefig(savedir + 'simulated-BGS-brz-coaddition.pdf',\n",
    "#             format='pdf', dpi=300, bbox_inches='tight')\n"
   ]
  },
  {
   "cell_type": "code",
   "execution_count": 139,
   "metadata": {},
   "outputs": [],
   "source": [
    "from desispec.io.util import fitsheader\n",
    "\n",
    "def write_coadd_spectra(outfile, coadd_spectra, fiberfile, simspecfile,\n",
    "                        objtype=None, units=None):\n",
    "    \"\"\"\n",
    "    Write the output of the full brz coadded spectra to a fits file.\n",
    "    Include the truth and metadata from fiberfile and simspecfile\n",
    "    \"\"\"\n",
    "    \n",
    "    # Make parent directory if necessary\n",
    "    dir, base = os.path.split(outfile)\n",
    "    if not os.path.exists(dir):\n",
    "        os.makedirs(dir)\n",
    "        \n",
    "    # Create HDUs from the data\n",
    "    all_hdus = fits.HDUList()\n",
    "    \n",
    "    sshdu = fits.open(simspecfile)\n",
    "    \n",
    "    metadict = {'NIGHT': sshdu[0].header['NIGHT'],\n",
    "                'EXPID': sshdu[0].header['EXPID'],\n",
    "                'TILEID': sshdu[0].header['TILEID']}\n",
    "    \n",
    "    if not objtype == None:\n",
    "        metadict['OBJTYPE'] = objtype\n",
    "    \n",
    "    # metadata goes in empty primary HD\n",
    "    hdr = fitsheader(metadict)\n",
    "    all_hdus.append(fits.PrimaryHDU(header=hdr))\n",
    "    \n",
    "    # Next is fibermap\n",
    "    # Skip for now, since fiberfile contains fibermap data for\n",
    "    # all 1000 (N) simulated spectra, will have to make this\n",
    "    # input as a parameter that can be passed in\n",
    "#     fmap = fits.open(fiberfile)['FIBERMAP']\n",
    "#     hdu = fmap.header\n",
    "    \n",
    "\n",
    "    # Add the spectra data\n",
    "    \n",
    "    # Wavelength data\n",
    "    hdu = fits.ImageHDU(name='WAVE')\n",
    "    hdu.header[\"BUNIT\"] = \"Angstrom\"\n",
    "    hdu.data = coadd_spectra.wave.astype(\"f8\")\n",
    "    all_hdus.append(hdu)\n",
    "    \n",
    "    # Flux data\n",
    "    hdu = fits.ImageHDU(name='FLUX')\n",
    "    if units is None:\n",
    "        hdu.header[\"BUNIT\"] = \"1e-17 erg/(s cm2 Angstrom)\"\n",
    "    else:\n",
    "        hdu.header[\"BUNIT\"] = units\n",
    "    hdu.data = coadd_spectra.flux.astype(\"f4\")\n",
    "    all_hdus.append(hdu)\n",
    "    \n",
    "    # Variance data\n",
    "    hdu = fits.ImageHDU(name=\"IVAR\")\n",
    "    hdu.data = coadd_spectra.ivar.astype(\"f4\")\n",
    "    all_hdus.append(hdu)\n",
    "    \n",
    "    # Mask\n",
    "    if coadd_spectra.mask is not None:\n",
    "        hdu = fits.CompImageHDU(name=\"MASK\")\n",
    "        hdu.data = coadd_spectra.mask.astype(np.uint32)\n",
    "        all_hdus.append(hdu)\n",
    "        \n",
    "    # Resolution data\n",
    "    if False:#coadd_spectra.resolution is not None:\n",
    "        hdu = fits.ImageHDU(name=\"RESOLUTION\")\n",
    "        hdu.data = coadd_spectra.resolution.astype(\"f4\")\n",
    "        all_hdus.append(hdu)\n",
    "        \n",
    "    try:\n",
    "        all_hdus.writeto(\"{}.tmp\".format(outfile), \n",
    "                         overwrite=True, checksum=True)\n",
    "    except TypeError:\n",
    "        all_hdus.writeto(\"{}.tmp\".format(outfile), \n",
    "                         clobber=True, checksum=True)\n",
    "    os.rename(\"{}.tmp\".format(outfile), outfile)\n",
    "    \n",
    "    return outfile"
   ]
  },
  {
   "cell_type": "code",
   "execution_count": 140,
   "metadata": {},
   "outputs": [
    {
     "data": {
      "text/plain": [
       "'./output/test.fits'"
      ]
     },
     "execution_count": 140,
     "metadata": {},
     "output_type": "execute_result"
    }
   ],
   "source": [
    "write_coadd_spectra(\"./output/test.fits\", coadd_all_spectra, \n",
    "                    fiberfile, simspecfile)"
   ]
  },
  {
   "cell_type": "code",
   "execution_count": null,
   "metadata": {},
   "outputs": [],
   "source": []
  }
 ],
 "metadata": {
  "kernelspec": {
   "display_name": "Python 2",
   "language": "python",
   "name": "python2"
  },
  "language_info": {
   "codemirror_mode": {
    "name": "ipython",
    "version": 2
   },
   "file_extension": ".py",
   "mimetype": "text/x-python",
   "name": "python",
   "nbconvert_exporter": "python",
   "pygments_lexer": "ipython2",
   "version": "2.7.13"
  }
 },
 "nbformat": 4,
 "nbformat_minor": 2
}

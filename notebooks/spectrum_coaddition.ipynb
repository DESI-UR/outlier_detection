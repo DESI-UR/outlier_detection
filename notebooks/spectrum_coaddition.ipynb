{
 "cells": [
  {
   "cell_type": "code",
   "execution_count": 1,
   "metadata": {},
   "outputs": [],
   "source": [
    "%matplotlib inline\n",
    "\n",
    "import os\n",
    "import numpy as np\n",
    "\n",
    "import matplotlib as mpl\n",
    "import matplotlib.pyplot as plt\n",
    "\n",
    "from astropy.io import fits\n",
    "from astropy.table import Table"
   ]
  },
  {
   "cell_type": "code",
   "execution_count": 2,
   "metadata": {},
   "outputs": [
    {
     "name": "stderr",
     "output_type": "stream",
     "text": [
      "/Users/ryanrubenzahl/Library/Python/2.7/lib/python/site-packages/matplotlib/__init__.py:1405: UserWarning: \n",
      "This call to matplotlib.use() has no effect because the backend has already\n",
      "been chosen; matplotlib.use() must be called *before* pylab, matplotlib.pyplot,\n",
      "or matplotlib.backends is imported for the first time.\n",
      "\n",
      "  warnings.warn(_use_error_msg)\n"
     ]
    }
   ],
   "source": [
    "import desispec.io\n",
    "import desisim.io\n",
    "from desisim.obs import new_exposure\n",
    "from desisim.scripts import quickgen\n",
    "from desispec.scripts import group_spectra"
   ]
  },
  {
   "cell_type": "code",
   "execution_count": 3,
   "metadata": {},
   "outputs": [
    {
     "name": "stdout",
     "output_type": "stream",
     "text": [
      "Populating the interactive namespace from numpy and matplotlib\n"
     ]
    }
   ],
   "source": [
    "%pylab inline"
   ]
  },
  {
   "cell_type": "code",
   "execution_count": 4,
   "metadata": {},
   "outputs": [],
   "source": [
    "def check_env():\n",
    "    for env in ('DESIMODEL', 'DESI_ROOT', 'DESI_SPECTRO_SIM', 'DESI_SPECTRO_DATA', \n",
    "            'DESI_SPECTRO_REDUX', 'SPECPROD', 'PIXPROD'):\n",
    "        if env in os.environ:\n",
    "            print('{} environment set to {}'.format(env, os.getenv(env)))\n",
    "        else:\n",
    "            print('Required environment variable {} not set!'.format(env))"
   ]
  },
  {
   "cell_type": "code",
   "execution_count": 5,
   "metadata": {},
   "outputs": [
    {
     "name": "stdout",
     "output_type": "stream",
     "text": [
      "DESIMODEL environment set to /Users/ryanrubenzahl/Documents/DESI/code//desimodel\n",
      "DESI_ROOT environment set to /Users/ryanrubenzahl/Documents/DESI\n",
      "DESI_SPECTRO_SIM environment set to /Users/ryanrubenzahl/Documents/DESI/spectro/sim\n",
      "DESI_SPECTRO_DATA environment set to /Users/ryanrubenzahl/Documents/DESI/spectro/data\n",
      "DESI_SPECTRO_REDUX environment set to /Users/ryanrubenzahl/Documents/DESI/spectro/redux\n",
      "SPECPROD environment set to dailytest\n",
      "PIXPROD environment set to dailytest\n"
     ]
    }
   ],
   "source": [
    "check_env()"
   ]
  },
  {
   "cell_type": "code",
   "execution_count": 6,
   "metadata": {},
   "outputs": [
    {
     "name": "stdout",
     "output_type": "stream",
     "text": [
      "env: SPECPROD=example\n",
      "env: PIXPROD=example\n",
      "env: DESI_SPECTRO_DATA=/Users/ryanrubenzahl/Documents/DESI/spectro/sim/example/\n",
      "Simulated raw data will be written to /Users/ryanrubenzahl/Documents/DESI/spectro/sim/example/\n",
      "Pipeline will read raw data from /Users/ryanrubenzahl/Documents/DESI/spectro/sim/example/\n",
      "    (without knowing that it was simulated)\n",
      "Pipeline will write processed data to /Users/ryanrubenzahl/Documents/DESI/spectro/redux/example\n"
     ]
    }
   ],
   "source": [
    "%set_env SPECPROD=example\n",
    "%set_env PIXPROD=example\n",
    "rawdata_dir = desisim.io.simdir()\n",
    "%set_env DESI_SPECTRO_DATA=$rawdata_dir\n",
    "\n",
    "print('Simulated raw data will be written to {}'.format(desisim.io.simdir()))\n",
    "print('Pipeline will read raw data from {}'.format(desispec.io.rawdata_root()))\n",
    "print('    (without knowing that it was simulated)')\n",
    "print('Pipeline will write processed data to {}'.format(desispec.io.specprod_root()))"
   ]
  },
  {
   "cell_type": "markdown",
   "metadata": {},
   "source": [
    "## Read in simulated spectra"
   ]
  },
  {
   "cell_type": "code",
   "execution_count": 7,
   "metadata": {},
   "outputs": [],
   "source": [
    "flavor  = 'dark' # choose sky-brightness model and distribution of targets\n",
    "flavors = ['dark', 'gray', 'grey', 'bright', 'bgs', 'mws', 'lrg', 'elg', 'qso', 'std', 'arc', 'flat'] # all options\n",
    "night   = '20180201' # default is current date\n",
    "expid   = 0 # exposure ID number, can use to simulate more than one DESI exposure"
   ]
  },
  {
   "cell_type": "markdown",
   "metadata": {},
   "source": [
    "First get truth data of simulated objects"
   ]
  },
  {
   "cell_type": "code",
   "execution_count": 8,
   "metadata": {},
   "outputs": [],
   "source": [
    "fiberfile   = desispec.io.findfile('fibermap', night=night, expid=expid)\n",
    "simspecfile = desisim.io.findfile('simspec', night=night, expid=expid)"
   ]
  },
  {
   "cell_type": "code",
   "execution_count": 9,
   "metadata": {
    "scrolled": false
   },
   "outputs": [
    {
     "name": "stdout",
     "output_type": "stream",
     "text": [
      "Reading simspec file /Users/ryanrubenzahl/Documents/DESI/spectro/sim/example/20180201/simspec-00000000.fits.\n",
      "Filename: /Users/ryanrubenzahl/Documents/DESI/spectro/sim/example/20180201/simspec-00000000.fits\n",
      "No.    Name      Ver    Type      Cards   Dimensions   Format\n",
      "  0  WAVE          1 PrimaryHDU      58   (31900,)   float64   \n",
      "  1  FLUX          1 ImageHDU         9   (31900, 1000)   float32   \n",
      "  2  SKYFLUX       1 ImageHDU         9   (31900, 1000)   float32   \n",
      "  3  WAVE_B        1 ImageHDU         7   (11896,)   float64   \n",
      "  4  PHOT_B        1 ImageHDU         9   (11896, 1000)   float32   \n",
      "  5  SKYPHOT_B     1 ImageHDU         9   (11896, 1000)   float32   \n",
      "  6  WAVE_R        1 ImageHDU         7   (10575,)   float64   \n",
      "  7  PHOT_R        1 ImageHDU         9   (10575, 1000)   float32   \n",
      "  8  SKYPHOT_R     1 ImageHDU         9   (10575, 1000)   float32   \n",
      "  9  WAVE_Z        1 ImageHDU         7   (11990,)   float64   \n",
      " 10  PHOT_Z        1 ImageHDU         9   (11990, 1000)   float32   \n",
      " 11  SKYPHOT_Z     1 ImageHDU         9   (11990, 1000)   float32   \n",
      " 12  TRUTH         1 BinTableHDU     63   1000R x 27C   [10A, 10A, J, K, E, E, E, E, E, E, E, E, E, E, E, E, E, E, E, E, E, E, E, E, E, E, E]   \n",
      " 13  FIBERMAP      1 BinTableHDU     62   1000R x 26C   [10A, 20A, 8A, K, K, K, K, 5E, 50A, J, K, J, J, J, J, E, D, D, D, D, D, D, D, D, E, E]   \n",
      " 14  OBSCONDITIONS    1 BinTableHDU     21   1R x 6C   [D, K, K, D, K, D]   \n"
     ]
    }
   ],
   "source": [
    "print('Reading simspec file {}.'.format(simspecfile))\n",
    "hdu = fits.open(simspecfile)\n",
    "hdu.info()\n",
    "meta = Table(hdu['TRUTH'].data)\n",
    "hdu.close()"
   ]
  },
  {
   "cell_type": "markdown",
   "metadata": {},
   "source": [
    "Now read in simulated spectra"
   ]
  },
  {
   "cell_type": "code",
   "execution_count": 10,
   "metadata": {},
   "outputs": [],
   "source": [
    "nspec = len(meta)"
   ]
  },
  {
   "cell_type": "code",
   "execution_count": 11,
   "metadata": {},
   "outputs": [],
   "source": [
    "cameras = ['b', 'r', 'z']\n",
    "cframes = {camera: [] for camera in cameras}"
   ]
  },
  {
   "cell_type": "code",
   "execution_count": 12,
   "metadata": {},
   "outputs": [
    {
     "name": "stdout",
     "output_type": "stream",
     "text": [
      "/Users/ryanrubenzahl/Documents/DESI/spectro/redux/example/exposures/20180201/00000000/cframe-b0-00000000.fits\n",
      "<Frame: nspec=500, nwave=4760>\n"
     ]
    }
   ],
   "source": [
    "cframefile = desispec.io.findfile('cframe', \n",
    "                                      night=night, \n",
    "                                      expid=expid, \n",
    "                                      camera='b0')\n",
    "\n",
    "print cframefile\n",
    "print desispec.io.frame.read_frame(cframefile)"
   ]
  },
  {
   "cell_type": "code",
   "execution_count": 20,
   "metadata": {},
   "outputs": [
    {
     "name": "stdout",
     "output_type": "stream",
     "text": [
      "Reading /Users/ryanrubenzahl/Documents/DESI/spectro/redux/example/exposures/20180201/00000000/cframe-b0-00000000.fits\n",
      "Reading /Users/ryanrubenzahl/Documents/DESI/spectro/redux/example/exposures/20180201/00000000/cframe-b1-00000000.fits\n",
      "Reading /Users/ryanrubenzahl/Documents/DESI/spectro/redux/example/exposures/20180201/00000000/cframe-r0-00000000.fits\n",
      "Reading /Users/ryanrubenzahl/Documents/DESI/spectro/redux/example/exposures/20180201/00000000/cframe-r1-00000000.fits\n",
      "Reading /Users/ryanrubenzahl/Documents/DESI/spectro/redux/example/exposures/20180201/00000000/cframe-z0-00000000.fits\n",
      "Reading /Users/ryanrubenzahl/Documents/DESI/spectro/redux/example/exposures/20180201/00000000/cframe-z1-00000000.fits\n"
     ]
    }
   ],
   "source": [
    "# From using desispec.io.frame.read_frame\n",
    "for cam in cameras:\n",
    "    for i in range(0, nspec, 500):\n",
    "        camera = cam + \"{}\".format(i/500)\n",
    "    \n",
    "        cframefile = desispec.io.findfile('cframe', \n",
    "                                          night=night, \n",
    "                                          expid=expid, \n",
    "                                          camera=camera)\n",
    "        print('Reading {}'.format(cframefile))\n",
    "        cframes[cam] = desispec.io.frame.read_frame(cframefile)"
   ]
  },
  {
   "cell_type": "code",
   "execution_count": 21,
   "metadata": {},
   "outputs": [
    {
     "data": {
      "text/plain": [
       "<matplotlib.legend.Legend at 0x114cb6e90>"
      ]
     },
     "execution_count": 21,
     "metadata": {},
     "output_type": "execute_result"
    },
    {
     "data": {
      "image/png": "[encoded data removed]",
      "text/plain": [
       "<matplotlib.figure.Figure at 0x10d688c50>"
      ]
     },
     "metadata": {},
     "output_type": "display_data"
    }
   ],
   "source": [
    "# Lets plot one of the spectra that we simulated\n",
    "n = 41\n",
    "\n",
    "fig, ax = plt.subplots(1,1, figsize=(8,5))\n",
    "for camera in cameras:\n",
    "    cframe = cframes[camera]\n",
    "\n",
    "    ax.errorbar(cframe.wave, cframe.flux[n, :], \n",
    "                1/np.sqrt(cframe.ivar[n, :]), label=camera)\n",
    "    ax.set_xlabel('Wavelength (A)')\n",
    "    ax.set_ylabel('Flux ($10^{-17}$ erg/s/cm$^2$)')\n",
    "ax.legend(loc='best')"
   ]
  },
  {
   "cell_type": "markdown",
   "metadata": {},
   "source": [
    "## Spectral coaddition\n",
    "\n",
    "Here we combine exposures from individual camera bands (b, r, z) into one exposure per camera, then combine the three cameras into one overall spectrum.\n",
    "\n",
    "Overview on coaddition: https://desi.lbl.gov/DocDB/cgi-bin/private/RetrieveFile?docid=1056;filename=coadd.pdf;version=2\n",
    "\n",
    "Test coaddition: `desispec/test/test_coadd.py`\n",
    "\n",
    "Global coaddition: `desispec/scripts/updatecoadd.py`"
   ]
  },
  {
   "cell_type": "code",
   "execution_count": 22,
   "metadata": {},
   "outputs": [],
   "source": [
    "from desispec.coaddition import Spectrum\n",
    "from desispec.resolution import Resolution"
   ]
  },
  {
   "cell_type": "markdown",
   "metadata": {},
   "source": [
    "### Wavelength Grids\n",
    "see: https://github.com/desihub/desispec/blob/master/doc/coadd.rst\n",
    "\n",
    "\n",
    "|  Band |\tMin(A)|\tMax(A) | Nbins | Size(A)  |\tFiles  |\n",
    "|------- |-------- |------- |------- |-------- |--------| \n",
    "|b\t    |  3579.0 |\t5938.8 | 3934  | 0.6 |\tbrick, band coadd |\n",
    "|r\t    |  5635.0 |\t7730.8 | 3494  | 0.6 |\tbrick, band coadd |\n",
    "|z\t    |  7445.0 |\t9824.0 | 3966  | 0.6 |\tbrick, band coadd |\n",
    "|all\t|  3579.0 |\t9825.0 | 6247  | 1.0 |\tglobal coadd |"
   ]
  },
  {
   "cell_type": "code",
   "execution_count": 23,
   "metadata": {},
   "outputs": [],
   "source": [
    "# Now combine the b, r, and z spectra into one final spectra\n",
    "\n",
    "# First, get overall wavelength range of the spectrum\n",
    "# Individual cameras have 0.5 A resolutions\n",
    "# We make the final coadd spectrum uniformly spaced with 1.0 A\n",
    "global_wavelength_grid = np.arange(cframes['b'].wave[0], \n",
    "                                   cframes['z'].wave[-1] + 0.5, \n",
    "                                   1.0, dtype=np.float32)\n",
    "\n",
    "coadd_all_bands = Spectrum(global_wavelength_grid)\n",
    "# coadd_all_spectra = Spectrum(desispec.coaddition.global_wavelength_grid)\n",
    "for band in cframes:\n",
    "    band_specobj = Spectrum(\n",
    "                    cframes[band].wave,\n",
    "                    flux=cframes[band].flux[n],\n",
    "                    ivar=cframes[band].ivar[n],\n",
    "                    resolution=Resolution(cframes[band].resolution_data[n]),\n",
    "                    )\n",
    "    \n",
    "    coadd_all_bands += band_specobj"
   ]
  },
  {
   "cell_type": "code",
   "execution_count": 24,
   "metadata": {},
   "outputs": [],
   "source": [
    "coadd_all_bands.finalize()"
   ]
  },
  {
   "cell_type": "code",
   "execution_count": 25,
   "metadata": {
    "scrolled": true
   },
   "outputs": [
    {
     "data": {
      "text/plain": [
       "<matplotlib.text.Text at 0x1070ca350>"
      ]
     },
     "execution_count": 25,
     "metadata": {},
     "output_type": "execute_result"
    },
    {
     "data": {
      "image/png": "[encoded data removed]",
      "text/plain": [
       "<matplotlib.figure.Figure at 0x1070afa50>"
      ]
     },
     "metadata": {},
     "output_type": "display_data"
    }
   ],
   "source": [
    "fig, ax = plt.subplots(1,1)\n",
    "\n",
    "ax.errorbar(coadd_all_bands.wave, coadd_all_bands.flux, 1/np.sqrt(coadd_all_bands.ivar))\n",
    "ax.set_xlabel('Wavelength (A)')\n",
    "ax.set_ylabel('Flux ($10^{-17}$ erg/s/cm$^2$)')"
   ]
  },
  {
   "cell_type": "code",
   "execution_count": 139,
   "metadata": {},
   "outputs": [],
   "source": [
    "from desispec.io.util import fitsheader\n",
    "\n",
    "def write_coadd_spectra(outfile, coadd_spectra, fiberfile, simspecfile,\n",
    "                        objtype=None, units=None):\n",
    "    \"\"\"\n",
    "    Write the output of the full brz coadded spectra to a fits file.\n",
    "    Include the truth and metadata from fiberfile and simspecfile\n",
    "    \"\"\"\n",
    "    \n",
    "    # Make parent directory if necessary\n",
    "    dir, base = os.path.split(outfile)\n",
    "    if not os.path.exists(dir):\n",
    "        os.makedirs(dir)\n",
    "        \n",
    "    # Create HDUs from the data\n",
    "    all_hdus = fits.HDUList()\n",
    "    \n",
    "    sshdu = fits.open(simspecfile)\n",
    "    \n",
    "    metadict = {'NIGHT': sshdu[0].header['NIGHT'],\n",
    "                'EXPID': sshdu[0].header['EXPID'],\n",
    "                'TILEID': sshdu[0].header['TILEID']}\n",
    "    \n",
    "    if not objtype == None:\n",
    "        metadict['OBJTYPE'] = objtype\n",
    "    \n",
    "    # metadata goes in empty primary HD\n",
    "    hdr = fitsheader(metadict)\n",
    "    all_hdus.append(fits.PrimaryHDU(header=hdr))\n",
    "    \n",
    "    # Next is fibermap\n",
    "    # Skip for now, since fiberfile contains fibermap data for\n",
    "    # all 1000 (N) simulated spectra, will have to make this\n",
    "    # input as a parameter that can be passed in\n",
    "#     fmap = fits.open(fiberfile)['FIBERMAP']\n",
    "#     hdu = fmap.header\n",
    "    \n",
    "\n",
    "    # Add the spectra data\n",
    "    \n",
    "    # Wavelength data\n",
    "    hdu = fits.ImageHDU(name='WAVE')\n",
    "    hdu.header[\"BUNIT\"] = \"Angstrom\"\n",
    "    hdu.data = coadd_spectra.wave.astype(\"f8\")\n",
    "    all_hdus.append(hdu)\n",
    "    \n",
    "    # Flux data\n",
    "    hdu = fits.ImageHDU(name='FLUX')\n",
    "    if units is None:\n",
    "        hdu.header[\"BUNIT\"] = \"1e-17 erg/(s cm2 Angstrom)\"\n",
    "    else:\n",
    "        hdu.header[\"BUNIT\"] = units\n",
    "    hdu.data = coadd_spectra.flux.astype(\"f4\")\n",
    "    all_hdus.append(hdu)\n",
    "    \n",
    "    # Variance data\n",
    "    hdu = fits.ImageHDU(name=\"IVAR\")\n",
    "    hdu.data = coadd_spectra.ivar.astype(\"f4\")\n",
    "    all_hdus.append(hdu)\n",
    "    \n",
    "    # Mask\n",
    "    if coadd_spectra.mask is not None:\n",
    "        hdu = fits.CompImageHDU(name=\"MASK\")\n",
    "        hdu.data = coadd_spectra.mask.astype(np.uint32)\n",
    "        all_hdus.append(hdu)\n",
    "        \n",
    "    # Resolution data\n",
    "    if False:#coadd_spectra.resolution is not None:\n",
    "        hdu = fits.ImageHDU(name=\"RESOLUTION\")\n",
    "        hdu.data = coadd_spectra.resolution.astype(\"f4\")\n",
    "        all_hdus.append(hdu)\n",
    "        \n",
    "    try:\n",
    "        all_hdus.writeto(\"{}.tmp\".format(outfile), \n",
    "                         overwrite=True, checksum=True)\n",
    "    except TypeError:\n",
    "        all_hdus.writeto(\"{}.tmp\".format(outfile), \n",
    "                         clobber=True, checksum=True)\n",
    "    os.rename(\"{}.tmp\".format(outfile), outfile)\n",
    "    \n",
    "    return outfile"
   ]
  },
  {
   "cell_type": "code",
   "execution_count": 140,
   "metadata": {},
   "outputs": [
    {
     "data": {
      "text/plain": [
       "'./output/test.fits'"
      ]
     },
     "execution_count": 140,
     "metadata": {},
     "output_type": "execute_result"
    }
   ],
   "source": [
    "write_coadd_spectra(\"./output/test.fits\", coadd_all_spectra, \n",
    "                    fiberfile, simspecfile)"
   ]
  },
  {
   "cell_type": "code",
   "execution_count": 32,
   "metadata": {},
   "outputs": [
    {
     "name": "stdout",
     "output_type": "stream",
     "text": [
      "Reading fibermap file /Users/ryanrubenzahl/Documents/DESI/spectro/sim/example/20180201/fibermap-00000000.fits.\n",
      "Filename: /Users/ryanrubenzahl/Documents/DESI/spectro/sim/example/20180201/fibermap-00000000.fits\n",
      "No.    Name      Ver    Type      Cards   Dimensions   Format\n",
      "  0  PRIMARY       1 PrimaryHDU       6   ()      \n",
      "  1  FIBERMAP      1 BinTableHDU    113   1000R x 26C   [10A, 20A, 8A, K, K, K, K, 5E, 50A, J, K, J, J, J, J, E, D, D, D, D, D, D, D, D, E, E]   \n"
     ]
    }
   ],
   "source": [
    "print('Reading fibermap file {}.'.format(fiberfile))\n",
    "hdu = fits.open(fiberfile)\n",
    "hdu.info()\n",
    "fibermap = Table(hdu['FIBERMAP'].data)\n",
    "hdu.close()"
   ]
  },
  {
   "cell_type": "code",
   "execution_count": 34,
   "metadata": {},
   "outputs": [
    {
     "data": {
      "text/html": [
       "&lt;Row index=200&gt;\n",
       "<table id=\"table4597263568\">\n",
       "<thead><tr><th>OBJTYPE</th><th>TARGETCAT</th><th>BRICKNAME</th><th>TARGETID</th><th>DESI_TARGET</th><th>BGS_TARGET</th><th>MWS_TARGET</th><th>MAG [5]</th><th>FILTER [5]</th><th>SPECTROID</th><th>POSITIONER</th><th>LOCATION</th><th>DEVICE_LOC</th><th>PETAL_LOC</th><th>FIBER</th><th>LAMBDAREF</th><th>RA_TARGET</th><th>DEC_TARGET</th><th>RA_OBS</th><th>DEC_OBS</th><th>X_TARGET</th><th>Y_TARGET</th><th>X_FVCOBS</th><th>Y_FVCOBS</th><th>Y_FVCERR</th><th>X_FVCERR</th></tr></thead>\n",
       "<thead><tr><th>str10</th><th>str20</th><th>str8</th><th>int64</th><th>int64</th><th>int64</th><th>int64</th><th>float32</th><th>str10</th><th>int32</th><th>int64</th><th>int32</th><th>int32</th><th>int32</th><th>int32</th><th>float32</th><th>float64</th><th>float64</th><th>float64</th><th>float64</th><th>float64</th><th>float64</th><th>float64</th><th>float64</th><th>float32</th><th>float32</th></tr></thead>\n",
       "<tr><td>SKY</td><td></td><td>3349p210</td><td>7546038331267425943</td><td>4294967296</td><td>0</td><td>0</td><td>0.0 .. 0.0</td><td>..</td><td>0</td><td>216</td><td>216</td><td>216</td><td>0</td><td>200</td><td>5400.0</td><td>334.996993548</td><td>20.9162717806</td><td>334.996993548</td><td>20.9162717806</td><td>7.63080723575</td><td>-256.464995442</td><td>7.63080723575</td><td>-256.464995442</td><td>0.0</td><td>0.0</td></tr>\n",
       "</table>"
      ],
      "text/plain": [
       "<Row index=200>\n",
       "OBJTYPE TARGETCAT BRICKNAME       TARGETID      DESI_TARGET BGS_TARGET MWS_TARGET  MAG [5]   FILTER [5] SPECTROID POSITIONER LOCATION DEVICE_LOC PETAL_LOC FIBER LAMBDAREF   RA_TARGET     DEC_TARGET      RA_OBS       DEC_OBS       X_TARGET      Y_TARGET       X_FVCOBS      Y_FVCOBS    Y_FVCERR X_FVCERR\n",
       " str10    str20      str8          int64           int64      int64      int64     float32     str10      int32     int64     int32     int32      int32   int32  float32     float64       float64       float64       float64       float64       float64        float64       float64     float32  float32 \n",
       "------- --------- --------- ------------------- ----------- ---------- ---------- ---------- ---------- --------- ---------- -------- ---------- --------- ----- --------- ------------- ------------- ------------- ------------- ------------- -------------- ------------- -------------- -------- --------\n",
       "    SKY            3349p210 7546038331267425943  4294967296          0          0 0.0 .. 0.0        ..          0        216      216        216         0   200    5400.0 334.996993548 20.9162717806 334.996993548 20.9162717806 7.63080723575 -256.464995442 7.63080723575 -256.464995442      0.0      0.0"
      ]
     },
     "execution_count": 34,
     "metadata": {},
     "output_type": "execute_result"
    }
   ],
   "source": [
    "fibermap[200]"
   ]
  },
  {
   "cell_type": "code",
   "execution_count": null,
   "metadata": {},
   "outputs": [],
   "source": []
  }
 ],
 "metadata": {
  "kernelspec": {
   "display_name": "Python 2",
   "language": "python",
   "name": "python2"
  },
  "language_info": {
   "codemirror_mode": {
    "name": "ipython",
    "version": 2
   },
   "file_extension": ".py",
   "mimetype": "text/x-python",
   "name": "python",
   "nbconvert_exporter": "python",
   "pygments_lexer": "ipython2",
   "version": "2.7.13"
  }
 },
 "nbformat": 4,
 "nbformat_minor": 2
}

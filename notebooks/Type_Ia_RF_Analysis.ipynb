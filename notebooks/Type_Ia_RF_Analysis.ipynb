{
 "cells": [
  {
   "cell_type": "code",
   "execution_count": 1,
   "metadata": {},
   "outputs": [],
   "source": [
    "%matplotlib inline\n",
    "\n",
    "import os\n",
    "import glob\n",
    "\n",
    "import numpy as np\n",
    "import pandas as pd\n",
    "\n",
    "from astropy.io import fits\n",
    "from astropy.table import Table\n",
    "\n",
    "from desispec.interpolation import resample_flux\n",
    "\n",
    "from collections import Counter\n",
    "\n",
    "import matplotlib as mpl\n",
    "from matplotlib import pyplot as plt\n",
    "\n",
    "mpl.rc('font', family='serif', size=16)"
   ]
  },
  {
   "cell_type": "code",
   "execution_count": 5,
   "metadata": {},
   "outputs": [
    {
     "name": "stdout",
     "output_type": "stream",
     "text": [
      "bright_atpeak\n",
      "21000 total galaxies\n",
      "18900 total sn hosts\n",
      "\n",
      "dim_atpeak\n",
      "21000 total galaxies\n",
      "18900 total sn hosts\n",
      "\n",
      "very_faint_atpeak\n",
      "21000 total galaxies\n",
      "18900 total sn hosts\n",
      "\n",
      "faint_atpeak\n",
      "21000 total galaxies\n",
      "18900 total sn hosts\n",
      "\n"
     ]
    }
   ],
   "source": [
    "# Load in the data\n",
    "basedir = '/Users/ryanrubenzahl/Documents/DESI/my_outlier_detection/'\n",
    "specdir = 'galaxy_sim_catalog/spectra/'\n",
    "expid = 4\n",
    "\n",
    "fluxscaled_sne = ['bright_atpeak', 'dim_atpeak', \n",
    "                  'faint_atpeak', 'very_faint_atpeak']\n",
    "\n",
    "scaled_files = {}\n",
    "for sn_dir in fluxscaled_sne:\n",
    "             \n",
    "    gal_globpath = basedir + specdir + 'galaxies/*expid%03d*.fits' % expid\n",
    "    sn_globpath  = basedir + specdir + sn_dir + '/*expid%03d*.fits'% expid\n",
    "\n",
    "    # Galaxies without supernovae\n",
    "    gal_files = glob.glob(gal_globpath)\n",
    "    # Galaxies with supernovae\n",
    "    sn_host_files = glob.glob(sn_globpath)\n",
    "\n",
    "    scaled_files[sn_dir] = {'galaxies': gal_files,\n",
    "                            'sn_hosts': sn_host_files}\n",
    "\n",
    "for sn_dir in scaled_files:\n",
    "    \n",
    "    print sn_dir\n",
    "    print len(scaled_files[sn_dir]['galaxies']), \"total galaxies\"\n",
    "    print len(scaled_files[sn_dir]['sn_hosts']), \"total sn hosts\"\n",
    "    print"
   ]
  },
  {
   "cell_type": "markdown",
   "metadata": {},
   "source": [
    "## Read in the data to an astropy table"
   ]
  },
  {
   "cell_type": "code",
   "execution_count": 7,
   "metadata": {},
   "outputs": [],
   "source": [
    "spec_tables = {}\n",
    "\n",
    "for sn_dir in scaled_files:\n",
    "    gal_files     = scaled_files[sn_dir]['galaxies']\n",
    "    sn_host_files = scaled_files[sn_dir]['sn_hosts']\n",
    "    all_files = np.append(gal_files, sn_host_files)\n",
    "    \n",
    "    data = []\n",
    "\n",
    "    for n, f in enumerate(all_files):\n",
    "\n",
    "        # Read the fits file\n",
    "        with fits.open(f, memmap=0) as hdul:\n",
    "\n",
    "            specid  = os.path.basename(f)[8:31] # Spectra ID tag\n",
    "            objtype = hdul[0].header['OBJTYPE'] # Object type (e.g. BGS)\n",
    "\n",
    "            # Throw out non-galaxy types (sky/calib star)\n",
    "            if objtype in ['SKY', 'FSTD']:\n",
    "                continue\n",
    "            else:\n",
    "                has_sn  = hdul[0].header['HAS_SN'] # SN or not\n",
    "                Z    = hdul[0].header['REDSHIFT']  # z of the spectrum\n",
    "                mag  = hdul[0].header['MAG']       # m of host galaxy\n",
    "                wave = hdul[1].data / (Z+1) # wavelength in rest frame\n",
    "                if not has_sn:\n",
    "                    flux = hdul[2].data * 1e-17 # match flux units\n",
    "                    sn_epoch = np.nan           # if empty epoch\n",
    "                else:\n",
    "                    flux = hdul[2].data         # flux values\n",
    "                    sn_epoch = hdul[0].header['SN_EPOCH'] # SN epoch\n",
    "                ivar = hdul[3].data # inverse variance (in the flux)\n",
    "                # TODO: FIX IVAR UNIT HERE\n",
    "\n",
    "                # Create a new table row\n",
    "                new_row = [specid, objtype, has_sn, sn_epoch, \n",
    "                           Z, mag, wave, flux, ivar]\n",
    "\n",
    "                # And add it to the table\n",
    "                data.append(new_row)\n",
    "\n",
    "    spec_df = pd.DataFrame(data=data, \n",
    "                          columns=('ID', 'OBJTYPE', 'HAS_SN', 'SN_EPOCH', \n",
    "                              'REDSHIFT', 'MAG', 'WAVE', 'FLUX', 'IVAR'))\n",
    "    spec_table = Table.from_pandas(spec_df)\n",
    "    \n",
    "    spec_tables[sn_dir] = spec_table"
   ]
  },
  {
   "cell_type": "code",
   "execution_count": 4,
   "metadata": {},
   "outputs": [],
   "source": []
  },
  {
   "cell_type": "markdown",
   "metadata": {},
   "source": [
    "## Eigenspectra Analysis"
   ]
  },
  {
   "cell_type": "code",
   "execution_count": 8,
   "metadata": {},
   "outputs": [],
   "source": [
    "# Read in the eigenbasis\n",
    "eigentable = np.genfromtxt(basedir + 'galaxy_sim_catalog/eigenspectra.txt')\n",
    "\n",
    "global_wavelength_grid = eigentable[0]\n",
    "eigenspectra = eigentable[1:]"
   ]
  },
  {
   "cell_type": "code",
   "execution_count": 11,
   "metadata": {},
   "outputs": [],
   "source": [
    "# Resample spectra to a common wavelength grid\n",
    "for sn_dir in spec_tables:\n",
    "    spec_table = spec_tables[sn_dir]\n",
    "    \n",
    "    resample_fluxes = []\n",
    "    resample_ivars  = []\n",
    "    for spectra in spec_table:\n",
    "        spec_flux_resample, spec_ivar_resample = resample_flux(\n",
    "                                 global_wavelength_grid, \n",
    "                                 spectra['WAVE'], \n",
    "                                 spectra['FLUX'],\n",
    "                                 ivar=spectra['IVAR'], \n",
    "                                 extrapolate=False\n",
    "                                )\n",
    "        resample_fluxes.append(spec_flux_resample)\n",
    "        resample_ivars.append(spec_ivar_resample)\n",
    "\n",
    "    spec_table['RESAMPLED_FLUX'] = resample_fluxes\n",
    "    spec_table['RESAMPLED_IVAR'] = resample_ivars"
   ]
  },
  {
   "cell_type": "code",
   "execution_count": 7,
   "metadata": {},
   "outputs": [],
   "source": [
    "# Loop through the spectra and calculate the\n",
    "# continuum flux using an eigenspectra fit\n",
    "for sn_dir in spec_tables:\n",
    "    spec_table = spec_tables[sn_dir]\n",
    "    \n",
    "    continuum_fluxes = []\n",
    "    for spectra in spec_table:    \n",
    "        # Project/fit the basis to the spectrum\n",
    "        basis_fit     = np.dot(np.linalg.pinv(eigenspectra.T), \n",
    "                               spectra['RESAMPLED_FLUX'])\n",
    "        bestfit_flux  = np.dot(basis_fit, eigenspectra)\n",
    "\n",
    "        continuum_fluxes.append(bestfit_flux)\n",
    "\n",
    "    spec_table['CONTINUUM_FLUX'] = continuum_fluxes"
   ]
  },
  {
   "cell_type": "markdown",
   "metadata": {},
   "source": [
    "## Measure amplitudes of features"
   ]
  },
  {
   "cell_type": "markdown",
   "metadata": {},
   "source": [
    "Table of feature boundaries in type Ia supernova spectra\n",
    "\n",
    "from https://arxiv.org/pdf/1011.6227.pdf\n",
    "\n",
    "| Feature | Dominating line | Lower region (centre A) | Upper region (centre A) | Rest wavelength (A) |\n",
    "|---------||----------------|-------------------------||---------------|\n",
    "|f1 | Ca II H&K           | 3450 - 3800 | 3800 - 4100 | 3945.12 |\n",
    "|f2 | Si II $\\lambda$4000 | 3800 - 3950 | 4000 - 4200 | 4129.73 |\n",
    "|f3 | Mg II $\\lambda$4300 | 3850 - 4250 | 4300 - 4700 | 4481.20 |\n",
    "|f4 | Fe II $\\lambda$4800 | 4300 - 4700 | 4950 - 5600 | 5083.42 |\n",
    "|f5 | S II W              | 5050 - 5300 | 5500 - 5750 | 5536.24 |\n",
    "|f6 | Si II $\\lambda$5800 | 5400 - 5700 | 5800 - 6000 | 6007.70 |\n",
    "|f7 | Si II $\\lambda$6150 | 5800 - 6100 | 6200 - 6600 | 6355.21 |"
   ]
  },
  {
   "cell_type": "code",
   "execution_count": 12,
   "metadata": {},
   "outputs": [],
   "source": [
    "features = {\n",
    "#   id     center    lower region    upper region\n",
    "    \"f1\": [3800, [3450, 3800], [3800, 4000]],\n",
    "    \"f2\": [4000, [3900, 3950], [4050, 4200]],\n",
    "    \"f3\": [4300, [4000, 4250], [4300, 4700]],\n",
    "    \"f4\": [4800, [4300, 4700], [4950, 5600]],\n",
    "    \"f5\": [5475, [5050, 5300], [5500, 5750]],\n",
    "    \"f6\": [5800, [5400, 5700], [5800, 6000]],\n",
    "    \"f7\": [6150, [5900, 6100], [6200, 6500]],\n",
    "}\n",
    "# features = {\n",
    "# #   id     center    min    max\n",
    "#     \"f1\": [3800, 3700, 3900],\n",
    "#     \"f2\": [4000, 3950, 4100],\n",
    "#     \"f3\": [4300, 4200, 4400],\n",
    "#     \"f4\": [4850, 4700, 5000],\n",
    "#     \"f5\": [5475, 5400, 5550],\n",
    "#     \"f6\": [5800, 5750, 5850],\n",
    "#     \"f7\": [6150, 6000, 6300],\n",
    "# }\n",
    "featurenames = {\n",
    "#   id     center    min    max\n",
    "    \"f1\": \"Ca II H&K\",\n",
    "    \"f2\": \"Si II $\\lambda$4000\",\n",
    "    \"f3\": \"Mg II $\\lambda$4300\",\n",
    "    \"f4\": \"Fe II $\\lambda$4800\",\n",
    "    \"f5\": \"S II W\",\n",
    "    \"f6\": \"Si II $\\lambda$5800\",\n",
    "    \"f7\": \"Si II $\\lambda$6150\",\n",
    "}"
   ]
  },
  {
   "cell_type": "code",
   "execution_count": 15,
   "metadata": {},
   "outputs": [],
   "source": [
    "def lowPassFilter(signal, fc, b):\n",
    "    N = int(np.ceil((4 / b)))\n",
    "    if not N % 2:\n",
    "        N += 1\n",
    "    n = np.arange(N)\n",
    "    sinc_func = np.sinc(2 * fc * (n - (N - 1) / 2.))\n",
    "    w1 = 0.42 - 0.5 * np.cos(2 * np.pi * n / (N - 1))\n",
    "    window = w1 + 0.08 * np.cos(4 * np.pi * n / (N - 1))\n",
    "    sinc_func = sinc_func * window\n",
    "    sinc_func = sinc_func / np.sum(sinc_func)\n",
    "    return N, np.convolve(signal, sinc_func)\n",
    "\n",
    "def highPassFilter(signal, fc, b):\n",
    "    N = int(np.ceil((4 / b)))\n",
    "    if not N % 2:\n",
    "        N += 1\n",
    "    n = np.arange(N)\n",
    " \n",
    "    sinc_func = np.sinc(2 * fc * (n - (N - 1) / 2.))\n",
    "    window = np.blackman(N)\n",
    "    sinc_func = sinc_func * window\n",
    "    sinc_func = sinc_func / np.sum(sinc_func)\n",
    "\n",
    "    # reverse function\n",
    "    sinc_func = -sinc_func\n",
    "    sinc_func[(N - 1) // 2] += 1\n",
    "\n",
    "    return N, np.convolve(signal, sinc_func)"
   ]
  },
  {
   "cell_type": "code",
   "execution_count": 16,
   "metadata": {},
   "outputs": [],
   "source": [
    "def get_feature_box(feature, spectrum):\n",
    "    \n",
    "    flux = spectrum['RESAMPLED_FLUX'] \n",
    "    lowercut = ((global_wavelength_grid > feature[1][0]) &\n",
    "                    (global_wavelength_grid < feature[1][1]))\n",
    "    uppercut = ((global_wavelength_grid > feature[2][0]) &\n",
    "                    (global_wavelength_grid < feature[2][1]))\n",
    "    \n",
    "    lowerregion = global_wavelength_grid[lowercut]\n",
    "    upperregion = global_wavelength_grid[uppercut]\n",
    "    \n",
    "#     lowerregion_flux = flux[lowercut]\n",
    "#     upperregion_flux = flux[uppercut]\n",
    "    \n",
    "    # Using low pass filters\n",
    "    fc, b = 0.01, 0.01\n",
    "    N, lpf = lowPassFilter(flux, fc=fc, b=b)\n",
    "    dN = (N-1) // 2\n",
    "    lpf = lpf[dN:-dN]\n",
    "    \n",
    "    lowerregion_flux = lpf[lowercut]\n",
    "    upperregion_flux = lpf[uppercut]\n",
    "\n",
    "    lowerbound = lowerregion[np.argmax(lowerregion_flux)]\n",
    "    upperbound = upperregion[np.argmax(upperregion_flux)]\n",
    "        \n",
    "    featurecut = ((global_wavelength_grid > lowerbound) &\n",
    "                    (global_wavelength_grid < upperbound))\n",
    "    \n",
    "    feature_wave = global_wavelength_grid[featurecut]\n",
    "    feature_flux = lpf[featurecut] # flux[featurecut]\n",
    "    \n",
    "    # Define the pseudo-continuum\n",
    "    fluxdiff = (feature_flux[-1] - feature_flux[0])\n",
    "    waverange = (upperbound - lowerbound)\n",
    "    slope = fluxdiff / waverange\n",
    "    \n",
    "    pseudo_continuum = feature_flux[0]+slope*(feature_wave-lowerbound)\n",
    "\n",
    "    return [feature_wave, feature_flux, pseudo_continuum], lpf\n",
    "\n"
   ]
  },
  {
   "cell_type": "code",
   "execution_count": 17,
   "metadata": {},
   "outputs": [],
   "source": [
    "def get_pEW(feature, spectrum):\n",
    "    \n",
    "    # Get the bounding box to calculate the pEW in\n",
    "    feature_box, lpf = get_feature_box(feature, spectrum)\n",
    "    feature_wave, feature_flux, pseudo_continuum = feature_box\n",
    "    \n",
    "    pEW = np.sum(1. - feature_flux/pseudo_continuum)    \n",
    "    \n",
    "    return pEW"
   ]
  },
  {
   "cell_type": "code",
   "execution_count": 18,
   "metadata": {
    "scrolled": false
   },
   "outputs": [],
   "source": [
    "for sn_dir in spec_tables:\n",
    "    spec_table = spec_tables[sn_dir]\n",
    "    \n",
    "    pEW_features = []\n",
    "    for spectrum in spec_table:\n",
    "        pEWs = []\n",
    "        gaussian_amplitudes = []\n",
    "        for fn in sorted(features.keys()):\n",
    "            feature = features[fn]\n",
    "            pEW = get_pEW(feature, spectrum)\n",
    "            pEWs.append(pEW)\n",
    "\n",
    "        pEW_features.append(pEWs)\n",
    "\n",
    "    spec_table['pEW_FEATURES'] = pEW_features\n"
   ]
  },
  {
   "cell_type": "markdown",
   "metadata": {},
   "source": [
    "## Organize data for classification"
   ]
  },
  {
   "cell_type": "code",
   "execution_count": 19,
   "metadata": {},
   "outputs": [],
   "source": [
    "import pandas as pd\n",
    "from sklearn.ensemble import RandomForestClassifier"
   ]
  },
  {
   "cell_type": "code",
   "execution_count": 20,
   "metadata": {},
   "outputs": [],
   "source": [
    "datatables = {}\n",
    "\n",
    "for sn_dir in spec_tables:\n",
    "    spec_table = spec_tables[sn_dir]\n",
    "    \n",
    "    # Load feature values into one overall table\n",
    "    # each column = one feature\n",
    "    table  = []\n",
    "    names  = []\n",
    "    dtypes = []\n",
    "\n",
    "    num_features = len(features)\n",
    "\n",
    "    for spec in spec_table:\n",
    "        tablerow = np.append(spec['pEW_FEATURES'], spec['HAS_SN'])\n",
    "        table.append(tablerow)\n",
    "\n",
    "    for i in range(1,num_features+1):\n",
    "        names.append(\"f%d\" % i)\n",
    "        dtypes.append(np.float32)\n",
    "\n",
    "    names.append('HAS_SN')\n",
    "    dtypes.append('S')\n",
    "\n",
    "    data = Table(rows=table, names=names, dtype=dtypes)\n",
    "    \n",
    "    datatables[sn_dir] = data"
   ]
  },
  {
   "cell_type": "markdown",
   "metadata": {},
   "source": [
    "## Run random forest classifier on featureset"
   ]
  },
  {
   "cell_type": "code",
   "execution_count": 23,
   "metadata": {},
   "outputs": [
    {
     "name": "stdout",
     "output_type": "stream",
     "text": [
      "bright_atpeak\n",
      "Number of observations in the training data: 28386\n",
      "Number of observations in the test data: 9414\n",
      "Training set: 28386: (Ia 14227,0.0 14159,)\n",
      "Training set: 9414: (Ia 4673,0.0 4741,)\n",
      "\n",
      "dim_atpeak\n",
      "Number of observations in the training data: 28279\n",
      "Number of observations in the test data: 9521\n",
      "Training set: 28279: (Ia 14079,0.0 14200,)\n",
      "Training set: 9521: (Ia 4821,0.0 4700,)\n",
      "\n",
      "very_faint_atpeak\n",
      "Number of observations in the training data: 28404\n",
      "Number of observations in the test data: 9396\n",
      "Training set: 28404: (Ia 14194,0.0 14210,)\n",
      "Training set: 9396: (Ia 4706,0.0 4690,)\n",
      "\n",
      "faint_atpeak\n",
      "Number of observations in the training data: 28256\n",
      "Number of observations in the test data: 9544\n",
      "Training set: 28256: (Ia 14125,0.0 14131,)\n",
      "Training set: 9544: (Ia 4775,0.0 4769,)\n",
      "\n"
     ]
    }
   ],
   "source": [
    "rf_classifiers = {}\n",
    "predictions = {}\n",
    "actuals     = {}\n",
    "\n",
    "for sn_dir in datatables:\n",
    "    print sn_dir\n",
    "    \n",
    "    data = datatables[sn_dir]\n",
    "    \n",
    "    df = data.to_pandas()\n",
    "\n",
    "    df['is_train'] = np.random.uniform(0, 1, len(df)) <= 0.75\n",
    "\n",
    "    # We now split the dataframes into a test and training dataset\n",
    "    train, test = df[df['is_train']==True], df[df['is_train']==False]\n",
    "    print 'Number of observations in the training data:', len(train)\n",
    "    print 'Number of observations in the test data:',len(test)\n",
    "\n",
    "    train_count = Counter(train['HAS_SN'])\n",
    "    test_count  = Counter(test['HAS_SN'])\n",
    "\n",
    "    trainstr = \"\"\n",
    "    for k in train_count.keys():\n",
    "        trainstr += \"%s %d,\" % (k, train_count[k])\n",
    "    print \"Training set: %d: (%s)\" % (len(train), trainstr)\n",
    "\n",
    "    teststr = \"\"\n",
    "    for k in test_count.keys():\n",
    "        teststr += \"%s %d,\" % (k, test_count[k])\n",
    "    print \"Training set: %d: (%s)\" % (len(test), teststr)\n",
    "\n",
    "    rf_features = df.columns[:-2]\n",
    "    rf_features\n",
    "\n",
    "    y, objtypes = pd.factorize(train['HAS_SN'])\n",
    "\n",
    "    # Now we train the random forest\n",
    "    clf = RandomForestClassifier(n_jobs=1, \n",
    "                                 random_state=0,\n",
    "                                 verbose=0)\n",
    "\n",
    "    clf.fit(train[rf_features], y)\n",
    "\n",
    "    rf_classifiers[sn_dir] = clf\n",
    "    \n",
    "    # Apply the classifier to the test data\n",
    "    preds = [objtypes[i] for i in clf.predict(test[rf_features])]\n",
    "    \n",
    "    predictions[sn_dir] = preds\n",
    "    actuals[sn_dir] = np.asarray(test['HAS_SN'])\n",
    "    \n",
    "    print"
   ]
  },
  {
   "cell_type": "code",
   "execution_count": 26,
   "metadata": {},
   "outputs": [
    {
     "name": "stdout",
     "output_type": "stream",
     "text": [
      "population: 9414\n",
      "P: 4673\n",
      "N: 4741\n",
      "PositiveTest: 4674\n",
      "NegativeTest: 4740\n",
      "TP: 4673\n",
      "TN: 4740\n",
      "FP: 1\n",
      "FN: 0\n",
      "TPR: 1.0\n",
      "TNR: 0.999789074035\n",
      "PPV: 0.999786050492\n",
      "NPV: 1.0\n",
      "FPR: 0.000210925964986\n",
      "FDR: 0.000213949507916\n",
      "FNR: 0.0\n",
      "ACC: 0.999893775228\n",
      "F1_score: 0.999893013801\n",
      "MCC: 0.999787562262\n",
      "informedness: 0.999789074035\n",
      "markedness: 0.999786050492\n",
      "prevalence: 0.496388357765\n",
      "LRP: 4741.0\n",
      "LRN: 0.0\n",
      "DOR: inf\n",
      "FOR: 0.0\n"
     ]
    }
   ],
   "source": [
    "from pandas_ml import ConfusionMatrix\n",
    "\n",
    "cm = ConfusionMatrix(actuals['bright_atpeak'], \n",
    "                     predictions['bright_atpeak'])\n",
    "cm.print_stats()"
   ]
  },
  {
   "cell_type": "code",
   "execution_count": 59,
   "metadata": {},
   "outputs": [
    {
     "name": "stdout",
     "output_type": "stream",
     "text": [
      "bright_atpeak\n",
      "Predicted   0.0    Ia  __all__\n",
      "Actual                        \n",
      "0.0        4740     1     4741\n",
      "Ia            0  4673     4673\n",
      "__all__    4740  4674     9414\n",
      "\n",
      "dim_atpeak\n",
      "Predicted   0.0    Ia  __all__\n",
      "Actual                        \n",
      "0.0        4699     1     4700\n",
      "Ia            3  4818     4821\n",
      "__all__    4702  4819     9521\n",
      "\n",
      "faint_atpeak\n",
      "Predicted   0.0    Ia  __all__\n",
      "Actual                        \n",
      "0.0        4550   219     4769\n",
      "Ia          256  4519     4775\n",
      "__all__    4806  4738     9544\n",
      "\n",
      "very_faint_atpeak\n",
      "Predicted   0.0    Ia  __all__\n",
      "Actual                        \n",
      "0.0        2702  1988     4690\n",
      "Ia         2774  1932     4706\n",
      "__all__    5476  3920     9396\n",
      "\n"
     ]
    }
   ],
   "source": [
    "# Display how well the classifier did via a confusion matrix\n",
    "ratio_stats = []\n",
    "for sn_dir in fluxscaled_sne:\n",
    "    print sn_dir\n",
    "    cm = ConfusionMatrix(actuals[sn_dir], \n",
    "                     predictions[sn_dir])\n",
    "    ratio_stats.append(cm)\n",
    "    print cm\n",
    "    print"
   ]
  },
  {
   "cell_type": "code",
   "execution_count": 69,
   "metadata": {},
   "outputs": [
    {
     "data": {
      "image/png": "[encoded data removed]",
      "text/plain": [
       "<matplotlib.figure.Figure at 0x14f0f0f50>"
      ]
     },
     "metadata": {},
     "output_type": "display_data"
    }
   ],
   "source": [
    "fig, ax = plt.subplots(1,1, figsize=(8,4))\n",
    "\n",
    "labels = ['Bright', 'Dim', 'Faint', 'Very Faint']\n",
    "\n",
    "ratio_acc = np.array([cm.ACC for cm in ratio_stats])\n",
    "ratio_TPR = np.array([cm.TPR for cm in ratio_stats])\n",
    "ratio_TNR = np.array([cm.TNR for cm in ratio_stats])\n",
    "ratio_FPR = np.array([cm.FPR for cm in ratio_stats])\n",
    "ratio_FNR = np.array([cm.FNR for cm in ratio_stats])\n",
    "\n",
    "ax.plot(range(len(fluxscaled_sne)), ratio_acc*100, \n",
    "            color='k', lw=2, label='Accuracy')\n",
    "ax.scatter(range(len(fluxscaled_sne)), ratio_acc*100, color='k', s=20)\n",
    "\n",
    "ax.plot(range(len(fluxscaled_sne)), ratio_TPR*100, \n",
    "            color='g', lw=2, label='TPR')\n",
    "ax.scatter(range(len(fluxscaled_sne)), ratio_TPR*100, color='g', s=20)\n",
    "\n",
    "ax.plot(range(len(fluxscaled_sne)), ratio_TNR*100, \n",
    "            color='b', lw=2, label='TNR')\n",
    "ax.scatter(range(len(fluxscaled_sne)), ratio_TNR*100, color='b', s=20)\n",
    "\n",
    "ax.plot(range(len(fluxscaled_sne)), ratio_FPR*100, \n",
    "            color='r', lw=2, label='FPR')\n",
    "ax.scatter(range(len(fluxscaled_sne)), ratio_FPR*100, color='r', s=20)\n",
    "\n",
    "ax.plot(range(len(fluxscaled_sne)), ratio_FNR*100, \n",
    "            color='m', lw=2, label='FNR')\n",
    "ax.scatter(range(len(fluxscaled_sne)), ratio_FNR*100, color='m', s=20)\n",
    "\n",
    "\n",
    "# Lables and stuff\n",
    "ax.set(ylabel='Percent', ylim=[0,100],\n",
    "       xticks=range(len(fluxscaled_sne)), xticklabels=labels)\n",
    "\n",
    "ax.legend(loc='center', bbox_to_anchor=(0.5, 1.08), ncol=5, fontsize=12)\n",
    "# ax.legend(loc='center left', bbox_to_anchor=(1, 0.5))\n",
    "\n",
    "savedir = '/Users/ryanrubenzahl/Library/Ryan/College/Senior Thesis/'\n",
    "savedir += 'thesis/Figures/'\n",
    "\n",
    "# plt.savefig(savedir + 'ratioscaling_stats.png',\n",
    "#            format='png', dpi=300, bbox_inches='tight')"
   ]
  },
  {
   "cell_type": "code",
   "execution_count": 31,
   "metadata": {},
   "outputs": [
    {
     "data": {
      "image/png": "[encoded data removed]",
      "text/plain": [
       "<matplotlib.figure.Figure at 0x1263e4210>"
      ]
     },
     "metadata": {},
     "output_type": "display_data"
    },
    {
     "data": {
      "image/png": "[encoded data removed]",
      "text/plain": [
       "<matplotlib.figure.Figure at 0x1266f49d0>"
      ]
     },
     "metadata": {},
     "output_type": "display_data"
    },
    {
     "data": {
      "image/png": "[encoded data removed]",
      "text/plain": [
       "<matplotlib.figure.Figure at 0x1268a6190>"
      ]
     },
     "metadata": {},
     "output_type": "display_data"
    },
    {
     "data": {
      "image/png": "[encoded data removed]",
      "text/plain": [
       "<matplotlib.figure.Figure at 0x126841210>"
      ]
     },
     "metadata": {},
     "output_type": "display_data"
    }
   ],
   "source": [
    "for sn_dir in fluxscaled_sne:\n",
    "    clf = rf_classifiers[sn_dir]\n",
    "    \n",
    "    fig, ax = plt.subplots(1,1, figsize=(8,4))\n",
    "\n",
    "    # Label line\n",
    "    ax.bar(range(1,len(rf_features)+1), clf.feature_importances_)\n",
    "    ax.set(xlabel='Feature',\n",
    "           ylabel='Relative Importance',\n",
    "           title=sn_dir)\n",
    "    fig.tight_layout()"
   ]
  },
  {
   "cell_type": "markdown",
   "metadata": {},
   "source": [
    "## Statistics vs. redshift"
   ]
  },
  {
   "cell_type": "code",
   "execution_count": 34,
   "metadata": {},
   "outputs": [],
   "source": [
    "all_test_specs = {}\n",
    "\n",
    "for sn_dir in spec_tables:\n",
    "    spec_table = spec_tables[sn_dir]\n",
    "    \n",
    "    test_specs = spec_table[np.asarray(df['is_train']==False)]\n",
    "    test_specs['PREDICTED'] = np.asarray(preds, dtype='|S6')\n",
    "    test_specs.sort('REDSHIFT')\n",
    "    \n",
    "    for spec in test_specs:\n",
    "        if spec['PREDICTED'] == '0.0':\n",
    "            spec['PREDICTED'] = 'Galaxy'\n",
    "        if spec['HAS_SN'] == False:\n",
    "            spec['HAS_SN'] = 'Galaxy'\n",
    "    \n",
    "    all_test_specs[sn_dir] = test_specs"
   ]
  },
  {
   "cell_type": "code",
   "execution_count": 36,
   "metadata": {},
   "outputs": [
    {
     "name": "stdout",
     "output_type": "stream",
     "text": [
      "['Galaxy', 'Ia', 'Galaxy', 'Galaxy', 'Ia', 'Galaxy', 'Galaxy', 'Ia']\n",
      "['Galaxy', 'Ia', 'Galaxy', 'Galaxy', 'Ia', 'Galaxy', 'Galaxy', 'Ia']\n"
     ]
    }
   ],
   "source": [
    "print list(all_test_specs['bright_atpeak']['HAS_SN'])[:8]\n",
    "print list(all_test_specs['bright_atpeak']['PREDICTED'])[:8]"
   ]
  },
  {
   "cell_type": "code",
   "execution_count": 40,
   "metadata": {},
   "outputs": [],
   "source": [
    "n_per_bin = 500\n",
    "all_zbins = {}\n",
    "all_zbin_stats = {}\n",
    "\n",
    "for sn_dir in all_test_specs:\n",
    "    test_specs = all_test_specs[sn_dir]\n",
    "    test_specs_redshifts = np.asarray(test_specs['REDSHIFT'])\n",
    "    \n",
    "    zbins = []\n",
    "    i = 0\n",
    "    for zrange in test_specs_redshifts[::n_per_bin]:\n",
    "        zbin = test_specs_redshifts[i: i + n_per_bin]\n",
    "        zbins.append([zbin[0], zbin[-1]])\n",
    "        i += n_per_bin\n",
    "    \n",
    "    all_zbins[sn_dir] = zbins\n",
    "    \n",
    "    zbin_stats = []\n",
    "    for zbin in zbins:\n",
    "        zcut = ((test_specs['REDSHIFT'] > zbin[0]) & \n",
    "                  (test_specs['REDSHIFT'] < zbin[1]))\n",
    "\n",
    "        zbin_specs = test_specs[zcut]\n",
    "\n",
    "        cm = ConfusionMatrix(np.asarray(zbin_specs['HAS_SN']),\n",
    "                             np.asarray(zbin_specs['PREDICTED']))\n",
    "\n",
    "        zbin_stats.append(cm)\n",
    "    \n",
    "    all_zbin_stats[sn_dir] = zbin_stats"
   ]
  },
  {
   "cell_type": "code",
   "execution_count": 52,
   "metadata": {},
   "outputs": [
    {
     "data": {
      "text/plain": [
       "<matplotlib.legend.Legend at 0x126432250>"
      ]
     },
     "execution_count": 52,
     "metadata": {},
     "output_type": "execute_result"
    },
    {
     "data": {
      "image/png": "[encoded data removed]",
      "text/plain": [
       "<matplotlib.figure.Figure at 0x124a8dc10>"
      ]
     },
     "metadata": {},
     "output_type": "display_data"
    }
   ],
   "source": [
    "fig, ax = plt.subplots(1,1, figsize=(8,4))\n",
    "\n",
    "labels = ['Bright', 'Dim', 'Faint', 'Very Faint']\n",
    "\n",
    "for i, sn_dir in enumerate(fluxscaled_sne):\n",
    "    zbin_stats = all_zbin_stats[sn_dir][:-1]\n",
    "    zbins      = all_zbins[sn_dir][:-1]\n",
    "    \n",
    "    zbin_means = [(z[0]+z[1])/2. for z in zbins]\n",
    "    zbinwidths = [z[1]-z[0] for z in zbins]\n",
    "    \n",
    "    # Get desired stats\n",
    "    zbin_acc = np.array([cm.ACC for cm in zbin_stats])\n",
    "#     zbin_TPR = np.array([cm.TPR for cm in zbin_stats])\n",
    "#     zbin_TNR = np.array([cm.TNR for cm in zbin_stats])\n",
    "#     zbin_FPR = np.array([cm.FPR for cm in zbin_stats])\n",
    "#     zbin_FNR = np.array([cm.FNR for cm in zbin_stats])\n",
    "\n",
    "    \n",
    "    ax.errorbar(zbin_means, zbin_acc*100, xerr=zbinwidths, \n",
    "                lw=5-i, label=labels[i])\n",
    "    \n",
    "ax.set(xlabel='z', ylabel='Percent', title='Accuracy of RF Classifier',\n",
    "       ylim=[92,100], \n",
    "       xlim=[0, 0.41])\n",
    "\n",
    "ax.legend(loc='upper center', ncol=4, fontsize=12)"
   ]
  },
  {
   "cell_type": "code",
   "execution_count": null,
   "metadata": {},
   "outputs": [],
   "source": []
  }
 ],
 "metadata": {
  "kernelspec": {
   "display_name": "Python 2",
   "language": "python",
   "name": "python2"
  },
  "language_info": {
   "codemirror_mode": {
    "name": "ipython",
    "version": 2
   },
   "file_extension": ".py",
   "mimetype": "text/x-python",
   "name": "python",
   "nbconvert_exporter": "python",
   "pygments_lexer": "ipython2",
   "version": "2.7.13"
  }
 },
 "nbformat": 4,
 "nbformat_minor": 2
}

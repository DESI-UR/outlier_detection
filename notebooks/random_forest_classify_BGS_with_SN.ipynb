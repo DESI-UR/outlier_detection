{
 "cells": [
  {
   "cell_type": "code",
   "execution_count": 1,
   "metadata": {},
   "outputs": [],
   "source": [
    "%matplotlib inline\n",
    "\n",
    "import os\n",
    "import glob\n",
    "import numpy as np\n",
    "import matplotlib as mpl\n",
    "import matplotlib.pyplot as plt\n",
    "\n",
    "from astropy.io import fits\n",
    "from astropy.table import Table, Column\n",
    "\n",
    "from desispec.interpolation import resample_flux\n",
    "\n",
    "mpl.rc('font', family='serif', size=10)"
   ]
  },
  {
   "cell_type": "code",
   "execution_count": 2,
   "metadata": {},
   "outputs": [],
   "source": [
    "# Some simulation parameters\n",
    "night   = '20190101'\n",
    "expid   = 4 # exposure ID number, can use to simulate more than one DESI exposure"
   ]
  },
  {
   "cell_type": "code",
   "execution_count": 3,
   "metadata": {
    "scrolled": true
   },
   "outputs": [
    {
     "name": "stdout",
     "output_type": "stream",
     "text": [
      "11400 total spectra\n"
     ]
    }
   ],
   "source": [
    "globpath = '../galaxy_sim_catalog/gal_spectra/*expid%03d*.fits' % expid\n",
    "\n",
    "# Sort out 20190102 which I haven't added SN to yet\n",
    "all_spectra = [fn for fn in glob.glob(globpath) \n",
    "                 if not '20190102' in os.path.basename(fn)]\n",
    "\n",
    "print len(all_spectra), \"total spectra\""
   ]
  },
  {
   "cell_type": "markdown",
   "metadata": {},
   "source": [
    "## Read spectra into table"
   ]
  },
  {
   "cell_type": "code",
   "execution_count": 5,
   "metadata": {},
   "outputs": [],
   "source": [
    "spec_table = Table(names=('ID', 'OBJTYPE', 'HAS_SN', 'SN_EPOCH', 'REDSHIFT', \n",
    "                          'MAG', 'WAVE', 'FLUX', 'IVAR'),\n",
    "                 dtype=('S23', 'S4', 'S5', 'S5', float, float, list, list, list))\n",
    "\n",
    "for n, spectra in enumerate(all_spectra):\n",
    "        \n",
    "    if \"-with-SN\" in spectra:\n",
    "        specid = int(spectra[-20:-15])\n",
    "    else:\n",
    "        specid = int(spectra[-10:-5])\n",
    "    \n",
    "        \n",
    "    with fits.open(spectra, memmap=0) as hdul:\n",
    "\n",
    "        specid  = os.path.basename(spectra)[8:31]\n",
    "        objtype = hdul[0].header['OBJTYPE']\n",
    "\n",
    "        if objtype in ['SKY', 'FSTD']:\n",
    "            continue\n",
    "        else:\n",
    "            has_sn  = hdul[0].header['HAS_SN']\n",
    "            Z    = hdul[0].header['REDSHIFT']\n",
    "            mag  = hdul[0].header['MAG']\n",
    "            wave = hdul[1].data / (Z+1)\n",
    "            if not has_sn:\n",
    "                flux = hdul[2].data * 1e-17 # gal fluxes aren't in units\n",
    "                sn_epoch = \"n/a\"\n",
    "            else:\n",
    "                flux = hdul[2].data\n",
    "                sn_epoch = hdul[0].header['SN_EPOCH']\n",
    "            ivar = hdul[3].data * 1e-17\n",
    "\n",
    "            new_row = [specid, objtype, has_sn, sn_epoch, Z, mag, wave, flux, ivar]\n",
    "            spec_table.add_row(new_row)"
   ]
  },
  {
   "cell_type": "code",
   "execution_count": 6,
   "metadata": {},
   "outputs": [
    {
     "data": {
      "text/plain": [
       "10800"
      ]
     },
     "execution_count": 6,
     "metadata": {},
     "output_type": "execute_result"
    }
   ],
   "source": [
    "len(spec_table)"
   ]
  },
  {
   "cell_type": "code",
   "execution_count": 7,
   "metadata": {
    "scrolled": true
   },
   "outputs": [
    {
     "data": {
      "text/html": [
       "&lt;Table length=10&gt;\n",
       "<table id=\"table4478344528\" class=\"table-striped table-bordered table-condensed\">\n",
       "<thead><tr><th>ID</th><th>OBJTYPE</th><th>HAS_SN</th><th>SN_EPOCH</th><th>REDSHIFT</th><th>MAG</th><th>WAVE</th><th>FLUX</th><th>IVAR</th></tr></thead>\n",
       "<thead><tr><th>str23</th><th>str4</th><th>str5</th><th>str5</th><th>float64</th><th>float64</th><th>object</th><th>object</th><th>object</th></tr></thead>\n",
       "<tr><td>20190401-expid004-00480</td><td>BGS</td><td>Ia</td><td>0.0</td><td>0.239963606</td><td>17.66655159</td><td>[ 2878.47154054  2879.27801582  2880.0844911  ...,  7929.42643456\n",
       "  7930.23290985  7931.03938513]</td><td>[  3.34904029e-16   1.56034675e-16   1.05328637e-16 ...,   1.44351531e-16\n",
       "   1.96318432e-16   4.09805504e-16]</td><td>[  3.55154584e-20   1.02079852e-19   1.13137021e-19 ...,   6.70146743e-18\n",
       "   5.48521083e-18   2.52316763e-19]</td></tr>\n",
       "<tr><td>20190101-expid004-00231</td><td>BGS</td><td>Ia</td><td>0.0</td><td>0.12860250473</td><td>16.3117465973</td><td>[ 3162.49515326  3163.38120482  3164.26725637 ...,  8711.83623473\n",
       "  8712.72228628  8713.60833783]</td><td>[  5.73340152e-16   4.86429852e-16   4.75619966e-16 ...,   5.35301199e-16\n",
       "   6.49569047e-16   1.13298841e-15]</td><td>[  2.52107154e-20   7.20025374e-20   7.88461193e-20 ...,   2.82263638e-18\n",
       "   2.18206296e-18   9.81923487e-20]</td></tr>\n",
       "<tr><td>20190101-expid004-00224</td><td>BGS</td><td>Ia</td><td>0.0</td><td>0.0917735546827</td><td>16.5328006744</td><td>[ 3269.17604467  3270.09198552  3271.00792637 ...,  9005.71382513\n",
       "  9006.62976598  9007.54570683]</td><td>[  1.42345373e-16   4.86804861e-16   1.09589806e-16 ...,   5.10241871e-16\n",
       "   6.33744578e-16   9.78909561e-16]</td><td>[  3.54782450e-20   1.01910577e-19   1.12705982e-19 ...,   2.94555294e-18\n",
       "   2.28153949e-18   1.02758974e-19]</td></tr>\n",
       "<tr><td>20190401-expid004-00495</td><td>BGS</td><td>Ia</td><td>0.0</td><td>0.0737213119864</td><td>17.2675952911</td><td>[ 3324.13998989  3325.07133026  3326.00267062 ...,  9157.12493135\n",
       "  9158.05627172  9158.98761208]</td><td>[ -1.97294663e-16   1.16187424e-16   1.48275412e-16 ...,   2.71725422e-16\n",
       "   3.54164910e-16   5.71728970e-16]</td><td>[  4.19935945e-20   1.20448793e-19   1.33079712e-19 ...,   4.88493744e-18\n",
       "   3.87629450e-18   1.76185464e-19]</td></tr>\n",
       "<tr><td>20190101-expid004-00202</td><td>BGS</td><td>False</td><td>n/a</td><td>0.365126162767</td><td>18.7889194489</td><td>[ 2614.55684355  2615.28937658  2616.0219096  ...,  7202.41136935\n",
       "  7203.14390238  7203.8764354 ]</td><td>[ -7.15045891e-17  -7.55193466e-17  -1.21839998e-16 ...,   8.01613519e-17\n",
       "   1.27640255e-16   1.00381193e-16]</td><td>[  4.22650196e-20   1.21455718e-19   1.34733479e-19 ...,   8.45498031e-18\n",
       "   7.13840077e-18   3.32359231e-19]</td></tr>\n",
       "<tr><td>20190101-expid004-01938</td><td>BGS</td><td>Ia</td><td>0.0</td><td>0.253593295813</td><td>15.4672794342</td><td>[ 2847.17536628  2847.97307316  2848.77078005 ...,  7843.2137665\n",
       "  7844.01147338  7844.80918027]</td><td>[  8.07171394e-16   6.43446960e-16   5.77637505e-16 ...,   1.48384392e-15\n",
       "   1.86312879e-15   2.92419116e-15]</td><td>[  2.38957228e-20   6.87033340e-20   7.60089609e-20 ...,   1.14025234e-18\n",
       "   8.60394292e-19   3.83651118e-20]</td></tr>\n",
       "<tr><td>20190101-expid004-04117</td><td>BGS</td><td>Ia</td><td>0.0</td><td>0.197214454412</td><td>18.563791275</td><td>[ 2981.25364091  2982.08891315  2982.9241854  ...,  8212.56388868\n",
       "  8213.39916092  8214.23443316]</td><td>[  1.86583292e-17   2.85546307e-17  -2.92556289e-17 ...,   6.45242045e-17\n",
       "   7.23472297e-17   1.73001857e-16]</td><td>[  3.96941584e-20   1.14115847e-19   1.26565148e-19 ...,   1.03152466e-17\n",
       "   8.89798929e-18   4.17773074e-19]</td></tr>\n",
       "<tr><td>20190101-expid004-02395</td><td>BGS</td><td>False</td><td>n/a</td><td>0.330918580294</td><td>19.3047332764</td><td>[ 2681.75679866  2682.50815943  2683.25952019 ...,  7387.52944086\n",
       "  7388.28080163  7389.03216239]</td><td>[ -2.25514846e-16   1.11150800e-16   5.74941546e-17 ...,   6.58734148e-17\n",
       "   7.54973105e-17   1.20845119e-16]</td><td>[  4.50495712e-20   1.29453404e-19   1.43604461e-19 ...,   9.69283707e-18\n",
       "   8.41879033e-18   3.96345994e-19]</td></tr>\n",
       "<tr><td>20190101-expid004-02738</td><td>BGS</td><td>Ia</td><td>0.0</td><td>0.0487702526152</td><td>15.2466878891</td><td>[ 3403.22386364  3404.17736131  3405.13085899 ...,  9374.98005001\n",
       "  9375.93354769  9376.88704537]</td><td>[  1.88566233e-15   1.45304167e-15   1.51467087e-15 ...,   1.29037836e-15\n",
       "   1.70371762e-15   2.52794971e-15]</td><td>[  1.64194350e-20   4.71061038e-20   5.18186099e-20 ...,   1.31380631e-18\n",
       "   9.94000918e-19   4.43673023e-20]</td></tr>\n",
       "<tr><td>20190101-expid004-01940</td><td>BGS</td><td>False</td><td>n/a</td><td>0.184703230858</td><td>18.1152458191</td><td>[ 3012.73758542  3013.58167867  3014.42577192 ...,  8299.29381402\n",
       "  8300.13790727  8300.98200052]</td><td>[  8.71531804e-18   3.60528688e-17   7.22551662e-17 ...,   9.77494219e-17\n",
       "   1.15066250e-16   2.01192533e-16]</td><td>[  3.97214618e-20   1.14172263e-19   1.26687118e-19 ...,   7.90228056e-18\n",
       "   6.63730675e-18   3.08388106e-19]</td></tr>\n",
       "</table>"
      ],
      "text/plain": [
       "<Table length=10>\n",
       "           ID           ...\n",
       "         str23          ...\n",
       "----------------------- ...\n",
       "20190401-expid004-00480 ...\n",
       "20190101-expid004-00231 ...\n",
       "20190101-expid004-00224 ...\n",
       "20190401-expid004-00495 ...\n",
       "20190101-expid004-00202 ...\n",
       "20190101-expid004-01938 ...\n",
       "20190101-expid004-04117 ...\n",
       "20190101-expid004-02395 ...\n",
       "20190101-expid004-02738 ...\n",
       "20190101-expid004-01940 ..."
      ]
     },
     "execution_count": 7,
     "metadata": {},
     "output_type": "execute_result"
    }
   ],
   "source": [
    "spec_table[:10]"
   ]
  },
  {
   "cell_type": "code",
   "execution_count": 8,
   "metadata": {},
   "outputs": [],
   "source": [
    "SN_fluxes = {}\n",
    "\n",
    "for specid in set(spec_table['ID']):\n",
    "    \n",
    "    # Get the galaxy + SN host pair\n",
    "    specs  = spec_table[spec_table['ID'] == specid]\n",
    "    snhost = specs[specs['HAS_SN'] != 'False']\n",
    "    gal    = specs[specs['HAS_SN'] == 'False']\n",
    "    \n",
    "    # Remove the galaxy from the supernova\n",
    "    sn_flux = snhost['FLUX'] - gal['FLUX']\n",
    "    sn_wave = snhost['WAVE']\n",
    "    \n",
    "    # Save the SN-only flux\n",
    "    SN_fluxes[specid] = [sn_wave, sn_flux]"
   ]
  },
  {
   "cell_type": "code",
   "execution_count": 9,
   "metadata": {},
   "outputs": [],
   "source": [
    "# Sort the table so we can read through it easier\n",
    "spec_table.sort('ID')"
   ]
  },
  {
   "cell_type": "code",
   "execution_count": 10,
   "metadata": {},
   "outputs": [
    {
     "name": "stdout",
     "output_type": "stream",
     "text": [
      "5400 5400\n"
     ]
    }
   ],
   "source": [
    "galaxies = spec_table[spec_table['HAS_SN']==\"False\"]\n",
    "sn_hosts = spec_table[spec_table['HAS_SN']!=\"False\"]\n",
    "\n",
    "print len(galaxies), len(sn_hosts)"
   ]
  },
  {
   "cell_type": "markdown",
   "metadata": {},
   "source": [
    "## Plots of Spectra"
   ]
  },
  {
   "cell_type": "code",
   "execution_count": 11,
   "metadata": {},
   "outputs": [],
   "source": [
    "closedim_galaxies = galaxies[(galaxies['MAG'] > 19) & (galaxies['REDSHIFT'] < 0.1)]\n",
    "closedim_sn_hosts = sn_hosts[(galaxies['MAG'] > 19) & (galaxies['REDSHIFT'] < 0.1)]"
   ]
  },
  {
   "cell_type": "code",
   "execution_count": 12,
   "metadata": {},
   "outputs": [
    {
     "data": {
      "image/png": "[encoded data removed]",
      "text/plain": [
       "<matplotlib.figure.Figure at 0x10bef0b50>"
      ]
     },
     "metadata": {},
     "output_type": "display_data"
    }
   ],
   "source": [
    "nplots = 5\n",
    "\n",
    "fig, axes = plt.subplots(nplots,3, figsize=(15, nplots*2), \n",
    "                         sharex=True, sharey='row')\n",
    "\n",
    "for i, galaxy in enumerate(closedim_galaxies[:nplots]):\n",
    "    gal_label=\"%s\\nz=%.3f\\nm=%.2f\" % (galaxy['OBJTYPE'], galaxy['REDSHIFT'], galaxy['MAG'])\n",
    "    axes[i,0].plot(galaxy['WAVE'], galaxy['FLUX'], label=gal_label)\n",
    "    axes[i,0].legend(loc='upper right')\n",
    "    \n",
    "for i, sn_host in enumerate(closedim_sn_hosts[:nplots]):\n",
    "    sn_label = \"with %s\\nz=%.3f\" % (sn_host['HAS_SN'], sn_host['REDSHIFT'])\n",
    "    axes[i,2].plot(sn_host['WAVE'], sn_host['FLUX'], label=sn_label)\n",
    "    axes[i,2].legend(loc='upper right')\n",
    "    \n",
    "    snid = sn_host['ID']\n",
    "    sn_label=\"sn epoch = %.1f\" % 0\n",
    "    axes[i,1].plot(SN_fluxes[snid][0][0], \n",
    "                   SN_fluxes[snid][1][0], label=sn_label)\n",
    "    axes[i,1].legend(loc='upper right')\n",
    "\n",
    "fig.tight_layout(h_pad=0, w_pad=0)\n",
    "\n",
    "# plt.savefig('../plots/galaxies_with_sn.png', format='png', \n",
    "#             dpi=300, bbox_inches='tight')"
   ]
  },
  {
   "cell_type": "code",
   "execution_count": 13,
   "metadata": {},
   "outputs": [
    {
     "name": "stdout",
     "output_type": "stream",
     "text": [
      "[(5400, 'Ia'), (5400, 'False')]\n"
     ]
    }
   ],
   "source": [
    "from collections import Counter\n",
    "\n",
    "counts = Counter(spec_table['HAS_SN'])\n",
    "\n",
    "print [(v, k) for v, k in zip(counts.values(), counts.keys())]"
   ]
  },
  {
   "cell_type": "markdown",
   "metadata": {},
   "source": [
    "## Random Forest Classifier"
   ]
  },
  {
   "cell_type": "code",
   "execution_count": 14,
   "metadata": {},
   "outputs": [],
   "source": [
    "import pandas as pd\n",
    "from sklearn.ensemble import RandomForestClassifier"
   ]
  },
  {
   "cell_type": "code",
   "execution_count": 24,
   "metadata": {
    "scrolled": true
   },
   "outputs": [
    {
     "name": "stdout",
     "output_type": "stream",
     "text": [
      "2549.45077685 9736.29854916\n"
     ]
    }
   ],
   "source": [
    "allwaves = np.concatenate(spec_table['WAVE'])\n",
    "min_wave = np.min(allwaves)\n",
    "max_wave = np.max(allwaves)\n",
    "\n",
    "print min_wave, max_wave\n",
    "\n",
    "step= 1.0 # 1.0 # A\n",
    "global_wavelength_grid = np.arange(min_wave, max_wave+step, step)\n",
    "# print global_wavelength_grid"
   ]
  },
  {
   "cell_type": "code",
   "execution_count": 25,
   "metadata": {},
   "outputs": [],
   "source": [
    "# Resample spectra to a common wavelength grid\n",
    "resample_fluxes = []\n",
    "for spectra in spec_table:\n",
    "    wave = spectra['WAVE']\n",
    "    flux = spectra['FLUX']\n",
    "    ivar = spectra['IVAR']\n",
    "#     spec_flux_resample = resample_flux(\n",
    "#                                  global_wavelength_grid, wave, flux,\n",
    "#                                  extrapolate=True\n",
    "#                                 )\n",
    "    spec_flux_resample, spec_ivar_resample = resample_flux(\n",
    "                             global_wavelength_grid, wave, flux,\n",
    "                             ivar=ivar, extrapolate=False\n",
    "                            )\n",
    "    spec_flux_resample = np.asarray(spec_flux_resample) \n",
    "    resample_fluxes.append(spec_flux_resample / np.linalg.norm(spec_flux_resample))\n",
    "    \n",
    "spec_table['RESAMPLED_FLUX'] = resample_fluxes"
   ]
  },
  {
   "cell_type": "code",
   "execution_count": 27,
   "metadata": {},
   "outputs": [],
   "source": [
    "# Load resampled spectrum data into one overall table\n",
    "# each column will be one bin in the global wavelength grid\n",
    "table  = []\n",
    "names  = []\n",
    "dtypes = []\n",
    "\n",
    "# for i in range(len(fluxes)):\n",
    "#     tablerow = np.append(fluxes[i], objtypes[i])\n",
    "for spec in spec_table:\n",
    "    tablerow = np.append(spec['RESAMPLED_FLUX'], spec['HAS_SN'])\n",
    "    table.append(tablerow)\n",
    "\n",
    "# for i in range(len(spec_table['FLUX'][0])):\n",
    "for i in range(len(global_wavelength_grid)):\n",
    "    names.append(\"w%d\" % i)\n",
    "    dtypes.append(np.float32)\n",
    "    \n",
    "names.append('HAS_SN')\n",
    "dtypes.append('S')\n",
    "\n",
    "data = Table(rows=table, names=names, dtype=dtypes)"
   ]
  },
  {
   "cell_type": "code",
   "execution_count": 28,
   "metadata": {},
   "outputs": [],
   "source": [
    "df = data.to_pandas()"
   ]
  },
  {
   "cell_type": "code",
   "execution_count": 29,
   "metadata": {},
   "outputs": [
    {
     "data": {
      "text/html": [
       "<div>\n",
       "<style>\n",
       "    .dataframe thead tr:only-child th {\n",
       "        text-align: right;\n",
       "    }\n",
       "\n",
       "    .dataframe thead th {\n",
       "        text-align: left;\n",
       "    }\n",
       "\n",
       "    .dataframe tbody tr th {\n",
       "        vertical-align: top;\n",
       "    }\n",
       "</style>\n",
       "<table border=\"1\" class=\"dataframe\">\n",
       "  <thead>\n",
       "    <tr style=\"text-align: right;\">\n",
       "      <th></th>\n",
       "      <th>w0</th>\n",
       "      <th>w1</th>\n",
       "      <th>w2</th>\n",
       "      <th>w3</th>\n",
       "      <th>w4</th>\n",
       "      <th>w5</th>\n",
       "      <th>w6</th>\n",
       "      <th>w7</th>\n",
       "      <th>w8</th>\n",
       "      <th>w9</th>\n",
       "      <th>...</th>\n",
       "      <th>w7179</th>\n",
       "      <th>w7180</th>\n",
       "      <th>w7181</th>\n",
       "      <th>w7182</th>\n",
       "      <th>w7183</th>\n",
       "      <th>w7184</th>\n",
       "      <th>w7185</th>\n",
       "      <th>w7186</th>\n",
       "      <th>w7187</th>\n",
       "      <th>HAS_SN</th>\n",
       "    </tr>\n",
       "  </thead>\n",
       "  <tbody>\n",
       "    <tr>\n",
       "      <th>0</th>\n",
       "      <td>0.0</td>\n",
       "      <td>0.0</td>\n",
       "      <td>0.0</td>\n",
       "      <td>0.0</td>\n",
       "      <td>0.0</td>\n",
       "      <td>0.0</td>\n",
       "      <td>0.0</td>\n",
       "      <td>0.0</td>\n",
       "      <td>0.0</td>\n",
       "      <td>0.0</td>\n",
       "      <td>...</td>\n",
       "      <td>0.0</td>\n",
       "      <td>0.0</td>\n",
       "      <td>0.0</td>\n",
       "      <td>0.0</td>\n",
       "      <td>0.0</td>\n",
       "      <td>0.0</td>\n",
       "      <td>0.0</td>\n",
       "      <td>0.0</td>\n",
       "      <td>0.0</td>\n",
       "      <td>False</td>\n",
       "    </tr>\n",
       "    <tr>\n",
       "      <th>1</th>\n",
       "      <td>0.0</td>\n",
       "      <td>0.0</td>\n",
       "      <td>0.0</td>\n",
       "      <td>0.0</td>\n",
       "      <td>0.0</td>\n",
       "      <td>0.0</td>\n",
       "      <td>0.0</td>\n",
       "      <td>0.0</td>\n",
       "      <td>0.0</td>\n",
       "      <td>0.0</td>\n",
       "      <td>...</td>\n",
       "      <td>0.0</td>\n",
       "      <td>0.0</td>\n",
       "      <td>0.0</td>\n",
       "      <td>0.0</td>\n",
       "      <td>0.0</td>\n",
       "      <td>0.0</td>\n",
       "      <td>0.0</td>\n",
       "      <td>0.0</td>\n",
       "      <td>0.0</td>\n",
       "      <td>Ia</td>\n",
       "    </tr>\n",
       "    <tr>\n",
       "      <th>2</th>\n",
       "      <td>0.0</td>\n",
       "      <td>0.0</td>\n",
       "      <td>0.0</td>\n",
       "      <td>0.0</td>\n",
       "      <td>0.0</td>\n",
       "      <td>0.0</td>\n",
       "      <td>0.0</td>\n",
       "      <td>0.0</td>\n",
       "      <td>0.0</td>\n",
       "      <td>0.0</td>\n",
       "      <td>...</td>\n",
       "      <td>0.0</td>\n",
       "      <td>0.0</td>\n",
       "      <td>0.0</td>\n",
       "      <td>0.0</td>\n",
       "      <td>0.0</td>\n",
       "      <td>0.0</td>\n",
       "      <td>0.0</td>\n",
       "      <td>0.0</td>\n",
       "      <td>0.0</td>\n",
       "      <td>False</td>\n",
       "    </tr>\n",
       "    <tr>\n",
       "      <th>3</th>\n",
       "      <td>0.0</td>\n",
       "      <td>0.0</td>\n",
       "      <td>0.0</td>\n",
       "      <td>0.0</td>\n",
       "      <td>0.0</td>\n",
       "      <td>0.0</td>\n",
       "      <td>0.0</td>\n",
       "      <td>0.0</td>\n",
       "      <td>0.0</td>\n",
       "      <td>0.0</td>\n",
       "      <td>...</td>\n",
       "      <td>0.0</td>\n",
       "      <td>0.0</td>\n",
       "      <td>0.0</td>\n",
       "      <td>0.0</td>\n",
       "      <td>0.0</td>\n",
       "      <td>0.0</td>\n",
       "      <td>0.0</td>\n",
       "      <td>0.0</td>\n",
       "      <td>0.0</td>\n",
       "      <td>Ia</td>\n",
       "    </tr>\n",
       "    <tr>\n",
       "      <th>4</th>\n",
       "      <td>0.0</td>\n",
       "      <td>0.0</td>\n",
       "      <td>0.0</td>\n",
       "      <td>0.0</td>\n",
       "      <td>0.0</td>\n",
       "      <td>0.0</td>\n",
       "      <td>0.0</td>\n",
       "      <td>0.0</td>\n",
       "      <td>0.0</td>\n",
       "      <td>0.0</td>\n",
       "      <td>...</td>\n",
       "      <td>0.0</td>\n",
       "      <td>0.0</td>\n",
       "      <td>0.0</td>\n",
       "      <td>0.0</td>\n",
       "      <td>0.0</td>\n",
       "      <td>0.0</td>\n",
       "      <td>0.0</td>\n",
       "      <td>0.0</td>\n",
       "      <td>0.0</td>\n",
       "      <td>False</td>\n",
       "    </tr>\n",
       "  </tbody>\n",
       "</table>\n",
       "<p>5 rows × 7189 columns</p>\n",
       "</div>"
      ],
      "text/plain": [
       "    w0   w1   w2   w3   w4   w5   w6   w7   w8   w9   ...    w7179  w7180  \\\n",
       "0  0.0  0.0  0.0  0.0  0.0  0.0  0.0  0.0  0.0  0.0   ...      0.0    0.0   \n",
       "1  0.0  0.0  0.0  0.0  0.0  0.0  0.0  0.0  0.0  0.0   ...      0.0    0.0   \n",
       "2  0.0  0.0  0.0  0.0  0.0  0.0  0.0  0.0  0.0  0.0   ...      0.0    0.0   \n",
       "3  0.0  0.0  0.0  0.0  0.0  0.0  0.0  0.0  0.0  0.0   ...      0.0    0.0   \n",
       "4  0.0  0.0  0.0  0.0  0.0  0.0  0.0  0.0  0.0  0.0   ...      0.0    0.0   \n",
       "\n",
       "   w7181  w7182  w7183  w7184  w7185  w7186  w7187  HAS_SN  \n",
       "0    0.0    0.0    0.0    0.0    0.0    0.0    0.0   False  \n",
       "1    0.0    0.0    0.0    0.0    0.0    0.0    0.0      Ia  \n",
       "2    0.0    0.0    0.0    0.0    0.0    0.0    0.0   False  \n",
       "3    0.0    0.0    0.0    0.0    0.0    0.0    0.0      Ia  \n",
       "4    0.0    0.0    0.0    0.0    0.0    0.0    0.0   False  \n",
       "\n",
       "[5 rows x 7189 columns]"
      ]
     },
     "execution_count": 29,
     "metadata": {},
     "output_type": "execute_result"
    }
   ],
   "source": [
    "df[:5]"
   ]
  },
  {
   "cell_type": "code",
   "execution_count": 30,
   "metadata": {},
   "outputs": [],
   "source": [
    "df['is_train'] = np.random.uniform(0, 1, len(df)) <= 0.75"
   ]
  },
  {
   "cell_type": "code",
   "execution_count": 31,
   "metadata": {},
   "outputs": [
    {
     "name": "stdout",
     "output_type": "stream",
     "text": [
      "Number of observations in the training data: 8015\n",
      "Number of observations in the test data: 2785\n"
     ]
    }
   ],
   "source": [
    "# We now split the dataframes into a test and training dataset\n",
    "train, test = df[df['is_train']==True], df[df['is_train']==False]\n",
    "print 'Number of observations in the training data:', len(train)\n",
    "print 'Number of observations in the test data:',len(test)"
   ]
  },
  {
   "cell_type": "code",
   "execution_count": 32,
   "metadata": {
    "scrolled": true
   },
   "outputs": [
    {
     "name": "stdout",
     "output_type": "stream",
     "text": [
      "training / testing counts\n",
      "Ia: 4005 / 1395\n",
      "False: 4010 / 1390\n"
     ]
    }
   ],
   "source": [
    "train_count = Counter(train['HAS_SN'])\n",
    "test_count  = Counter(test['HAS_SN'])\n",
    "\n",
    "print \"training / testing counts\"\n",
    "for k in train_count.keys():\n",
    "    print \"%s: %d / %d\" % (k, train_count[k], test_count[k])"
   ]
  },
  {
   "cell_type": "code",
   "execution_count": 33,
   "metadata": {},
   "outputs": [
    {
     "data": {
      "text/plain": [
       "Index([u'w0', u'w1', u'w2', u'w3', u'w4', u'w5', u'w6', u'w7', u'w8', u'w9',\n",
       "       ...\n",
       "       u'w7178', u'w7179', u'w7180', u'w7181', u'w7182', u'w7183', u'w7184',\n",
       "       u'w7185', u'w7186', u'w7187'],\n",
       "      dtype='object', length=7188)"
      ]
     },
     "execution_count": 33,
     "metadata": {},
     "output_type": "execute_result"
    }
   ],
   "source": [
    "features = df.columns[:-2]\n",
    "features"
   ]
  },
  {
   "cell_type": "code",
   "execution_count": 34,
   "metadata": {},
   "outputs": [
    {
     "data": {
      "text/plain": [
       "RandomForestClassifier(bootstrap=True, class_weight=None, criterion='gini',\n",
       "            max_depth=None, max_features='auto', max_leaf_nodes=None,\n",
       "            min_impurity_split=1e-07, min_samples_leaf=1,\n",
       "            min_samples_split=2, min_weight_fraction_leaf=0.0,\n",
       "            n_estimators=10, n_jobs=1, oob_score=False, random_state=0,\n",
       "            verbose=0, warm_start=False)"
      ]
     },
     "execution_count": 34,
     "metadata": {},
     "output_type": "execute_result"
    }
   ],
   "source": [
    "# train['species'] has the \"true\" species names\n",
    "# in order to compare later it needs to be coded into integers (0, 1, 2)\n",
    "\n",
    "y, objtypes = pd.factorize(train['HAS_SN'])\n",
    "\n",
    "# Now we train the random forest\n",
    "clf = RandomForestClassifier(n_jobs=1, \n",
    "                             random_state=0,\n",
    "                             verbose=0)\n",
    "\n",
    "clf.fit(train[features], y)"
   ]
  },
  {
   "cell_type": "code",
   "execution_count": 35,
   "metadata": {
    "scrolled": true
   },
   "outputs": [
    {
     "data": {
      "text/plain": [
       "array([0, 0, 0, ..., 0, 1, 0])"
      ]
     },
     "execution_count": 35,
     "metadata": {},
     "output_type": "execute_result"
    }
   ],
   "source": [
    "# Apply the classifier to the test data\n",
    "clf.predict(test[features])"
   ]
  },
  {
   "cell_type": "code",
   "execution_count": 36,
   "metadata": {},
   "outputs": [],
   "source": [
    "# Convert back to english\n",
    "preds = [objtypes[i] for i in clf.predict(test[features])]"
   ]
  },
  {
   "cell_type": "code",
   "execution_count": 37,
   "metadata": {},
   "outputs": [
    {
     "name": "stdout",
     "output_type": "stream",
     "text": [
      "population: 2785\n",
      "P: 1395\n",
      "N: 1390\n",
      "PositiveTest: 1566\n",
      "NegativeTest: 1219\n",
      "TP: 808\n",
      "TN: 632\n",
      "FP: 758\n",
      "FN: 587\n",
      "TPR: 0.579211469534\n",
      "TNR: 0.454676258993\n",
      "PPV: 0.515964240102\n",
      "NPV: 0.518457752256\n",
      "FPR: 0.545323741007\n",
      "FDR: 0.484035759898\n",
      "FNR: 0.420788530466\n",
      "ACC: 0.517055655296\n",
      "F1_score: 0.545761567038\n",
      "MCC: 0.0341538157808\n",
      "informedness: 0.0338877285269\n",
      "markedness: 0.0344219923581\n",
      "prevalence: 0.500897666068\n",
      "LRP: 1.06214240455\n",
      "LRN: 0.92546844517\n",
      "DOR: 1.14768084217\n",
      "FOR: 0.481542247744\n"
     ]
    }
   ],
   "source": [
    "from pandas_ml import ConfusionMatrix\n",
    "\n",
    "cm = ConfusionMatrix(test['HAS_SN'].tolist(), preds)\n",
    "cm.print_stats()"
   ]
  },
  {
   "cell_type": "code",
   "execution_count": 38,
   "metadata": {},
   "outputs": [
    {
     "name": "stdout",
     "output_type": "stream",
     "text": [
      "Index([u'Ia', u'False'], dtype='object')\n",
      "[[808 587]\n",
      " [758 632]]\n"
     ]
    }
   ],
   "source": [
    "# Display how well the classifier did via a confusion matrix\n",
    "\n",
    "from sklearn.metrics import confusion_matrix\n",
    "cm = confusion_matrix(test['HAS_SN'], preds, labels=objtypes)\n",
    "print objtypes\n",
    "print cm"
   ]
  },
  {
   "cell_type": "code",
   "execution_count": 39,
   "metadata": {},
   "outputs": [
    {
     "name": "stdout",
     "output_type": "stream",
     "text": [
      "1440 1345\n"
     ]
    }
   ],
   "source": [
    "correct = 0\n",
    "incorrect = 0\n",
    "for true, pred in zip(test['HAS_SN'], preds):\n",
    "    if true == pred:\n",
    "        correct += 1\n",
    "#         print true, pred\n",
    "    else:\n",
    "        incorrect+= 1\n",
    "#         print true, pred\n",
    "        \n",
    "print correct, incorrect"
   ]
  },
  {
   "cell_type": "code",
   "execution_count": null,
   "metadata": {},
   "outputs": [],
   "source": [
    "norm_cm = []\n",
    "for i in cm:\n",
    "    a = 0\n",
    "    tmp_arr = []\n",
    "    a = sum(i, 0)\n",
    "    for j in i:\n",
    "        tmp_arr.append(float(j)/float(a))\n",
    "    norm_cm.append(tmp_arr)\n",
    "\n",
    "fig = plt.figure()\n",
    "plt.clf()\n",
    "ax = fig.add_subplot(111)\n",
    "ax.set_aspect(1)\n",
    "res = ax.imshow(np.array(norm_cm), cmap='Wistia',\n",
    "                interpolation='nearest')\n",
    "\n",
    "width, height = cm.shape\n",
    "\n",
    "for x in xrange(width):\n",
    "    for y in xrange(height):\n",
    "        ax.annotate(str(cm[x][y]), xy=(y, x), \n",
    "                    color='k',\n",
    "                    horizontalalignment='center',\n",
    "                    verticalalignment='center')\n",
    "\n",
    "# cb = fig.colorbar(res)\n",
    "ax.xaxis.tick_top()\n",
    "ax.xaxis.set_label_position('top')\n",
    "plt.xticks(range(width), objtypes[:width])\n",
    "plt.yticks(range(height), objtypes[:height])\n",
    "plt.xlabel('Predicted')\n",
    "plt.ylabel('Actual')\n",
    "plt.savefig('../plots/rf_snhost_classify_confusion_matrix.png', format='png', \n",
    "            dpi=300, bbox_inches='tight')"
   ]
  },
  {
   "cell_type": "code",
   "execution_count": 41,
   "metadata": {},
   "outputs": [],
   "source": [
    "sn_medfluxes  = [np.median(flux) for flux in sn_hosts['FLUX']]\n",
    "gal_medfluxes = [np.median(flux) for flux in galaxies['FLUX']]"
   ]
  },
  {
   "cell_type": "code",
   "execution_count": 42,
   "metadata": {},
   "outputs": [
    {
     "data": {
      "text/plain": [
       "<matplotlib.legend.Legend at 0x21d58aa90>"
      ]
     },
     "execution_count": 42,
     "metadata": {},
     "output_type": "execute_result"
    },
    {
     "data": {
      "image/png": "[encoded data removed]",
      "text/plain": [
       "<matplotlib.figure.Figure at 0x21d1485d0>"
      ]
     },
     "metadata": {},
     "output_type": "display_data"
    }
   ],
   "source": [
    "fig, ax = plt.subplots(1,1,figsize=(8,5))\n",
    "\n",
    "ax.hist(gal_medfluxes, bins=20, normed=1, \n",
    "        color='b', alpha=0.5, label='Galaxies')\n",
    "\n",
    "ax2 = ax.twinx()\n",
    "ax2.hist(sn_medfluxes,  bins=20, normed=1, \n",
    "         color='r', alpha=0.5, label='SN hosts')\n",
    "\n",
    "ax.set(xlabel='Median Flux')\n",
    "ax.set_ylabel(ylabel='Number of galaxies', color='b')\n",
    "ax.tick_params('y', colors='b')\n",
    "\n",
    "ax2.set_ylabel('Number of SN Ia hosts', color='r')\n",
    "ax2.tick_params('y', colors='r')\n",
    "\n",
    "# ax.axvline(0.60, ls='--')\n",
    "\n",
    "ax.legend(loc='upper left', fontsize=14)\n",
    "ax2.legend(loc='upper right', fontsize=14)"
   ]
  },
  {
   "cell_type": "code",
   "execution_count": null,
   "metadata": {},
   "outputs": [],
   "source": []
  }
 ],
 "metadata": {
  "kernelspec": {
   "display_name": "Python 2",
   "language": "python",
   "name": "python2"
  },
  "language_info": {
   "codemirror_mode": {
    "name": "ipython",
    "version": 2
   },
   "file_extension": ".py",
   "mimetype": "text/x-python",
   "name": "python",
   "nbconvert_exporter": "python",
   "pygments_lexer": "ipython2",
   "version": "2.7.13"
  }
 },
 "nbformat": 4,
 "nbformat_minor": 2
}

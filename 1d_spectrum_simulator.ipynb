{
 "cells": [
  {
   "cell_type": "markdown",
   "metadata": {},
   "source": [
    "This notebook makes heavy use of the starter guide\n",
    "https://github.com/desihub/desisim/blob/master/doc/nb/simulating-desi-spectra.ipynb\n"
   ]
  },
  {
   "cell_type": "code",
   "execution_count": 57,
   "metadata": {},
   "outputs": [],
   "source": [
    "%matplotlib inline\n",
    "\n",
    "import os\n",
    "import numpy as np\n",
    "\n",
    "import matplotlib as mpl\n",
    "import matplotlib.pyplot as plt\n",
    "\n",
    "from astropy.io import fits\n",
    "from astropy.table import Table"
   ]
  },
  {
   "cell_type": "code",
   "execution_count": 58,
   "metadata": {},
   "outputs": [],
   "source": [
    "import desispec.io\n",
    "import desisim.io\n",
    "from desisim.obs import new_exposure\n",
    "from desisim.scripts import quickgen\n",
    "from desispec.scripts import group_spectra"
   ]
  },
  {
   "cell_type": "code",
   "execution_count": 59,
   "metadata": {},
   "outputs": [
    {
     "name": "stdout",
     "output_type": "stream",
     "text": [
      "Populating the interactive namespace from numpy and matplotlib\n"
     ]
    },
    {
     "name": "stderr",
     "output_type": "stream",
     "text": [
      "/Users/ryanrubenzahl/Library/Python/2.7/lib/python/site-packages/IPython/core/magics/pylab.py:161: UserWarning: pylab import has clobbered these variables: ['axes', 'seed', 'clf', 'test']\n",
      "`%matplotlib` prevents importing * from pylab and numpy\n",
      "  \"\\n`%matplotlib` prevents importing * from pylab and numpy\"\n"
     ]
    }
   ],
   "source": [
    "%pylab inline"
   ]
  },
  {
   "cell_type": "markdown",
   "metadata": {},
   "source": [
    "Make sure environments are setup properly"
   ]
  },
  {
   "cell_type": "code",
   "execution_count": 60,
   "metadata": {},
   "outputs": [],
   "source": [
    "def check_env():\n",
    "    for env in ('DESIMODEL', 'DESI_ROOT', 'DESI_SPECTRO_SIM', 'DESI_SPECTRO_DATA', \n",
    "            'DESI_SPECTRO_REDUX', 'SPECPROD', 'PIXPROD'):\n",
    "        if env in os.environ:\n",
    "            print('{} environment set to {}'.format(env, os.getenv(env)))\n",
    "        else:\n",
    "            print('Required environment variable {} not set!'.format(env))"
   ]
  },
  {
   "cell_type": "code",
   "execution_count": 61,
   "metadata": {},
   "outputs": [
    {
     "name": "stdout",
     "output_type": "stream",
     "text": [
      "DESIMODEL environment set to /Users/ryanrubenzahl/Documents/DESI/code//desimodel\n",
      "DESI_ROOT environment set to /Users/ryanrubenzahl/Documents/DESI\n",
      "DESI_SPECTRO_SIM environment set to /Users/ryanrubenzahl/Documents/DESI/spectro/sim\n",
      "DESI_SPECTRO_DATA environment set to /Users/ryanrubenzahl/Documents/DESI/spectro/sim/example/\n",
      "DESI_SPECTRO_REDUX environment set to /Users/ryanrubenzahl/Documents/DESI/spectro/redux\n",
      "SPECPROD environment set to example\n",
      "PIXPROD environment set to example\n"
     ]
    }
   ],
   "source": [
    "check_env()"
   ]
  },
  {
   "cell_type": "markdown",
   "metadata": {},
   "source": [
    "Reassign output directories so we don't mess anything up in the standard DESI integration test"
   ]
  },
  {
   "cell_type": "code",
   "execution_count": 62,
   "metadata": {},
   "outputs": [
    {
     "name": "stdout",
     "output_type": "stream",
     "text": [
      "env: SPECPROD=example\n",
      "env: PIXPROD=example\n",
      "env: DESI_SPECTRO_DATA=/Users/ryanrubenzahl/Documents/DESI/spectro/sim/example/\n",
      "Simulated raw data will be written to /Users/ryanrubenzahl/Documents/DESI/spectro/sim/example/\n",
      "Pipeline will read raw data from /Users/ryanrubenzahl/Documents/DESI/spectro/sim/example/\n",
      "    (without knowing that it was simulated)\n",
      "Pipeline will write processed data to /Users/ryanrubenzahl/Documents/DESI/spectro/redux/example\n"
     ]
    }
   ],
   "source": [
    "%set_env SPECPROD=example\n",
    "%set_env PIXPROD=example\n",
    "rawdata_dir = desisim.io.simdir()\n",
    "%set_env DESI_SPECTRO_DATA=$rawdata_dir\n",
    "\n",
    "print('Simulated raw data will be written to {}'.format(desisim.io.simdir()))\n",
    "print('Pipeline will read raw data from {}'.format(desispec.io.rawdata_root()))\n",
    "print('    (without knowing that it was simulated)')\n",
    "print('Paipeline will write processed data to {}'.format(desispec.io.specprod_root()))"
   ]
  },
  {
   "cell_type": "markdown",
   "metadata": {},
   "source": [
    "## Spectrum Simulation"
   ]
  },
  {
   "cell_type": "code",
   "execution_count": 63,
   "metadata": {},
   "outputs": [],
   "source": [
    "# Some simulation parameters\n",
    "nspec   = 1000 # number of spectra to simulate\n",
    "seed    = 555  # simulation seed\n",
    "flavor  = 'dark' # choose sky-brightness model and distribution of targets\n",
    "flavors = ['dark', 'gray', 'grey', 'bright', 'bgs', 'mws', 'lrg', 'elg', 'qso', 'std', 'arc', 'flat'] # all options\n",
    "night   = '20180201' # default is current date\n",
    "expid   = 0 # exposure ID number, can use to simulate more than one DESI exposure"
   ]
  },
  {
   "cell_type": "markdown",
   "metadata": {},
   "source": [
    "Generate the `fibermap` and `specsim` files needed by `quickgen`.\n",
    "\n",
    "`fibermap` contains a table of simulated information about the position of each target in the DESI focal plane\n",
    "\n",
    "`simspec` contains a table of \"truth\" spectra and the intrinsic properties of each object (e.g. redshift, noiseless photometry, [OII] flux, etc.)\n",
    "\n",
    "See below for more information:\n",
    "- http://desidatamodel.readthedocs.io/en/latest/DESI_SPECTRO_SIM/PIXPROD/NIGHT/simspec-EXPID.html\n",
    "\n",
    "- http://desidatamodel.readthedocs.io/en/latest/DESI_SPECTRO_DATA/NIGHT/fibermap-EXPID.html\n",
    "\n",
    "If you want to use your own mix of objects, you need to write your own fibermap and specsim files following the particular format (rather thanc alling `new_exposure`)."
   ]
  },
  {
   "cell_type": "code",
   "execution_count": 64,
   "metadata": {
    "scrolled": true
   },
   "outputs": [
    {
     "name": "stdout",
     "output_type": "stream",
     "text": [
      "INFO:io.py:974:read_basis_templates: Reading /Users/ryanrubenzahl/Documents/DESI/spectro/templates/basis_templates/v2.4/star_templates_v2.1.fits\n",
      "INFO:io.py:974:read_basis_templates: Reading /Users/ryanrubenzahl/Documents/DESI/spectro/templates/basis_templates/v2.4/star_templates_v2.1.fits\n",
      "INFO:io.py:974:read_basis_templates: Reading /Users/ryanrubenzahl/Documents/DESI/spectro/templates/basis_templates/v2.4/star_templates_v2.1.fits\n",
      "INFO:io.py:974:read_basis_templates: Reading /Users/ryanrubenzahl/Documents/DESI/spectro/templates/basis_templates/v2.4/star_templates_v2.1.fits\n",
      "INFO:io.py:974:read_basis_templates: Reading /Users/ryanrubenzahl/Documents/DESI/spectro/templates/basis_templates/v2.4/lrg_templates_v1.3.fits\n",
      "INFO:io.py:974:read_basis_templates: Reading /Users/ryanrubenzahl/Documents/DESI/spectro/templates/basis_templates/v2.4/lrg_templates_v1.3.fits\n",
      "INFO:io.py:974:read_basis_templates: Reading /Users/ryanrubenzahl/Documents/DESI/spectro/templates/basis_templates/v2.4/lrg_templates_v1.3.fits\n",
      "INFO:io.py:974:read_basis_templates: Reading /Users/ryanrubenzahl/Documents/DESI/spectro/templates/basis_templates/v2.4/lrg_templates_v1.3.fits\n",
      "INFO:io.py:974:read_basis_templates: Reading /Users/ryanrubenzahl/Documents/DESI/spectro/templates/basis_templates/v2.4/elg_templates_v2.0.fits\n",
      "WARNING:templates.py:774:make_galaxy_templates: 1 spectra could not be computed given the input priors!\n"
     ]
    },
    {
     "name": "stderr",
     "output_type": "stream",
     "text": [
      "/Users/ryanrubenzahl/Documents/DESI/code/desisim/py/desisim/targets.py:365: RuntimeWarning: divide by zero encountered in log10\n",
      "  fibermap['MAG'][ii, 0] = 22.5 - 2.5 * np.log10(meta['FLUX_G'][ii])\n",
      "/Users/ryanrubenzahl/Documents/DESI/code/desisim/py/desisim/targets.py:366: RuntimeWarning: divide by zero encountered in log10\n",
      "  fibermap['MAG'][ii, 1] = 22.5 - 2.5 * np.log10(meta['FLUX_R'][ii])\n",
      "/Users/ryanrubenzahl/Documents/DESI/code/desisim/py/desisim/targets.py:367: RuntimeWarning: divide by zero encountered in log10\n",
      "  fibermap['MAG'][ii, 2] = 22.5 - 2.5 * np.log10(meta['FLUX_Z'][ii])\n",
      "/Users/ryanrubenzahl/Documents/DESI/code/desisim/py/desisim/targets.py:368: RuntimeWarning: divide by zero encountered in log10\n",
      "  fibermap['MAG'][ii, 3] = 22.5 - 2.5 * np.log10(meta['FLUX_W1'][ii])\n",
      "/Users/ryanrubenzahl/Documents/DESI/code/desisim/py/desisim/targets.py:369: RuntimeWarning: divide by zero encountered in log10\n",
      "  fibermap['MAG'][ii, 4] = 22.5 - 2.5 * np.log10(meta['FLUX_W2'][ii])\n"
     ]
    },
    {
     "name": "stdout",
     "output_type": "stream",
     "text": [
      "INFO:io.py:974:read_basis_templates: Reading /Users/ryanrubenzahl/Documents/DESI/spectro/templates/basis_templates/v2.4/elg_templates_v2.0.fits\n"
     ]
    },
    {
     "name": "stderr",
     "output_type": "stream",
     "text": [
      "/Users/ryanrubenzahl/Documents/DESI/code/desisim/py/desisim/targets.py:368: RuntimeWarning: invalid value encountered in log10\n",
      "  fibermap['MAG'][ii, 3] = 22.5 - 2.5 * np.log10(meta['FLUX_W1'][ii])\n"
     ]
    },
    {
     "name": "stdout",
     "output_type": "stream",
     "text": [
      "INFO:io.py:974:read_basis_templates: Reading /Users/ryanrubenzahl/Documents/DESI/spectro/templates/basis_templates/v2.4/elg_templates_v2.0.fits\n"
     ]
    },
    {
     "name": "stderr",
     "output_type": "stream",
     "text": [
      "/Users/ryanrubenzahl/Documents/DESI/code/desisim/py/desisim/targets.py:368: RuntimeWarning: invalid value encountered in log10\n",
      "  fibermap['MAG'][ii, 3] = 22.5 - 2.5 * np.log10(meta['FLUX_W1'][ii])\n"
     ]
    },
    {
     "name": "stdout",
     "output_type": "stream",
     "text": [
      "INFO:io.py:974:read_basis_templates: Reading /Users/ryanrubenzahl/Documents/DESI/spectro/templates/basis_templates/v2.4/elg_templates_v2.0.fits\n",
      "INFO:io.py:974:read_basis_templates: Reading /Users/ryanrubenzahl/Documents/DESI/spectro/templates/basis_templates/v2.4/star_templates_v2.1.fits\n",
      "INFO:io.py:974:read_basis_templates: Reading /Users/ryanrubenzahl/Documents/DESI/spectro/templates/basis_templates/v2.4/star_templates_v2.1.fits\n",
      "INFO:io.py:974:read_basis_templates: Reading /Users/ryanrubenzahl/Documents/DESI/spectro/templates/basis_templates/v2.4/star_templates_v2.1.fits\n",
      "INFO:io.py:974:read_basis_templates: Reading /Users/ryanrubenzahl/Documents/DESI/spectro/templates/basis_templates/v2.4/star_templates_v2.1.fits\n",
      "DEBUG:simexp.py:383:simulate_spectra: loading specsim desi config\n",
      "DEBUG:simexp.py:387:simulate_spectra: creating specsim desi simulator\n",
      "INFO:simexp.py:408:simulate_spectra: MJD not in obsconditions, using DATE-OBS 2009-06-18T12:00:00.000\n",
      "DEBUG:simexp.py:412:simulate_spectra: obsconditions SEEING = 1.1\n",
      "DEBUG:simexp.py:412:simulate_spectra: obsconditions AIRMASS = 1.0\n",
      "DEBUG:simexp.py:412:simulate_spectra: obsconditions MOONFRAC = 0.0\n",
      "DEBUG:simexp.py:412:simulate_spectra: obsconditions MOONSEP = 180\n",
      "DEBUG:simexp.py:412:simulate_spectra: obsconditions MOONALT = -60\n",
      "DEBUG:simexp.py:412:simulate_spectra: obsconditions EXPTIME = 1000\n",
      "DEBUG:simexp.py:620:get_source_types: elg 619 targets\n",
      "DEBUG:simexp.py:620:get_source_types: lrg 174 targets\n",
      "DEBUG:simexp.py:620:get_source_types: qso 107 targets\n",
      "DEBUG:simexp.py:620:get_source_types: sky 80 targets\n",
      "DEBUG:simexp.py:620:get_source_types: star 20 targets\n",
      "DEBUG:simexp.py:453:simulate_spectra: running simulation with fastsim fiber loss method\n",
      "DEBUG:simexp.py:459:simulate_spectra: source types: 80 sky 107 qso 619 elg 174 lrg 20 star\n",
      "WARNING:simexp.py:475:simulate_spectra: the half light radii are fixed here (and not magnitude or redshift dependent)\n",
      "INFO:io.py:154:write_simspec: DATE-OBS 2018-02-01T22:00:00 UTC\n",
      "INFO:io.py:230:write_simspec: Writing /Users/ryanrubenzahl/Documents/DESI/spectro/sim/example/20180201/simspec-00000000.fits\n",
      "INFO:obs.py:210:new_exposure: Wrote /Users/ryanrubenzahl/Documents/DESI/spectro/sim/example/20180201/fibermap-00000000.fits\n"
     ]
    }
   ],
   "source": [
    "# Generate the fibermap and truth tables\n",
    "# new_exposure generates random exposures of various types\n",
    "output = new_exposure(flavor, nspec=nspec, seed=seed, night=night, \n",
    "                               expid=expid, tileid=None, exptime=None)"
   ]
  },
  {
   "cell_type": "code",
   "execution_count": 65,
   "metadata": {},
   "outputs": [
    {
     "name": "stdout",
     "output_type": "stream",
     "text": [
      "/Users/ryanrubenzahl/Documents/DESI/spectro/sim/example/\r\n",
      "/Users/ryanrubenzahl/Documents/DESI/spectro/sim/example//20180131\r\n",
      "/Users/ryanrubenzahl/Documents/DESI/spectro/sim/example//20180131/fibermap-00000000.fits\r\n",
      "/Users/ryanrubenzahl/Documents/DESI/spectro/sim/example//20180131/simspec-00000000.fits\r\n",
      "/Users/ryanrubenzahl/Documents/DESI/spectro/sim/example//20180201\r\n",
      "/Users/ryanrubenzahl/Documents/DESI/spectro/sim/example//20180201/fibermap-00000000.fits\r\n",
      "/Users/ryanrubenzahl/Documents/DESI/spectro/sim/example//20180201/simspec-00000000.fits\r\n",
      "/Users/ryanrubenzahl/Documents/DESI/spectro/sim/example//etc\r\n",
      "/Users/ryanrubenzahl/Documents/DESI/spectro/sim/example//etc/obslog.sqlite\r\n"
     ]
    }
   ],
   "source": [
    "# Check in on data we just wrote\n",
    "rawdata_dir = desispec.io.rawdata_root()\n",
    "!find $rawdata_dir | sort"
   ]
  },
  {
   "cell_type": "code",
   "execution_count": 66,
   "metadata": {},
   "outputs": [],
   "source": [
    "fiberfile   = desispec.io.findfile('fibermap', night=night, expid=expid)\n",
    "simspecfile = desisim.io.findfile('simspec', night=night, expid=expid)"
   ]
  },
  {
   "cell_type": "code",
   "execution_count": 67,
   "metadata": {},
   "outputs": [
    {
     "name": "stdout",
     "output_type": "stream",
     "text": [
      "Reading fibermap file /Users/ryanrubenzahl/Documents/DESI/spectro/sim/example/20180201/fibermap-00000000.fits\n",
      "Filename: /Users/ryanrubenzahl/Documents/DESI/spectro/sim/example/20180201/fibermap-00000000.fits\n",
      "No.    Name      Ver    Type      Cards   Dimensions   Format\n",
      "  0  PRIMARY       1 PrimaryHDU       6   ()      \n",
      "  1  FIBERMAP      1 BinTableHDU    113   1000R x 26C   [10A, 20A, 8A, K, K, K, K, 5E, 50A, J, K, J, J, J, J, E, D, D, D, D, D, D, D, D, E, E]   \n"
     ]
    }
   ],
   "source": [
    "print('Reading fibermap file {}'.format(fiberfile))\n",
    "hdu = fits.open(fiberfile)\n",
    "hdu.info()\n",
    "fibermap = Table(hdu['FIBERMAP'].data)\n",
    "hdu.close()\n"
   ]
  },
  {
   "cell_type": "code",
   "execution_count": 68,
   "metadata": {},
   "outputs": [
    {
     "data": {
      "text/html": [
       "&lt;Table length=3&gt;\n",
       "<table id=\"table4907355216\" class=\"table-striped table-bordered table-condensed\">\n",
       "<thead><tr><th>OBJTYPE</th><th>TARGETCAT</th><th>BRICKNAME</th><th>TARGETID</th><th>DESI_TARGET</th><th>BGS_TARGET</th><th>MWS_TARGET</th><th>MAG [5]</th><th>FILTER [5]</th><th>SPECTROID</th><th>POSITIONER</th><th>LOCATION</th><th>DEVICE_LOC</th><th>PETAL_LOC</th><th>FIBER</th><th>LAMBDAREF</th><th>RA_TARGET</th><th>DEC_TARGET</th><th>RA_OBS</th><th>DEC_OBS</th><th>X_TARGET</th><th>Y_TARGET</th><th>X_FVCOBS</th><th>Y_FVCOBS</th><th>Y_FVCERR</th><th>X_FVCERR</th></tr></thead>\n",
       "<thead><tr><th>str10</th><th>str20</th><th>str8</th><th>int64</th><th>int64</th><th>int64</th><th>int64</th><th>float32</th><th>str10</th><th>int32</th><th>int64</th><th>int32</th><th>int32</th><th>int32</th><th>int32</th><th>float32</th><th>float64</th><th>float64</th><th>float64</th><th>float64</th><th>float64</th><th>float64</th><th>float64</th><th>float64</th><th>float32</th><th>float32</th></tr></thead>\n",
       "<tr><td>LRG</td><td></td><td>3350p205</td><td>1161599546765783258</td><td>1</td><td>0</td><td>0</td><td>23.965 .. 18.516</td><td>DECAM_G .. WISE_W2</td><td>0</td><td>95</td><td>95</td><td>95</td><td>0</td><td>0</td><td>5400.0</td><td>335.04801413</td><td>20.5978747513</td><td>335.04801413</td><td>20.5978747513</td><td>-4.13464340313</td><td>-176.016389199</td><td>-4.13464340313</td><td>-176.016389199</td><td>0.0</td><td>0.0</td></tr>\n",
       "<tr><td>LRG</td><td></td><td>3353p205</td><td>6941272158692512815</td><td>1</td><td>0</td><td>0</td><td>22.9061 .. 19.075</td><td>DECAM_G .. WISE_W2</td><td>0</td><td>62</td><td>62</td><td>62</td><td>0</td><td>1</td><td>5400.0</td><td>335.228742316</td><td>20.5214871015</td><td>335.228742316</td><td>20.5214871015</td><td>-45.5863791815</td><td>-157.134697634</td><td>-45.5863791815</td><td>-157.134697634</td><td>0.0</td><td>0.0</td></tr>\n",
       "<tr><td>ELG</td><td></td><td>3352p207</td><td>544291026008501213</td><td>2</td><td>0</td><td>0</td><td>22.805 .. 21.7596</td><td>DECAM_G .. WISE_W2</td><td>0</td><td>102</td><td>102</td><td>102</td><td>0</td><td>2</td><td>5400.0</td><td>335.239863643</td><td>20.6715271643</td><td>335.239863643</td><td>20.6715271643</td><td>-48.26471976</td><td>-194.58679079</td><td>-48.26471976</td><td>-194.58679079</td><td>0.0</td><td>0.0</td></tr>\n",
       "</table>"
      ],
      "text/plain": [
       "<Table length=3>\n",
       "OBJTYPE TARGETCAT BRICKNAME ...    Y_FVCOBS    Y_FVCERR X_FVCERR\n",
       " str10    str20      str8   ...    float64     float32  float32 \n",
       "------- --------- --------- ... -------------- -------- --------\n",
       "    LRG            3350p205 ... -176.016389199      0.0      0.0\n",
       "    LRG            3353p205 ... -157.134697634      0.0      0.0\n",
       "    ELG            3352p207 ...  -194.58679079      0.0      0.0"
      ]
     },
     "execution_count": 68,
     "metadata": {},
     "output_type": "execute_result"
    }
   ],
   "source": [
    "fibermap[:3]"
   ]
  },
  {
   "cell_type": "code",
   "execution_count": 69,
   "metadata": {},
   "outputs": [
    {
     "name": "stdout",
     "output_type": "stream",
     "text": [
      "Reading simspec file /Users/ryanrubenzahl/Documents/DESI/spectro/sim/example/20180201/simspec-00000000.fits.\n",
      "Filename: /Users/ryanrubenzahl/Documents/DESI/spectro/sim/example/20180201/simspec-00000000.fits\n",
      "No.    Name      Ver    Type      Cards   Dimensions   Format\n",
      "  0  WAVE          1 PrimaryHDU      58   (31900,)   float64   \n",
      "  1  FLUX          1 ImageHDU         9   (31900, 1000)   float32   \n",
      "  2  SKYFLUX       1 ImageHDU         9   (31900, 1000)   float32   \n",
      "  3  WAVE_B        1 ImageHDU         7   (11896,)   float64   \n",
      "  4  PHOT_B        1 ImageHDU         9   (11896, 1000)   float32   \n",
      "  5  SKYPHOT_B     1 ImageHDU         9   (11896, 1000)   float32   \n",
      "  6  WAVE_R        1 ImageHDU         7   (10575,)   float64   \n",
      "  7  PHOT_R        1 ImageHDU         9   (10575, 1000)   float32   \n",
      "  8  SKYPHOT_R     1 ImageHDU         9   (10575, 1000)   float32   \n",
      "  9  WAVE_Z        1 ImageHDU         7   (11990,)   float64   \n",
      " 10  PHOT_Z        1 ImageHDU         9   (11990, 1000)   float32   \n",
      " 11  SKYPHOT_Z     1 ImageHDU         9   (11990, 1000)   float32   \n",
      " 12  TRUTH         1 BinTableHDU     63   1000R x 27C   [10A, 10A, J, K, E, E, E, E, E, E, E, E, E, E, E, E, E, E, E, E, E, E, E, E, E, E, E]   \n",
      " 13  FIBERMAP      1 BinTableHDU     62   1000R x 26C   [10A, 20A, 8A, K, K, K, K, 5E, 50A, J, K, J, J, J, J, E, D, D, D, D, D, D, D, D, E, E]   \n",
      " 14  OBSCONDITIONS    1 BinTableHDU     21   1R x 6C   [D, K, K, D, K, D]   \n"
     ]
    }
   ],
   "source": [
    "print('Reading simspec file {}.'.format(simspecfile))\n",
    "hdu = fits.open(simspecfile)\n",
    "hdu.info()\n",
    "meta = Table(hdu['TRUTH'].data)\n",
    "hdu.close()"
   ]
  },
  {
   "cell_type": "code",
   "execution_count": 70,
   "metadata": {
    "scrolled": true
   },
   "outputs": [
    {
     "data": {
      "text/html": [
       "&lt;Table length=3&gt;\n",
       "<table id=\"table4709438928\" class=\"table-striped table-bordered table-condensed\">\n",
       "<thead><tr><th>OBJTYPE</th><th>SUBTYPE</th><th>TEMPLATEID</th><th>SEED</th><th>REDSHIFT</th><th>MAG</th><th>FLUX_G</th><th>FLUX_R</th><th>FLUX_Z</th><th>FLUX_W1</th><th>FLUX_W2</th><th>OIIFLUX</th><th>HBETAFLUX</th><th>EWOII</th><th>EWHBETA</th><th>D4000</th><th>VDISP</th><th>OIIDOUBLET</th><th>OIIIHBETA</th><th>OIIHBETA</th><th>NIIHBETA</th><th>SIIHBETA</th><th>ZMETAL</th><th>AGE</th><th>TEFF</th><th>LOGG</th><th>FEH</th></tr></thead>\n",
       "<thead><tr><th>str10</th><th>str10</th><th>int32</th><th>int64</th><th>float32</th><th>float32</th><th>float32</th><th>float32</th><th>float32</th><th>float32</th><th>float32</th><th>float32</th><th>float32</th><th>float32</th><th>float32</th><th>float32</th><th>float32</th><th>float32</th><th>float32</th><th>float32</th><th>float32</th><th>float32</th><th>float32</th><th>float32</th><th>float32</th><th>float32</th><th>float32</th></tr></thead>\n",
       "<tr><td>LRG</td><td></td><td>66</td><td>3244113739</td><td>0.881887</td><td>19.7879</td><td>0.259422</td><td>2.13608</td><td>12.1574</td><td>54.7213</td><td>39.2301</td><td>-1.0</td><td>-1.0</td><td>-1.0</td><td>-1.0</td><td>1.68142</td><td>173.207</td><td>-1.0</td><td>-1.0</td><td>-1.0</td><td>-1.0</td><td>-1.0</td><td>0.019</td><td>2.81838</td><td>-1.0</td><td>-1.0</td><td>-1.0</td></tr>\n",
       "<tr><td>LRG</td><td></td><td>94</td><td>3952505139</td><td>0.517868</td><td>19.4825</td><td>0.687972</td><td>4.33103</td><td>16.1072</td><td>37.9772</td><td>23.4422</td><td>-1.0</td><td>-1.0</td><td>-1.0</td><td>-1.0</td><td>2.2449</td><td>173.207</td><td>-1.0</td><td>-1.0</td><td>-1.0</td><td>-1.0</td><td>-1.0</td><td>0.019</td><td>14.1254</td><td>-1.0</td><td>-1.0</td><td>-1.0</td></tr>\n",
       "<tr><td>ELG</td><td></td><td>4426</td><td>3244113739</td><td>1.18514</td><td>22.7893</td><td>0.755122</td><td>0.7661</td><td>1.4501</td><td>2.3653</td><td>1.97772</td><td>7.50738e-17</td><td>-1.0</td><td>56.9604</td><td>-1.0</td><td>1.06338</td><td>57.5023</td><td>0.733237</td><td>-0.0850786</td><td>0.275525</td><td>-0.248196</td><td>-0.19466</td><td>-1.0</td><td>-1.0</td><td>-1.0</td><td>-1.0</td><td>-1.0</td></tr>\n",
       "</table>"
      ],
      "text/plain": [
       "<Table length=3>\n",
       "OBJTYPE SUBTYPE TEMPLATEID    SEED    ...   AGE     TEFF    LOGG    FEH  \n",
       " str10   str10    int32      int64    ... float32 float32 float32 float32\n",
       "------- ------- ---------- ---------- ... ------- ------- ------- -------\n",
       "    LRG                 66 3244113739 ... 2.81838    -1.0    -1.0    -1.0\n",
       "    LRG                 94 3952505139 ... 14.1254    -1.0    -1.0    -1.0\n",
       "    ELG               4426 3244113739 ...    -1.0    -1.0    -1.0    -1.0"
      ]
     },
     "execution_count": 70,
     "metadata": {},
     "output_type": "execute_result"
    }
   ],
   "source": [
    "meta[:3]\n",
    "# meta"
   ]
  },
  {
   "cell_type": "markdown",
   "metadata": {},
   "source": [
    "## Histogram of redshift distributions"
   ]
  },
  {
   "cell_type": "code",
   "execution_count": 72,
   "metadata": {
    "scrolled": true
   },
   "outputs": [
    {
     "data": {
      "text/plain": [
       "(0.2, 4.3210281372070316)"
      ]
     },
     "execution_count": 72,
     "metadata": {},
     "output_type": "execute_result"
    },
    {
     "data": {
      "image/png": "[encoded data removed]",
      "text/plain": [
       "<matplotlib.figure.Figure at 0x12279d9d0>"
      ]
     },
     "metadata": {},
     "output_type": "display_data"
    }
   ],
   "source": [
    "allobjtype = meta['OBJTYPE']\n",
    "redlim = (--0.2, 1.1*meta['REDSHIFT'].max())\n",
    "fig, ax = plt.subplots()\n",
    "for objtype in sorted(set(allobjtype)):\n",
    "    indx = objtype == allobjtype\n",
    "    hh = ax.hist(meta['REDSHIFT'][indx], bins=nspec//3, \n",
    "                 label=objtype, alpha=0.5, range=redlim)\n",
    "ax.set_xlabel('Redshift')\n",
    "ax.set_ylabel('Number of Simulated Spectra')\n",
    "ax.legend(loc='upper right', ncol=3)\n",
    "ax.margins(0.2)\n",
    "ax.set_xlim(redlim)"
   ]
  },
  {
   "cell_type": "markdown",
   "metadata": {},
   "source": [
    "## Simulate spectra using quickgen\n",
    "\n",
    "`quickgen` generates four files: `calib`, `sky`, `cframe`, and `frame`. We will use the `cframe` or \"calibrated frame\" files, which contain the flux-calibrated and sky-subtracted DESI spectra (one file per *brz* camera and spectrograph).\n",
    "\n",
    "Documentation: http://desidatamodel.readthedocs.io/en/latest/DESI_SPECTRO_REDUX/PRODNAME/exposures/NIGHT/EXPID/index.html"
   ]
  },
  {
   "cell_type": "code",
   "execution_count": 73,
   "metadata": {
    "scrolled": true
   },
   "outputs": [
    {
     "name": "stdout",
     "output_type": "stream",
     "text": [
      "INFO:quickgen.py:210:main: Reading fibermap file /Users/ryanrubenzahl/Documents/DESI/spectro/sim/example/20180201/fibermap-00000000.fits\n",
      "DEBUG:simexp.py:620:get_source_types: elg 619 targets\n",
      "DEBUG:simexp.py:620:get_source_types: lrg 174 targets\n",
      "DEBUG:simexp.py:620:get_source_types: qso 107 targets\n",
      "DEBUG:simexp.py:620:get_source_types: sky 80 targets\n",
      "DEBUG:simexp.py:620:get_source_types: star 20 targets\n",
      "INFO:quickgen.py:229:main: Initializing SpecSim with config desi\n",
      "INFO:quickgen.py:235:main: Reading input file /Users/ryanrubenzahl/Documents/DESI/spectro/sim/example/20180201/simspec-00000000.fits\n",
      "HIHIHIHIHIHIHIHIHIHIHIHIHIHIHI\n",
      "nspec 1000\n",
      "args.nspec 100\n",
      "INFO:quickgen.py:589:main: Writing files for channel:b, spectrograph:0, spectra:0 to 500\n",
      "INFO:quickgen.py:616:main: Wrote file /Users/ryanrubenzahl/Documents/DESI/spectro/redux/example/exposures/20180201/00000000/frame-b0-00000000.fits\n",
      "INFO:quickgen.py:634:main: Wrote file /Users/ryanrubenzahl/Documents/DESI/spectro/redux/example/exposures/20180201/00000000/cframe-b0-00000000.fits\n",
      "INFO:quickgen.py:649:main: Wrote file /Users/ryanrubenzahl/Documents/DESI/spectro/redux/example/exposures/20180201/00000000/sky-b0-00000000.fits\n",
      "INFO:quickgen.py:670:main: Wrote file /Users/ryanrubenzahl/Documents/DESI/spectro/redux/example/exposures/20180201/00000000/calib-b0-00000000.fits\n",
      "INFO:quickgen.py:589:main: Writing files for channel:b, spectrograph:1, spectra:500 to 1000\n",
      "INFO:quickgen.py:616:main: Wrote file /Users/ryanrubenzahl/Documents/DESI/spectro/redux/example/exposures/20180201/00000000/frame-b1-00000000.fits\n",
      "INFO:quickgen.py:634:main: Wrote file /Users/ryanrubenzahl/Documents/DESI/spectro/redux/example/exposures/20180201/00000000/cframe-b1-00000000.fits\n",
      "INFO:quickgen.py:649:main: Wrote file /Users/ryanrubenzahl/Documents/DESI/spectro/redux/example/exposures/20180201/00000000/sky-b1-00000000.fits\n",
      "INFO:quickgen.py:670:main: Wrote file /Users/ryanrubenzahl/Documents/DESI/spectro/redux/example/exposures/20180201/00000000/calib-b1-00000000.fits\n",
      "INFO:quickgen.py:589:main: Writing files for channel:r, spectrograph:0, spectra:0 to 500\n",
      "INFO:quickgen.py:616:main: Wrote file /Users/ryanrubenzahl/Documents/DESI/spectro/redux/example/exposures/20180201/00000000/frame-r0-00000000.fits\n",
      "INFO:quickgen.py:634:main: Wrote file /Users/ryanrubenzahl/Documents/DESI/spectro/redux/example/exposures/20180201/00000000/cframe-r0-00000000.fits\n",
      "INFO:quickgen.py:649:main: Wrote file /Users/ryanrubenzahl/Documents/DESI/spectro/redux/example/exposures/20180201/00000000/sky-r0-00000000.fits\n",
      "INFO:quickgen.py:670:main: Wrote file /Users/ryanrubenzahl/Documents/DESI/spectro/redux/example/exposures/20180201/00000000/calib-r0-00000000.fits\n",
      "INFO:quickgen.py:589:main: Writing files for channel:r, spectrograph:1, spectra:500 to 1000\n",
      "INFO:quickgen.py:616:main: Wrote file /Users/ryanrubenzahl/Documents/DESI/spectro/redux/example/exposures/20180201/00000000/frame-r1-00000000.fits\n",
      "INFO:quickgen.py:634:main: Wrote file /Users/ryanrubenzahl/Documents/DESI/spectro/redux/example/exposures/20180201/00000000/cframe-r1-00000000.fits\n",
      "INFO:quickgen.py:649:main: Wrote file /Users/ryanrubenzahl/Documents/DESI/spectro/redux/example/exposures/20180201/00000000/sky-r1-00000000.fits\n",
      "INFO:quickgen.py:670:main: Wrote file /Users/ryanrubenzahl/Documents/DESI/spectro/redux/example/exposures/20180201/00000000/calib-r1-00000000.fits\n",
      "INFO:quickgen.py:589:main: Writing files for channel:z, spectrograph:0, spectra:0 to 500\n",
      "INFO:quickgen.py:616:main: Wrote file /Users/ryanrubenzahl/Documents/DESI/spectro/redux/example/exposures/20180201/00000000/frame-z0-00000000.fits\n",
      "INFO:quickgen.py:634:main: Wrote file /Users/ryanrubenzahl/Documents/DESI/spectro/redux/example/exposures/20180201/00000000/cframe-z0-00000000.fits\n",
      "INFO:quickgen.py:649:main: Wrote file /Users/ryanrubenzahl/Documents/DESI/spectro/redux/example/exposures/20180201/00000000/sky-z0-00000000.fits\n",
      "INFO:quickgen.py:670:main: Wrote file /Users/ryanrubenzahl/Documents/DESI/spectro/redux/example/exposures/20180201/00000000/calib-z0-00000000.fits\n",
      "INFO:quickgen.py:589:main: Writing files for channel:z, spectrograph:1, spectra:500 to 1000\n",
      "INFO:quickgen.py:616:main: Wrote file /Users/ryanrubenzahl/Documents/DESI/spectro/redux/example/exposures/20180201/00000000/frame-z1-00000000.fits\n",
      "INFO:quickgen.py:634:main: Wrote file /Users/ryanrubenzahl/Documents/DESI/spectro/redux/example/exposures/20180201/00000000/cframe-z1-00000000.fits\n",
      "INFO:quickgen.py:649:main: Wrote file /Users/ryanrubenzahl/Documents/DESI/spectro/redux/example/exposures/20180201/00000000/sky-z1-00000000.fits\n",
      "INFO:quickgen.py:670:main: Wrote file /Users/ryanrubenzahl/Documents/DESI/spectro/redux/example/exposures/20180201/00000000/calib-z1-00000000.fits\n"
     ]
    }
   ],
   "source": [
    "# the call to quicksim from the command line looks like\n",
    "# quickgen --simspec {simspecfile} --fibermap {fiberfile}\n",
    "# here we call quicksim in an equivalent way\n",
    "\n",
    "args = quickgen.parse(['--simspec', simspecfile, \n",
    "                       '--fibermap', fiberfile])\n",
    "quickgen.main(args)"
   ]
  },
  {
   "cell_type": "code",
   "execution_count": 74,
   "metadata": {},
   "outputs": [
    {
     "name": "stdout",
     "output_type": "stream",
     "text": [
      "Reading /Users/ryanrubenzahl/Documents/DESI/spectro/redux/example/exposures/20180201/00000000/cframe-b0-00000000.fits\n"
     ]
    }
   ],
   "source": [
    "# Check the output of one of the cframes\n",
    "# Lets look at the blue camera using desispec.io.frame.read_frame\n",
    "cframefile = desispec.io.findfile('cframe', night=night, expid=expid, camera='b0')\n",
    "print('Reading {}'.format(cframefile))\n",
    "cframe = desispec.io.frame.read_frame(cframefile)"
   ]
  },
  {
   "cell_type": "code",
   "execution_count": 77,
   "metadata": {},
   "outputs": [
    {
     "data": {
      "text/plain": [
       "<Frame: nspec=500, nwave=4760>"
      ]
     },
     "execution_count": 77,
     "metadata": {},
     "output_type": "execute_result"
    }
   ],
   "source": [
    "cframe"
   ]
  },
  {
   "cell_type": "code",
   "execution_count": 78,
   "metadata": {},
   "outputs": [
    {
     "data": {
      "text/plain": [
       "['R',\n",
       " '__class__',\n",
       " '__delattr__',\n",
       " '__dict__',\n",
       " '__doc__',\n",
       " '__format__',\n",
       " '__getattribute__',\n",
       " '__getitem__',\n",
       " '__hash__',\n",
       " '__init__',\n",
       " '__module__',\n",
       " '__new__',\n",
       " '__reduce__',\n",
       " '__reduce_ex__',\n",
       " '__repr__',\n",
       " '__setattr__',\n",
       " '__sizeof__',\n",
       " '__str__',\n",
       " '__subclasshook__',\n",
       " '__weakref__',\n",
       " 'chi2pix',\n",
       " 'fibermap',\n",
       " 'fibers',\n",
       " 'flux',\n",
       " 'ivar',\n",
       " 'mask',\n",
       " 'meta',\n",
       " 'ndiag',\n",
       " 'nspec',\n",
       " 'nwave',\n",
       " 'resolution_data',\n",
       " 'spectrograph',\n",
       " 'vet',\n",
       " 'wave',\n",
       " 'wsigma']"
      ]
     },
     "execution_count": 78,
     "metadata": {},
     "output_type": "execute_result"
    }
   ],
   "source": [
    "dir(cframe)"
   ]
  },
  {
   "cell_type": "code",
   "execution_count": 79,
   "metadata": {},
   "outputs": [
    {
     "data": {
      "text/plain": [
       "<matplotlib.text.Text at 0x11827a650>"
      ]
     },
     "execution_count": 79,
     "metadata": {},
     "output_type": "execute_result"
    },
    {
     "data": {
      "image/png": "[encoded data removed]",
      "text/plain": [
       "<matplotlib.figure.Figure at 0x11a5e6d50>"
      ]
     },
     "metadata": {},
     "output_type": "display_data"
    }
   ],
   "source": [
    "# Lets plot the 0th spectrum\n",
    "\n",
    "fig, ax = plt.subplots()\n",
    "ax.errorbar(cframe.wave, cframe.flux[0, :], 1/np.sqrt(cframe.ivar[0, :]))\n",
    "ax.set_xlabel('Wavelength (A)')\n",
    "ax.set_ylabel('Flux ($10^{-17}$ erg/s/cm$^2$)')"
   ]
  },
  {
   "cell_type": "markdown",
   "metadata": {},
   "source": [
    "## Regroup the spectra\n",
    "\n",
    "We combine and reorganize the individual `cframe` frames into `spectra` files grouped on the sky, using healpix pixels w/ nside=64.\n",
    "\n",
    "Run the notebook equivalent of the line\n",
    "\n",
    "`desi_group_spectra --hpxnside 64`"
   ]
  },
  {
   "cell_type": "code",
   "execution_count": 80,
   "metadata": {},
   "outputs": [],
   "source": [
    "# nside = 64\n",
    "# args = group_spectra.parse(['--hpxnside', '{}'.format(nside)])\n",
    "# group_spectra.main(args)\n",
    "\n",
    "# This isn't working at the moment, so lets not worry about it"
   ]
  },
  {
   "cell_type": "markdown",
   "metadata": {},
   "source": [
    "## Combine cameras"
   ]
  },
  {
   "cell_type": "code",
   "execution_count": 81,
   "metadata": {},
   "outputs": [
    {
     "name": "stdout",
     "output_type": "stream",
     "text": [
      "Reading /Users/ryanrubenzahl/Documents/DESI/spectro/redux/example/exposures/20180201/00000000/cframe-b0-00000000.fits\n"
     ]
    }
   ],
   "source": [
    "# Check the output of one of the calib files\n",
    "cframefile = desispec.io.findfile('cframe', night=night, expid=expid, camera='b0')\n",
    "print('Reading {}'.format(cframefile))\n",
    "cframe = desispec.io.frame.read_frame(cframefile)"
   ]
  },
  {
   "cell_type": "code",
   "execution_count": 82,
   "metadata": {},
   "outputs": [],
   "source": [
    "allobjtype = meta['OBJTYPE']"
   ]
  },
  {
   "cell_type": "code",
   "execution_count": 87,
   "metadata": {},
   "outputs": [
    {
     "data": {
      "image/png": "[encoded data removed]",
      "text/plain": [
       "<matplotlib.figure.Figure at 0x170fdf350>"
      ]
     },
     "metadata": {},
     "output_type": "display_data"
    }
   ],
   "source": [
    "objs = sorted(set(allobjtype))\n",
    "\n",
    "fig, ax = plt.subplots(2,3, figsize=(9, 6))\n",
    "axes = [[0,0], [0,1], [0,2],\n",
    "        [1,0], [1,1], [1,2]]\n",
    "\n",
    "for axi, obj in zip(axes, objs):\n",
    "    i, j = axi\n",
    "    obj_indxs = np.argwhere(allobjtype==obj)\n",
    "    for indx in obj_indxs:\n",
    "        if indx[0] > cframe.nspec-1:\n",
    "            continue\n",
    "        ax[i,j].plot(cframe.wave, cframe.flux[indx[0]])\n",
    "        \n",
    "    ax[i,j].set_title(obj)\n",
    "    ax[i,j].set_xlabel('Wavelength [A]')\n",
    "    ax[i,j].set_ylabel('Flux ($10^{-17}$ erg/s/cm$^2$)')\n",
    "            \n",
    "# ax.margins(0)\n",
    "fig.tight_layout()"
   ]
  },
  {
   "cell_type": "markdown",
   "metadata": {},
   "source": [
    "## RandomForestClassifier on b0 camera spectra"
   ]
  },
  {
   "cell_type": "code",
   "execution_count": 88,
   "metadata": {},
   "outputs": [],
   "source": [
    "from sklearn.ensemble import RandomForestClassifier\n",
    "\n",
    "# seed = 555\n",
    "np.random.seed(0)"
   ]
  },
  {
   "cell_type": "code",
   "execution_count": 89,
   "metadata": {},
   "outputs": [
    {
     "data": {
      "text/html": [
       "&lt;Table length=5&gt;\n",
       "<table id=\"table6190768784\" class=\"table-striped table-bordered table-condensed\">\n",
       "<thead><tr><th>OBJTYPE</th><th>SUBTYPE</th><th>TEMPLATEID</th><th>SEED</th><th>REDSHIFT</th><th>MAG</th><th>FLUX_G</th><th>FLUX_R</th><th>FLUX_Z</th><th>FLUX_W1</th><th>FLUX_W2</th><th>OIIFLUX</th><th>HBETAFLUX</th><th>EWOII</th><th>EWHBETA</th><th>D4000</th><th>VDISP</th><th>OIIDOUBLET</th><th>OIIIHBETA</th><th>OIIHBETA</th><th>NIIHBETA</th><th>SIIHBETA</th><th>ZMETAL</th><th>AGE</th><th>TEFF</th><th>LOGG</th><th>FEH</th></tr></thead>\n",
       "<thead><tr><th>str10</th><th>str10</th><th>int32</th><th>int64</th><th>float32</th><th>float32</th><th>float32</th><th>float32</th><th>float32</th><th>float32</th><th>float32</th><th>float32</th><th>float32</th><th>float32</th><th>float32</th><th>float32</th><th>float32</th><th>float32</th><th>float32</th><th>float32</th><th>float32</th><th>float32</th><th>float32</th><th>float32</th><th>float32</th><th>float32</th><th>float32</th></tr></thead>\n",
       "<tr><td>LRG</td><td></td><td>66</td><td>3244113739</td><td>0.881887</td><td>19.7879</td><td>0.259422</td><td>2.13608</td><td>12.1574</td><td>54.7213</td><td>39.2301</td><td>-1.0</td><td>-1.0</td><td>-1.0</td><td>-1.0</td><td>1.68142</td><td>173.207</td><td>-1.0</td><td>-1.0</td><td>-1.0</td><td>-1.0</td><td>-1.0</td><td>0.019</td><td>2.81838</td><td>-1.0</td><td>-1.0</td><td>-1.0</td></tr>\n",
       "<tr><td>LRG</td><td></td><td>94</td><td>3952505139</td><td>0.517868</td><td>19.4825</td><td>0.687972</td><td>4.33103</td><td>16.1072</td><td>37.9772</td><td>23.4422</td><td>-1.0</td><td>-1.0</td><td>-1.0</td><td>-1.0</td><td>2.2449</td><td>173.207</td><td>-1.0</td><td>-1.0</td><td>-1.0</td><td>-1.0</td><td>-1.0</td><td>0.019</td><td>14.1254</td><td>-1.0</td><td>-1.0</td><td>-1.0</td></tr>\n",
       "<tr><td>ELG</td><td></td><td>4426</td><td>3244113739</td><td>1.18514</td><td>22.7893</td><td>0.755122</td><td>0.7661</td><td>1.4501</td><td>2.3653</td><td>1.97772</td><td>7.50738e-17</td><td>-1.0</td><td>56.9604</td><td>-1.0</td><td>1.06338</td><td>57.5023</td><td>0.733237</td><td>-0.0850786</td><td>0.275525</td><td>-0.248196</td><td>-0.19466</td><td>-1.0</td><td>-1.0</td><td>-1.0</td><td>-1.0</td><td>-1.0</td></tr>\n",
       "<tr><td>LRG</td><td></td><td>116</td><td>369720621</td><td>0.811504</td><td>20.3715</td><td>0.13334</td><td>1.06204</td><td>7.10245</td><td>31.0123</td><td>19.8706</td><td>-1.0</td><td>-1.0</td><td>-1.0</td><td>-1.0</td><td>1.95457</td><td>173.207</td><td>-1.0</td><td>-1.0</td><td>-1.0</td><td>-1.0</td><td>-1.0</td><td>0.03</td><td>3.16228</td><td>-1.0</td><td>-1.0</td><td>-1.0</td></tr>\n",
       "<tr><td>ELG</td><td></td><td>4049</td><td>3952505139</td><td>1.08302</td><td>21.1707</td><td>3.42253</td><td>3.40176</td><td>5.47988</td><td>6.04448</td><td>4.40413</td><td>8.13558e-17</td><td>-1.0</td><td>13.9696</td><td>-1.0</td><td>1.00689</td><td>57.5023</td><td>0.757255</td><td>-0.00885063</td><td>0.630011</td><td>-0.265495</td><td>-0.230491</td><td>-1.0</td><td>-1.0</td><td>-1.0</td><td>-1.0</td><td>-1.0</td></tr>\n",
       "</table>"
      ],
      "text/plain": [
       "<Table length=5>\n",
       "OBJTYPE SUBTYPE TEMPLATEID    SEED    ...   AGE     TEFF    LOGG    FEH  \n",
       " str10   str10    int32      int64    ... float32 float32 float32 float32\n",
       "------- ------- ---------- ---------- ... ------- ------- ------- -------\n",
       "    LRG                 66 3244113739 ... 2.81838    -1.0    -1.0    -1.0\n",
       "    LRG                 94 3952505139 ... 14.1254    -1.0    -1.0    -1.0\n",
       "    ELG               4426 3244113739 ...    -1.0    -1.0    -1.0    -1.0\n",
       "    LRG                116  369720621 ... 3.16228    -1.0    -1.0    -1.0\n",
       "    ELG               4049 3952505139 ...    -1.0    -1.0    -1.0    -1.0"
      ]
     },
     "execution_count": 89,
     "metadata": {},
     "output_type": "execute_result"
    }
   ],
   "source": [
    "meta[:5]"
   ]
  },
  {
   "cell_type": "code",
   "execution_count": 90,
   "metadata": {},
   "outputs": [],
   "source": [
    "# Make my own astropy table containing several columns of \"truth\"\n",
    "# data from the meta table and several columns of corresponding\n",
    "# simulated data from the cframe objects (mostly just wave + flux)"
   ]
  },
  {
   "cell_type": "code",
   "execution_count": 91,
   "metadata": {},
   "outputs": [],
   "source": [
    "import pandas as pd\n",
    "\n",
    "flux_df = pd.DataFrame(cframe.flux)"
   ]
  },
  {
   "cell_type": "code",
   "execution_count": 93,
   "metadata": {},
   "outputs": [],
   "source": [
    "# flux_df\n",
    "# df['species'] = pd.Categorical.from_codes(iris.target, iris.target_names)\n",
    "flux_df['objtype'] = allobjtype[:cframe.nspec]"
   ]
  },
  {
   "cell_type": "code",
   "execution_count": 94,
   "metadata": {},
   "outputs": [
    {
     "data": {
      "text/html": [
       "<div>\n",
       "<style>\n",
       "    .dataframe thead tr:only-child th {\n",
       "        text-align: right;\n",
       "    }\n",
       "\n",
       "    .dataframe thead th {\n",
       "        text-align: left;\n",
       "    }\n",
       "\n",
       "    .dataframe tbody tr th {\n",
       "        vertical-align: top;\n",
       "    }\n",
       "</style>\n",
       "<table border=\"1\" class=\"dataframe\">\n",
       "  <thead>\n",
       "    <tr style=\"text-align: right;\">\n",
       "      <th></th>\n",
       "      <th>0</th>\n",
       "      <th>1</th>\n",
       "      <th>2</th>\n",
       "      <th>3</th>\n",
       "      <th>4</th>\n",
       "      <th>5</th>\n",
       "      <th>6</th>\n",
       "      <th>7</th>\n",
       "      <th>8</th>\n",
       "      <th>9</th>\n",
       "      <th>...</th>\n",
       "      <th>4751</th>\n",
       "      <th>4752</th>\n",
       "      <th>4753</th>\n",
       "      <th>4754</th>\n",
       "      <th>4755</th>\n",
       "      <th>4756</th>\n",
       "      <th>4757</th>\n",
       "      <th>4758</th>\n",
       "      <th>4759</th>\n",
       "      <th>objtype</th>\n",
       "    </tr>\n",
       "  </thead>\n",
       "  <tbody>\n",
       "    <tr>\n",
       "      <th>0</th>\n",
       "      <td>4.410804</td>\n",
       "      <td>0.628093</td>\n",
       "      <td>-0.502179</td>\n",
       "      <td>-1.475999</td>\n",
       "      <td>22.267246</td>\n",
       "      <td>6.197022</td>\n",
       "      <td>2.809343</td>\n",
       "      <td>-19.833023</td>\n",
       "      <td>2.712042</td>\n",
       "      <td>-2.116041</td>\n",
       "      <td>...</td>\n",
       "      <td>6.114013</td>\n",
       "      <td>-1.511344</td>\n",
       "      <td>6.520978</td>\n",
       "      <td>-0.957069</td>\n",
       "      <td>3.168773</td>\n",
       "      <td>-9.756361</td>\n",
       "      <td>-9.189075</td>\n",
       "      <td>8.521692</td>\n",
       "      <td>8.031245</td>\n",
       "      <td>LRG</td>\n",
       "    </tr>\n",
       "    <tr>\n",
       "      <th>1</th>\n",
       "      <td>7.152854</td>\n",
       "      <td>-1.176545</td>\n",
       "      <td>-12.818226</td>\n",
       "      <td>1.539278</td>\n",
       "      <td>25.437952</td>\n",
       "      <td>-10.506111</td>\n",
       "      <td>-1.041079</td>\n",
       "      <td>-1.101981</td>\n",
       "      <td>-5.951281</td>\n",
       "      <td>-12.795830</td>\n",
       "      <td>...</td>\n",
       "      <td>-8.095753</td>\n",
       "      <td>-0.465716</td>\n",
       "      <td>9.630847</td>\n",
       "      <td>-8.460913</td>\n",
       "      <td>9.275062</td>\n",
       "      <td>5.210396</td>\n",
       "      <td>2.711947</td>\n",
       "      <td>8.541580</td>\n",
       "      <td>-2.521765</td>\n",
       "      <td>LRG</td>\n",
       "    </tr>\n",
       "    <tr>\n",
       "      <th>2</th>\n",
       "      <td>4.936867</td>\n",
       "      <td>-5.997157</td>\n",
       "      <td>-5.356233</td>\n",
       "      <td>-2.577606</td>\n",
       "      <td>0.938796</td>\n",
       "      <td>-2.554553</td>\n",
       "      <td>-1.389192</td>\n",
       "      <td>-11.059829</td>\n",
       "      <td>1.382009</td>\n",
       "      <td>-7.364549</td>\n",
       "      <td>...</td>\n",
       "      <td>-0.076635</td>\n",
       "      <td>-1.027299</td>\n",
       "      <td>-4.059658</td>\n",
       "      <td>-2.669147</td>\n",
       "      <td>-7.592678</td>\n",
       "      <td>0.567462</td>\n",
       "      <td>5.787523</td>\n",
       "      <td>-5.122630</td>\n",
       "      <td>-1.789492</td>\n",
       "      <td>ELG</td>\n",
       "    </tr>\n",
       "    <tr>\n",
       "      <th>3</th>\n",
       "      <td>-4.475715</td>\n",
       "      <td>-0.934034</td>\n",
       "      <td>-5.268381</td>\n",
       "      <td>6.027055</td>\n",
       "      <td>1.273692</td>\n",
       "      <td>-9.990762</td>\n",
       "      <td>-5.313061</td>\n",
       "      <td>-6.793601</td>\n",
       "      <td>1.704484</td>\n",
       "      <td>-7.049758</td>\n",
       "      <td>...</td>\n",
       "      <td>6.140945</td>\n",
       "      <td>0.566090</td>\n",
       "      <td>-2.995291</td>\n",
       "      <td>-5.976245</td>\n",
       "      <td>-10.046648</td>\n",
       "      <td>10.939505</td>\n",
       "      <td>-5.960964</td>\n",
       "      <td>-14.280461</td>\n",
       "      <td>-9.941330</td>\n",
       "      <td>LRG</td>\n",
       "    </tr>\n",
       "    <tr>\n",
       "      <th>4</th>\n",
       "      <td>4.624043</td>\n",
       "      <td>-1.216521</td>\n",
       "      <td>-14.639175</td>\n",
       "      <td>-8.592257</td>\n",
       "      <td>7.348834</td>\n",
       "      <td>-5.630534</td>\n",
       "      <td>-11.366942</td>\n",
       "      <td>2.915127</td>\n",
       "      <td>13.407258</td>\n",
       "      <td>-18.993132</td>\n",
       "      <td>...</td>\n",
       "      <td>-6.198701</td>\n",
       "      <td>2.013230</td>\n",
       "      <td>4.596836</td>\n",
       "      <td>-3.721536</td>\n",
       "      <td>-3.316478</td>\n",
       "      <td>2.314479</td>\n",
       "      <td>-8.532804</td>\n",
       "      <td>6.727330</td>\n",
       "      <td>8.674607</td>\n",
       "      <td>ELG</td>\n",
       "    </tr>\n",
       "  </tbody>\n",
       "</table>\n",
       "<p>5 rows × 4761 columns</p>\n",
       "</div>"
      ],
      "text/plain": [
       "          0         1          2         3          4          5          6  \\\n",
       "0  4.410804  0.628093  -0.502179 -1.475999  22.267246   6.197022   2.809343   \n",
       "1  7.152854 -1.176545 -12.818226  1.539278  25.437952 -10.506111  -1.041079   \n",
       "2  4.936867 -5.997157  -5.356233 -2.577606   0.938796  -2.554553  -1.389192   \n",
       "3 -4.475715 -0.934034  -5.268381  6.027055   1.273692  -9.990762  -5.313061   \n",
       "4  4.624043 -1.216521 -14.639175 -8.592257   7.348834  -5.630534 -11.366942   \n",
       "\n",
       "           7          8          9   ...         4751      4752      4753  \\\n",
       "0 -19.833023   2.712042  -2.116041   ...     6.114013 -1.511344  6.520978   \n",
       "1  -1.101981  -5.951281 -12.795830   ...    -8.095753 -0.465716  9.630847   \n",
       "2 -11.059829   1.382009  -7.364549   ...    -0.076635 -1.027299 -4.059658   \n",
       "3  -6.793601   1.704484  -7.049758   ...     6.140945  0.566090 -2.995291   \n",
       "4   2.915127  13.407258 -18.993132   ...    -6.198701  2.013230  4.596836   \n",
       "\n",
       "       4754       4755       4756      4757       4758      4759  objtype  \n",
       "0 -0.957069   3.168773  -9.756361 -9.189075   8.521692  8.031245      LRG  \n",
       "1 -8.460913   9.275062   5.210396  2.711947   8.541580 -2.521765      LRG  \n",
       "2 -2.669147  -7.592678   0.567462  5.787523  -5.122630 -1.789492      ELG  \n",
       "3 -5.976245 -10.046648  10.939505 -5.960964 -14.280461 -9.941330      LRG  \n",
       "4 -3.721536  -3.316478   2.314479 -8.532804   6.727330  8.674607      ELG  \n",
       "\n",
       "[5 rows x 4761 columns]"
      ]
     },
     "execution_count": 94,
     "metadata": {},
     "output_type": "execute_result"
    }
   ],
   "source": [
    "flux_df.head()"
   ]
  },
  {
   "cell_type": "code",
   "execution_count": 95,
   "metadata": {},
   "outputs": [],
   "source": [
    "# We now separate a portion of the data for training and testing use\n",
    "# Here is a quick way to assign 75% of the data as training via new column\n",
    "flux_df['is_train'] = np.random.uniform(0, 1, len(flux_df)) <= 0.75 "
   ]
  },
  {
   "cell_type": "code",
   "execution_count": 96,
   "metadata": {},
   "outputs": [
    {
     "data": {
      "text/html": [
       "<div>\n",
       "<style>\n",
       "    .dataframe thead tr:only-child th {\n",
       "        text-align: right;\n",
       "    }\n",
       "\n",
       "    .dataframe thead th {\n",
       "        text-align: left;\n",
       "    }\n",
       "\n",
       "    .dataframe tbody tr th {\n",
       "        vertical-align: top;\n",
       "    }\n",
       "</style>\n",
       "<table border=\"1\" class=\"dataframe\">\n",
       "  <thead>\n",
       "    <tr style=\"text-align: right;\">\n",
       "      <th></th>\n",
       "      <th>0</th>\n",
       "      <th>1</th>\n",
       "      <th>2</th>\n",
       "      <th>3</th>\n",
       "      <th>4</th>\n",
       "      <th>5</th>\n",
       "      <th>6</th>\n",
       "      <th>7</th>\n",
       "      <th>8</th>\n",
       "      <th>9</th>\n",
       "      <th>...</th>\n",
       "      <th>4752</th>\n",
       "      <th>4753</th>\n",
       "      <th>4754</th>\n",
       "      <th>4755</th>\n",
       "      <th>4756</th>\n",
       "      <th>4757</th>\n",
       "      <th>4758</th>\n",
       "      <th>4759</th>\n",
       "      <th>objtype</th>\n",
       "      <th>is_train</th>\n",
       "    </tr>\n",
       "  </thead>\n",
       "  <tbody>\n",
       "    <tr>\n",
       "      <th>0</th>\n",
       "      <td>4.410804</td>\n",
       "      <td>0.628093</td>\n",
       "      <td>-0.502179</td>\n",
       "      <td>-1.475999</td>\n",
       "      <td>22.267246</td>\n",
       "      <td>6.197022</td>\n",
       "      <td>2.809343</td>\n",
       "      <td>-19.833023</td>\n",
       "      <td>2.712042</td>\n",
       "      <td>-2.116041</td>\n",
       "      <td>...</td>\n",
       "      <td>-1.511344</td>\n",
       "      <td>6.520978</td>\n",
       "      <td>-0.957069</td>\n",
       "      <td>3.168773</td>\n",
       "      <td>-9.756361</td>\n",
       "      <td>-9.189075</td>\n",
       "      <td>8.521692</td>\n",
       "      <td>8.031245</td>\n",
       "      <td>LRG</td>\n",
       "      <td>True</td>\n",
       "    </tr>\n",
       "    <tr>\n",
       "      <th>1</th>\n",
       "      <td>7.152854</td>\n",
       "      <td>-1.176545</td>\n",
       "      <td>-12.818226</td>\n",
       "      <td>1.539278</td>\n",
       "      <td>25.437952</td>\n",
       "      <td>-10.506111</td>\n",
       "      <td>-1.041079</td>\n",
       "      <td>-1.101981</td>\n",
       "      <td>-5.951281</td>\n",
       "      <td>-12.795830</td>\n",
       "      <td>...</td>\n",
       "      <td>-0.465716</td>\n",
       "      <td>9.630847</td>\n",
       "      <td>-8.460913</td>\n",
       "      <td>9.275062</td>\n",
       "      <td>5.210396</td>\n",
       "      <td>2.711947</td>\n",
       "      <td>8.541580</td>\n",
       "      <td>-2.521765</td>\n",
       "      <td>LRG</td>\n",
       "      <td>True</td>\n",
       "    </tr>\n",
       "    <tr>\n",
       "      <th>2</th>\n",
       "      <td>4.936867</td>\n",
       "      <td>-5.997157</td>\n",
       "      <td>-5.356233</td>\n",
       "      <td>-2.577606</td>\n",
       "      <td>0.938796</td>\n",
       "      <td>-2.554553</td>\n",
       "      <td>-1.389192</td>\n",
       "      <td>-11.059829</td>\n",
       "      <td>1.382009</td>\n",
       "      <td>-7.364549</td>\n",
       "      <td>...</td>\n",
       "      <td>-1.027299</td>\n",
       "      <td>-4.059658</td>\n",
       "      <td>-2.669147</td>\n",
       "      <td>-7.592678</td>\n",
       "      <td>0.567462</td>\n",
       "      <td>5.787523</td>\n",
       "      <td>-5.122630</td>\n",
       "      <td>-1.789492</td>\n",
       "      <td>ELG</td>\n",
       "      <td>True</td>\n",
       "    </tr>\n",
       "    <tr>\n",
       "      <th>3</th>\n",
       "      <td>-4.475715</td>\n",
       "      <td>-0.934034</td>\n",
       "      <td>-5.268381</td>\n",
       "      <td>6.027055</td>\n",
       "      <td>1.273692</td>\n",
       "      <td>-9.990762</td>\n",
       "      <td>-5.313061</td>\n",
       "      <td>-6.793601</td>\n",
       "      <td>1.704484</td>\n",
       "      <td>-7.049758</td>\n",
       "      <td>...</td>\n",
       "      <td>0.566090</td>\n",
       "      <td>-2.995291</td>\n",
       "      <td>-5.976245</td>\n",
       "      <td>-10.046648</td>\n",
       "      <td>10.939505</td>\n",
       "      <td>-5.960964</td>\n",
       "      <td>-14.280461</td>\n",
       "      <td>-9.941330</td>\n",
       "      <td>LRG</td>\n",
       "      <td>True</td>\n",
       "    </tr>\n",
       "    <tr>\n",
       "      <th>4</th>\n",
       "      <td>4.624043</td>\n",
       "      <td>-1.216521</td>\n",
       "      <td>-14.639175</td>\n",
       "      <td>-8.592257</td>\n",
       "      <td>7.348834</td>\n",
       "      <td>-5.630534</td>\n",
       "      <td>-11.366942</td>\n",
       "      <td>2.915127</td>\n",
       "      <td>13.407258</td>\n",
       "      <td>-18.993132</td>\n",
       "      <td>...</td>\n",
       "      <td>2.013230</td>\n",
       "      <td>4.596836</td>\n",
       "      <td>-3.721536</td>\n",
       "      <td>-3.316478</td>\n",
       "      <td>2.314479</td>\n",
       "      <td>-8.532804</td>\n",
       "      <td>6.727330</td>\n",
       "      <td>8.674607</td>\n",
       "      <td>ELG</td>\n",
       "      <td>True</td>\n",
       "    </tr>\n",
       "  </tbody>\n",
       "</table>\n",
       "<p>5 rows × 4762 columns</p>\n",
       "</div>"
      ],
      "text/plain": [
       "          0         1          2         3          4          5          6  \\\n",
       "0  4.410804  0.628093  -0.502179 -1.475999  22.267246   6.197022   2.809343   \n",
       "1  7.152854 -1.176545 -12.818226  1.539278  25.437952 -10.506111  -1.041079   \n",
       "2  4.936867 -5.997157  -5.356233 -2.577606   0.938796  -2.554553  -1.389192   \n",
       "3 -4.475715 -0.934034  -5.268381  6.027055   1.273692  -9.990762  -5.313061   \n",
       "4  4.624043 -1.216521 -14.639175 -8.592257   7.348834  -5.630534 -11.366942   \n",
       "\n",
       "           7          8          9    ...         4752      4753      4754  \\\n",
       "0 -19.833023   2.712042  -2.116041    ...    -1.511344  6.520978 -0.957069   \n",
       "1  -1.101981  -5.951281 -12.795830    ...    -0.465716  9.630847 -8.460913   \n",
       "2 -11.059829   1.382009  -7.364549    ...    -1.027299 -4.059658 -2.669147   \n",
       "3  -6.793601   1.704484  -7.049758    ...     0.566090 -2.995291 -5.976245   \n",
       "4   2.915127  13.407258 -18.993132    ...     2.013230  4.596836 -3.721536   \n",
       "\n",
       "        4755       4756      4757       4758      4759  objtype  is_train  \n",
       "0   3.168773  -9.756361 -9.189075   8.521692  8.031245      LRG      True  \n",
       "1   9.275062   5.210396  2.711947   8.541580 -2.521765      LRG      True  \n",
       "2  -7.592678   0.567462  5.787523  -5.122630 -1.789492      ELG      True  \n",
       "3 -10.046648  10.939505 -5.960964 -14.280461 -9.941330      LRG      True  \n",
       "4  -3.316478   2.314479 -8.532804   6.727330  8.674607      ELG      True  \n",
       "\n",
       "[5 rows x 4762 columns]"
      ]
     },
     "execution_count": 96,
     "metadata": {},
     "output_type": "execute_result"
    }
   ],
   "source": [
    "flux_df.head()"
   ]
  },
  {
   "cell_type": "code",
   "execution_count": 97,
   "metadata": {},
   "outputs": [
    {
     "name": "stdout",
     "output_type": "stream",
     "text": [
      "Number of observations in the training data: 381\n",
      "Number of observations in the test data: 119\n"
     ]
    }
   ],
   "source": [
    "# We now split the dataframes into a test and training dataset\n",
    "train, test = flux_df[flux_df['is_train']==True], flux_df[flux_df['is_train']==False]\n",
    "print 'Number of observations in the training data:', len(train)\n",
    "print 'Number of observations in the test data:',len(test)"
   ]
  },
  {
   "cell_type": "code",
   "execution_count": 98,
   "metadata": {},
   "outputs": [
    {
     "data": {
      "text/plain": [
       "Index([   0,    1,    2,    3,    4,    5,    6,    7,    8,    9,\n",
       "       ...\n",
       "       4750, 4751, 4752, 4753, 4754, 4755, 4756, 4757, 4758, 4759],\n",
       "      dtype='object', length=4760)"
      ]
     },
     "execution_count": 98,
     "metadata": {},
     "output_type": "execute_result"
    }
   ],
   "source": [
    "# Data preprocessing\n",
    "features = flux_df.columns[:-2]\n",
    "features"
   ]
  },
  {
   "cell_type": "code",
   "execution_count": 99,
   "metadata": {
    "scrolled": true
   },
   "outputs": [
    {
     "data": {
      "text/plain": [
       "array([0, 0, 1, 0, 1, 1, 1, 2, 1, 1, 1, 0, 1, 3, 1, 1, 1, 1, 4, 1, 1, 0, 1,\n",
       "       1, 4, 1, 1, 5, 0, 1, 1, 2, 1, 0, 2, 0, 2, 1, 3, 3, 4, 3, 1, 4, 1, 5,\n",
       "       0, 2, 1, 1, 1, 1, 1, 0, 1, 1, 1, 2, 1, 1, 1, 3, 4, 1, 1, 4, 1, 1, 1,\n",
       "       3, 1, 0, 1, 1, 0, 1, 0, 1, 3, 0, 1, 1, 0, 1, 1, 1, 0, 1, 0, 1, 1, 1,\n",
       "       1, 1, 3, 0, 1, 1, 3, 1, 3, 1, 0, 3, 1, 0, 0, 2, 1, 1, 0, 1, 1, 1, 1,\n",
       "       5, 0, 0, 1, 2, 1, 1, 1, 1, 1, 1, 1, 1, 5, 1, 4, 1, 1, 0, 1, 0, 1, 4,\n",
       "       1, 0, 0, 1, 1, 3, 1, 4, 4, 0, 1, 0, 1, 1, 1, 0, 1, 1, 3, 1, 3, 1, 1,\n",
       "       3, 1, 3, 3, 1, 1, 1, 0, 1, 1, 0, 1, 1, 2, 1, 3, 1, 1, 1, 1, 2, 0, 4,\n",
       "       0, 1, 4, 4, 0, 1, 1, 2, 1, 1, 1, 3, 1, 0, 1, 1, 1, 3, 0, 3, 1, 1, 1,\n",
       "       1, 3, 2, 4, 0, 1, 1, 1, 1, 1, 1, 1, 3, 1, 0, 1, 1, 1, 1, 1, 1, 1, 4,\n",
       "       0, 1, 1, 1, 1, 4, 0, 3, 4, 0, 1, 0, 1, 1, 1, 1, 0, 1, 4, 1, 1, 1, 5,\n",
       "       1, 1, 3, 3, 1, 0, 1, 1, 1, 1, 1, 0, 1, 0, 3, 1, 1, 1, 1, 0, 4, 2, 0,\n",
       "       1, 1, 1, 0, 1, 1, 1, 1, 1, 1, 1, 1, 1, 1, 1, 4, 1, 1, 1, 2, 2, 4, 1,\n",
       "       1, 0, 2, 1, 3, 3, 0, 1, 1, 1, 1, 1, 4, 1, 0, 1, 0, 1, 1, 1, 1, 1, 1,\n",
       "       2, 1, 1, 1, 0, 1, 1, 5, 0, 1, 2, 0, 3, 1, 1, 4, 1, 1, 1, 1, 1, 1, 1,\n",
       "       5, 1, 1, 1, 1, 1, 1, 1, 1, 1, 1, 1, 1, 1, 1, 3, 1, 1, 0, 0, 1, 5, 0,\n",
       "       1, 1, 3, 1, 1, 1, 1, 1, 3, 0, 1, 1, 3])"
      ]
     },
     "execution_count": 99,
     "metadata": {},
     "output_type": "execute_result"
    }
   ],
   "source": [
    "# train['species'] has the \"true\" species names\n",
    "# in order to compare later it needs to be coded into integers (0, 1, 2)\n",
    "\n",
    "y = pd.factorize(train['objtype'])[0]\n",
    "y"
   ]
  },
  {
   "cell_type": "code",
   "execution_count": 100,
   "metadata": {},
   "outputs": [
    {
     "data": {
      "text/plain": [
       "RandomForestClassifier(bootstrap=True, class_weight=None, criterion='gini',\n",
       "            max_depth=None, max_features='auto', max_leaf_nodes=None,\n",
       "            min_impurity_split=1e-07, min_samples_leaf=1,\n",
       "            min_samples_split=2, min_weight_fraction_leaf=0.0,\n",
       "            n_estimators=10, n_jobs=2, oob_score=False, random_state=0,\n",
       "            verbose=0, warm_start=False)"
      ]
     },
     "execution_count": 100,
     "metadata": {},
     "output_type": "execute_result"
    }
   ],
   "source": [
    "# Now we train the random forest\n",
    "clf = RandomForestClassifier(n_jobs=2, random_state=0)\n",
    "\n",
    "clf.fit(train[features], y)\n"
   ]
  },
  {
   "cell_type": "code",
   "execution_count": 101,
   "metadata": {},
   "outputs": [
    {
     "data": {
      "text/plain": [
       "array([1, 1, 1, 1, 1, 1, 1, 1, 1, 1, 1, 1, 1, 1, 1, 1, 1, 1, 1, 0, 1, 1, 1,\n",
       "       1, 0, 1, 1, 1, 1, 1, 1, 1, 1, 5, 1, 1, 1, 1, 1, 1, 1, 1, 1, 1, 1, 0,\n",
       "       1, 1, 1, 1, 1, 1, 1, 1, 1, 1, 1, 1, 1, 1, 1, 1, 1, 1, 1, 0, 1, 1, 1,\n",
       "       1, 1, 1, 1, 1, 1, 5, 1, 1, 1, 1, 1, 1, 1, 1, 1, 1, 1, 0, 1, 1, 1, 1,\n",
       "       2, 1, 1, 1, 1, 1, 1, 1, 1, 1, 1, 3, 1, 1, 1, 1, 1, 1, 1, 1, 1, 1, 0,\n",
       "       1, 1, 1, 1])"
      ]
     },
     "execution_count": 101,
     "metadata": {},
     "output_type": "execute_result"
    }
   ],
   "source": [
    "# Apply the classifier to the test data\n",
    "clf.predict(test[features])"
   ]
  },
  {
   "cell_type": "code",
   "execution_count": 102,
   "metadata": {},
   "outputs": [
    {
     "data": {
      "text/plain": [
       "array([[ 0.1,  0.9,  0. ,  0. ,  0. ,  0. ],\n",
       "       [ 0.1,  0.6,  0.1,  0.2,  0. ,  0. ],\n",
       "       [ 0.1,  0.8,  0. ,  0.1,  0. ,  0. ],\n",
       "       [ 0.3,  0.4,  0.1,  0.2,  0. ,  0. ],\n",
       "       [ 0. ,  0.9,  0. ,  0. ,  0.1,  0. ],\n",
       "       [ 0.2,  0.7,  0. ,  0.1,  0. ,  0. ],\n",
       "       [ 0.2,  0.5,  0.1,  0. ,  0.2,  0. ],\n",
       "       [ 0.2,  0.6,  0. ,  0.1,  0.1,  0. ],\n",
       "       [ 0.1,  0.5,  0.1,  0.2,  0.1,  0. ],\n",
       "       [ 0.3,  0.6,  0. ,  0.1,  0. ,  0. ]])"
      ]
     },
     "execution_count": 102,
     "metadata": {},
     "output_type": "execute_result"
    }
   ],
   "source": [
    "# View predicted probabilities of the first 10 observations\n",
    "clf.predict_proba(test[features])[0:10]"
   ]
  },
  {
   "cell_type": "code",
   "execution_count": 103,
   "metadata": {},
   "outputs": [
    {
     "name": "stdout",
     "output_type": "stream",
     "text": [
      "OBJTYPE\n",
      "-------\n",
      "    LRG\n",
      "    LRG\n",
      "    LRG\n",
      "    LRG\n",
      "    LRG\n",
      "7     ELG\n",
      "8     ELG\n",
      "10    LRG\n",
      "13    ELG\n",
      "17    ELG\n",
      "Name: objtype, dtype: object\n"
     ]
    }
   ],
   "source": [
    "# Convert object number back to type\n",
    "preds = allobjtype[clf.predict(test[features])]\n",
    "\n",
    "print preds[0:5] # Predicted\n",
    "print test['objtype'].head() # Actual"
   ]
  },
  {
   "cell_type": "code",
   "execution_count": 104,
   "metadata": {},
   "outputs": [
    {
     "data": {
      "text/html": [
       "<div>\n",
       "<style>\n",
       "    .dataframe thead tr:only-child th {\n",
       "        text-align: right;\n",
       "    }\n",
       "\n",
       "    .dataframe thead th {\n",
       "        text-align: left;\n",
       "    }\n",
       "\n",
       "    .dataframe tbody tr th {\n",
       "        vertical-align: top;\n",
       "    }\n",
       "</style>\n",
       "<table border=\"1\" class=\"dataframe\">\n",
       "  <thead>\n",
       "    <tr style=\"text-align: right;\">\n",
       "      <th>Predicted Object</th>\n",
       "      <th>ELG</th>\n",
       "      <th>LRG</th>\n",
       "    </tr>\n",
       "    <tr>\n",
       "      <th>Actual Object</th>\n",
       "      <th></th>\n",
       "      <th></th>\n",
       "    </tr>\n",
       "  </thead>\n",
       "  <tbody>\n",
       "    <tr>\n",
       "      <th>ELG</th>\n",
       "      <td>0</td>\n",
       "      <td>70</td>\n",
       "    </tr>\n",
       "    <tr>\n",
       "      <th>FSTD</th>\n",
       "      <td>2</td>\n",
       "      <td>0</td>\n",
       "    </tr>\n",
       "    <tr>\n",
       "      <th>LRG</th>\n",
       "      <td>0</td>\n",
       "      <td>23</td>\n",
       "    </tr>\n",
       "    <tr>\n",
       "      <th>QSO</th>\n",
       "      <td>0</td>\n",
       "      <td>15</td>\n",
       "    </tr>\n",
       "    <tr>\n",
       "      <th>SKY</th>\n",
       "      <td>0</td>\n",
       "      <td>6</td>\n",
       "    </tr>\n",
       "    <tr>\n",
       "      <th>STAR</th>\n",
       "      <td>1</td>\n",
       "      <td>2</td>\n",
       "    </tr>\n",
       "  </tbody>\n",
       "</table>\n",
       "</div>"
      ],
      "text/plain": [
       "Predicted Object  ELG  LRG\n",
       "Actual Object             \n",
       "ELG                 0   70\n",
       "FSTD                2    0\n",
       "LRG                 0   23\n",
       "QSO                 0   15\n",
       "SKY                 0    6\n",
       "STAR                1    2"
      ]
     },
     "execution_count": 104,
     "metadata": {},
     "output_type": "execute_result"
    }
   ],
   "source": [
    "# Display how well the classifier did via a confusion matrix\n",
    "pd.crosstab(test['objtype'], preds, rownames=['Actual Object'], colnames=['Predicted Object'])"
   ]
  },
  {
   "cell_type": "code",
   "execution_count": 105,
   "metadata": {},
   "outputs": [
    {
     "name": "stdout",
     "output_type": "stream",
     "text": [
      "5 0.0034350463346\n",
      "13 0.00402392252331\n",
      "16 0.00278435218458\n",
      "18 0.000711086226204\n",
      "41 0.00110305675019\n",
      "93 0.00191175823305\n",
      "123 0.0018201700385\n",
      "125 0.00124291498434\n",
      "139 0.00250568897066\n",
      "150 0.000895801597233\n",
      "154 0.00187908070849\n",
      "159 0.00143539144581\n",
      "163 0.000912543209134\n",
      "191 0.00457842693053\n",
      "200 0.000943421329815\n",
      "203 0.0018446789968\n",
      "204 0.00503094271856\n",
      "205 0.00230737290518\n",
      "225 0.000614892998935\n",
      "246 0.00445973233131\n",
      "249 0.00211518603644\n",
      "251 0.00309575602776\n",
      "261 0.00291985610343\n",
      "267 0.00287078289161\n",
      "277 0.0042940232876\n",
      "278 0.00387603757807\n",
      "294 0.000687024965514\n",
      "295 0.00237828925235\n",
      "323 0.000758491974617\n",
      "343 0.000438596491228\n",
      "368 0.000951833716399\n",
      "373 0.000634555810932\n",
      "379 0.000632076645514\n",
      "383 0.00264478556606\n",
      "384 0.00346741231685\n",
      "393 0.000713875287299\n",
      "397 0.00155954878041\n",
      "416 0.000338116998734\n",
      "440 0.00120409120945\n",
      "442 0.0026965658206\n",
      "444 0.00301849028576\n",
      "451 0.00565295634781\n",
      "453 0.000883317812803\n",
      "470 0.00112023506622\n",
      "486 0.000475916858199\n",
      "490 0.000888378135305\n",
      "501 0.001359762452\n",
      "502 0.000904293486433\n",
      "505 0.000425688811423\n",
      "516 0.000889376917938\n",
      "543 0.00244842226513\n",
      "545 0.000992369394631\n",
      "572 0.000474057484136\n",
      "575 0.000691754623802\n",
      "579 0.00365384615385\n",
      "585 0.00391242620985\n",
      "590 0.000461169749201\n",
      "594 0.000462614439399\n",
      "625 0.00209533131789\n",
      "637 0.00281912507254\n",
      "657 0.001272470089\n",
      "664 0.000809575268948\n",
      "671 0.0018379182771\n",
      "688 0.00133076751074\n",
      "717 0.00320876445774\n",
      "722 0.000902113325497\n",
      "738 0.00168143145999\n",
      "769 0.00146736946297\n",
      "772 0.00178405679734\n",
      "786 0.000737871598722\n",
      "808 0.000874125750789\n",
      "832 0.000828460038986\n",
      "838 0.000711086226204\n",
      "845 0.00176245719647\n",
      "846 0.00230384094427\n",
      "862 0.00454498301048\n",
      "866 0.000872615583715\n",
      "875 0.0036852785505\n",
      "876 0.000632076645514\n",
      "885 0.00180419631366\n",
      "894 0.000446815996247\n",
      "899 0.000867984775471\n",
      "908 0.00104487253713\n",
      "914 0.00650263918361\n",
      "916 0.0014948711714\n",
      "919 0.00155098315237\n",
      "941 0.00100926259\n",
      "944 0.000861922698429\n",
      "955 0.00406154485836\n",
      "959 0.000951833716399\n",
      "988 0.00421163958153\n",
      "992 0.00321871196343\n",
      "1003 0.00198088425003\n",
      "1004 0.00127706643427\n",
      "1005 0.00213150314449\n",
      "1015 0.00147219635467\n",
      "1023 0.00175036609527\n",
      "1026 0.00353789899845\n",
      "1038 0.00339120559037\n",
      "1045 0.00730999761084\n",
      "1056 0.000584795321637\n",
      "1058 0.000833333333333\n",
      "1064 0.00212457415883\n",
      "1068 0.00348186538561\n",
      "1070 0.000701754385965\n",
      "1076 0.000934126538388\n",
      "1082 0.00186667596913\n",
      "1085 0.00246804674964\n",
      "1096 0.000737871598722\n",
      "1099 0.00277285432015\n",
      "1115 0.00181016074193\n",
      "1116 0.000595754661663\n",
      "1122 0.00126711251935\n",
      "1124 0.000849431774729\n",
      "1135 0.000893631992494\n",
      "1137 0.00244102052141\n",
      "1144 0.00266764988492\n",
      "1151 0.000751879699248\n",
      "1154 0.00165623364241\n",
      "1186 0.000425688811423\n",
      "1191 0.00198325310794\n",
      "1195 0.0051878051892\n",
      "1200 0.000460768188854\n",
      "1211 0.00136452241715\n",
      "1215 0.000595754661663\n",
      "1228 0.00154204813133\n",
      "1245 0.00123664493792\n",
      "1278 0.00221856725146\n",
      "1287 0.00459227929899\n",
      "1289 0.00716836894013\n",
      "1297 0.00414361932325\n",
      "1306 0.00255760998247\n",
      "1309 0.0068214327854\n",
      "1310 0.000680373342222\n",
      "1313 0.0022703202419\n",
      "1315 0.00306335725018\n",
      "1322 0.000460768188854\n",
      "1361 0.00269889544946\n",
      "1364 0.00212336396547\n",
      "1368 0.00121900495921\n",
      "1372 0.000886665572945\n",
      "1396 0.000604776304198\n",
      "1403 0.00154580617241\n",
      "1417 0.00255693141883\n",
      "1425 0.000755970380247\n",
      "1429 0.00110584365325\n",
      "1431 0.000896737278638\n",
      "1454 0.000860850198509\n",
      "1465 0.00194974252908\n",
      "1493 0.0020512102679\n",
      "1504 0.00433965765974\n",
      "1508 0.00299781455203\n",
      "1510 0.00404933755185\n",
      "1517 0.00126796850141\n",
      "1541 0.00477899845108\n",
      "1542 0.00300486219828\n",
      "1545 0.0012593568547\n",
      "1549 0.00123664493792\n",
      "1571 0.00416930577811\n",
      "1593 0.000657894736842\n",
      "1601 0.00164473684211\n",
      "1610 0.00142543859649\n",
      "1613 0.00557802385287\n",
      "1619 0.000604776304198\n",
      "1629 0.00275578523605\n",
      "1639 0.00486501680395\n",
      "1640 0.00553833588006\n",
      "1645 0.00200370144396\n",
      "1661 0.0029725202993\n",
      "1663 0.00148678661765\n",
      "1667 0.00161732268746\n",
      "1681 0.000856766430947\n",
      "1691 0.000907164456297\n",
      "1697 0.000691754623802\n",
      "1720 0.00355554989522\n",
      "1723 0.000515268724135\n",
      "1726 0.000567585081898\n",
      "1728 0.000687024965514\n",
      "1740 0.00244061585216\n",
      "1748 0.00384119512232\n",
      "1755 0.00386761355417\n",
      "1757 0.000863546953544\n",
      "1758 0.000460768188854\n",
      "1762 0.0020570008431\n",
      "1765 0.0016614844637\n",
      "1783 0.00169885169799\n",
      "1808 0.00116959064327\n",
      "1810 0.000907164456297\n",
      "1824 0.0017278807082\n",
      "1827 0.0034058561572\n",
      "1828 0.000829382739938\n",
      "1829 0.00108704298026\n",
      "1831 0.000446815996247\n",
      "1834 0.000924968435071\n",
      "1849 0.000993732539403\n",
      "1850 0.000830105548562\n",
      "1856 0.000772903086203\n",
      "1859 0.000842768860686\n",
      "1867 0.000460768188854\n",
      "1872 0.00519678627397\n",
      "1873 0.00412185059097\n",
      "1875 0.0011351701638\n",
      "1878 0.00275831206675\n",
      "1907 0.000584795321637\n",
      "1933 0.00127720229426\n",
      "1935 0.001019821839\n",
      "1938 0.000462614439399\n",
      "1955 0.00376682319795\n",
      "1968 0.00208886478246\n",
      "1978 0.000921536377709\n",
      "1984 0.00153323968566\n",
      "2002 0.000892344109124\n",
      "2004 0.00169374629795\n",
      "2033 0.0053162160721\n",
      "2034 0.00227601432858\n",
      "2047 0.00336339317931\n",
      "2069 0.00103053744827\n",
      "2086 0.00185337070435\n",
      "2104 0.000438596491228\n",
      "2108 0.00403386186303\n",
      "2115 0.00261121553885\n",
      "2142 0.00512943238249\n",
      "2143 0.000460768188854\n",
      "2161 0.000872346612387\n",
      "2162 0.00154896212032\n",
      "2167 0.00347931296818\n",
      "2170 0.00259613097408\n",
      "2187 0.00142543859649\n",
      "2228 0.00340720275349\n",
      "2232 0.000634555810932\n",
      "2233 0.000801296586208\n",
      "2237 0.000461169749201\n",
      "2247 0.0059848496229\n",
      "2292 0.00166040471279\n",
      "2295 0.00200017950187\n",
      "2303 0.00118556766164\n",
      "2320 0.00768077718535\n",
      "2323 0.00159872179723\n",
      "2324 0.000681102098277\n",
      "2328 0.00221157520547\n",
      "2354 0.00221300520277\n",
      "2374 0.000425688811423\n",
      "2388 0.00507160851785\n",
      "2402 0.00174213489291\n",
      "2410 0.000883317812803\n",
      "2421 0.00522783542046\n",
      "2426 0.000453582228148\n",
      "2496 0.000851377622846\n",
      "2499 0.00155579812143\n",
      "2531 0.00454193137377\n",
      "2556 0.00271235251671\n",
      "2558 0.0021605104008\n",
      "2574 0.00235630150489\n",
      "2600 0.000442099133765\n",
      "2602 0.0022174200282\n",
      "2606 0.0058086109341\n",
      "2625 0.00132294816543\n",
      "2629 0.00164885991723\n",
      "2630 0.00147445820433\n",
      "2636 0.000818713450292\n",
      "2659 0.000691754623802\n",
      "2666 0.000888219723646\n",
      "2682 0.000851377622846\n",
      "2684 0.00818999968989\n",
      "2685 0.000453582228148\n",
      "2691 0.000691152283282\n",
      "2698 0.00109673017261\n",
      "2699 0.00263966320671\n",
      "2701 0.000851390306217\n",
      "2707 0.00196308419713\n",
      "2713 0.00281294200091\n",
      "2719 0.00161350220867\n",
      "2720 0.00400230345904\n",
      "2727 0.000898954065487\n",
      "2762 0.0044855415467\n",
      "2774 0.0017160916965\n",
      "2794 0.000474057484136\n",
      "2802 0.00376029825858\n",
      "2814 0.00289260918559\n",
      "2826 0.000869105387582\n",
      "2834 0.00363315477115\n",
      "2839 0.00163432987019\n",
      "2842 0.000852805610526\n",
      "2844 0.00190708297269\n",
      "2848 0.00287019131633\n",
      "2850 0.000822368421053\n",
      "2869 0.00249804227909\n",
      "2877 0.00279007182854\n",
      "2894 0.00162533994561\n",
      "2895 0.00318667762356\n",
      "2917 0.000446815996247\n",
      "2922 0.00193575171254\n",
      "2929 0.00457723120735\n",
      "2930 0.00452382388157\n",
      "2943 0.000691754623802\n",
      "2951 0.0012703434578\n",
      "2963 0.00218864889706\n",
      "2967 0.000632076645514\n",
      "2975 0.000751879699248\n",
      "2978 0.0030718599742\n",
      "2979 0.000845423933176\n",
      "2982 0.000794619114657\n",
      "2983 0.00253489071378\n",
      "2988 0.00185229653972\n",
      "2991 0.00541861741651\n",
      "3001 0.00458726328787\n",
      "3038 0.00330084267522\n",
      "3041 0.0009368522257\n",
      "3042 0.000632076645514\n",
      "3049 0.000567585081898\n",
      "3050 0.000830105548562\n",
      "3055 0.000680373342222\n",
      "3058 0.000854115462232\n",
      "3060 0.00092079183504\n",
      "3071 0.000909399602584\n",
      "3074 0.000793053324684\n",
      "3075 0.00170965304916\n",
      "3082 0.00235551416747\n",
      "3104 0.00285807306335\n",
      "3119 0.00147414224148\n",
      "3131 0.00223663808948\n",
      "3134 0.000948114968272\n",
      "3138 0.00412365835377\n",
      "3151 0.000925228878797\n",
      "3173 0.000914523061975\n",
      "3177 0.00259902368865\n",
      "3183 0.00519660174298\n",
      "3192 0.000867722523414\n",
      "3196 0.000923031098999\n",
      "3204 0.00231166010278\n",
      "3208 0.000842366995133\n",
      "3209 0.00407027962938\n",
      "3224 0.00355535419653\n",
      "3229 0.000475916858199\n",
      "3237 0.00372366600611\n",
      "3257 0.00723166609154\n",
      "3259 0.0016012608353\n",
      "3263 0.000567585081898\n",
      "3264 0.000567585081898\n",
      "3270 0.00219387594306\n",
      "3281 0.00369430673748\n",
      "3292 0.00353962921488\n",
      "3294 0.00745133034607\n",
      "3298 0.000657894736842\n",
      "3299 0.000713875287299\n",
      "3302 0.00154068682344\n",
      "3306 0.00210934625759\n",
      "3314 0.000681102098277\n",
      "3319 0.000462614439399\n",
      "3328 0.00328307136564\n",
      "3329 0.000680373342222\n",
      "3343 0.00168672759568\n",
      "3352 0.00091219952064\n",
      "3357 0.000693921659098\n",
      "3360 0.00205990484429\n",
      "3373 0.00121282642072\n",
      "3402 0.000772903086203\n",
      "3415 0.000921536377709\n",
      "3428 0.00655309313242\n",
      "3429 0.000604776304198\n",
      "3438 0.00159732972136\n",
      "3444 0.00157138917213\n",
      "3445 0.00433336310764\n",
      "3502 0.00179015045054\n",
      "3523 0.000438596491228\n",
      "3533 0.00163084701326\n",
      "3571 0.000889398802031\n",
      "3574 0.010275233738\n",
      "3575 0.000737871598722\n",
      "3592 0.000871305883327\n",
      "3593 0.00122829033577\n",
      "3596 0.00202076199195\n",
      "3603 0.00442928814373\n",
      "3604 0.00374179130793\n",
      "3605 0.000838490453093\n",
      "3611 0.00163289602133\n",
      "3613 0.00100418899105\n",
      "3637 0.000657894736842\n",
      "3641 0.000909215541233\n",
      "3647 0.000634555810932\n",
      "3651 0.000915000658718\n",
      "3652 0.000789473684211\n",
      "3660 0.000878615738214\n",
      "3666 0.000453582228148\n",
      "3667 0.00159539561257\n",
      "3670 0.00417586713749\n",
      "3677 0.00668365241921\n",
      "3684 0.00265486075959\n",
      "3691 0.000460768188854\n",
      "3701 0.00416135021275\n",
      "3720 0.000880512779221\n",
      "3722 0.000670223994371\n",
      "3725 0.000819845118297\n",
      "3727 0.00376858874463\n",
      "3743 0.018248609728\n",
      "3753 0.000584795321637\n",
      "3761 0.000902384976577\n",
      "3778 0.00163545127425\n",
      "3792 0.00121383721649\n",
      "3797 0.0027707912455\n",
      "3820 0.0014988016849\n",
      "3845 0.00198138860139\n",
      "3851 0.000634555810932\n",
      "3853 0.000515268724135\n",
      "3855 0.00128817181034\n",
      "3861 0.00111047266913\n",
      "3864 0.0016480926157\n",
      "3870 0.0025342250387\n",
      "3872 0.000446815996247\n",
      "3876 0.000687024965514\n",
      "3877 0.000218962067813\n",
      "3885 0.0032092117297\n",
      "3887 0.00250494216144\n",
      "3910 0.00631288367797\n",
      "3919 0.00491664489651\n",
      "3935 0.000737229102167\n",
      "3936 0.0022605208042\n",
      "3947 0.00230358469176\n",
      "3958 0.00313104966246\n",
      "3967 0.00301412059781\n",
      "3974 0.00105263157895\n",
      "3980 0.00091984964113\n",
      "3986 0.000906903678567\n",
      "3990 0.000567585081898\n",
      "4019 0.000634555810932\n",
      "4033 0.00496885373628\n",
      "4054 0.00180802797084\n",
      "4065 0.00175091911765\n",
      "4066 0.00344040247678\n",
      "4093 0.000789888323751\n",
      "4101 0.00717925615478\n",
      "4126 0.00107235839099\n",
      "4130 0.000929819205972\n",
      "4134 0.00263737258919\n",
      "4147 0.00449832417162\n",
      "4148 0.00201067198311\n",
      "4153 0.00321896345945\n",
      "4187 0.00133014213009\n",
      "4188 0.00272628816948\n",
      "4199 0.0013249767192\n",
      "4203 0.00173543475179\n",
      "4209 0.00110680739808\n",
      "4217 0.00257152155155\n",
      "4226 0.00171422010769\n",
      "4239 0.000670223994371\n",
      "4242 0.00903370786517\n",
      "4244 0.000921055826665\n",
      "4265 0.000773979657133\n",
      "4266 0.00214471678199\n",
      "4276 0.00301679028102\n",
      "4295 0.00117966682047\n",
      "4300 0.000693921659098\n",
      "4335 0.00126580956531\n",
      "4338 0.00164925756487\n",
      "4342 0.0017278807082\n",
      "4345 0.00102056001333\n",
      "4354 0.000638533217135\n",
      "4404 0.00473111243927\n",
      "4406 0.00201067198311\n",
      "4426 0.000713875287299\n",
      "4443 0.00394574706136\n",
      "4457 0.00113773796193\n",
      "4477 0.00087382727442\n",
      "4488 0.00453707404817\n",
      "4510 0.000616819252532\n",
      "4511 0.000765970279281\n",
      "4515 0.00225776412539\n",
      "4532 0.00242924275063\n",
      "4542 0.000475916858199\n",
      "4543 0.000840346942914\n",
      "4544 0.00178789300798\n",
      "4565 0.00124779070506\n",
      "4582 0.000614892998935\n",
      "4591 0.0025730994152\n",
      "4599 0.000446815996247\n",
      "4609 0.00162624066655\n",
      "4611 0.000945975136496\n",
      "4620 0.00776182484245\n",
      "4632 0.00140350877193\n",
      "4637 0.000908775682249\n",
      "4655 0.000873289327865\n",
      "4675 0.00101983078466\n",
      "4683 0.001605040126\n",
      "4694 0.00104088248865\n",
      "4726 0.00305039084688\n",
      "4728 0.000822368421053\n",
      "4752 0.00228576383525\n",
      "4755 0.000460768188854\n"
     ]
    }
   ],
   "source": [
    "# View a list of the features and their importance scores\n",
    "max_importance = 0\n",
    "best_wavebin   = 0\n",
    "for wavebin, importance in zip(train[features], clf.feature_importances_):\n",
    "    if importance > 0:\n",
    "        print wavebin, importance\n",
    "        if max_importance < importance:\n",
    "            max_importance = importance\n",
    "            best_wavebin = wavebin"
   ]
  },
  {
   "cell_type": "code",
   "execution_count": 106,
   "metadata": {},
   "outputs": [
    {
     "name": "stdout",
     "output_type": "stream",
     "text": [
      "3743 0.018248609728\n"
     ]
    }
   ],
   "source": [
    "print best_wavebin, max_importance"
   ]
  },
  {
   "cell_type": "code",
   "execution_count": null,
   "metadata": {},
   "outputs": [],
   "source": []
  }
 ],
 "metadata": {
  "kernelspec": {
   "display_name": "Python 2",
   "language": "python",
   "name": "python2"
  },
  "language_info": {
   "codemirror_mode": {
    "name": "ipython",
    "version": 2
   },
   "file_extension": ".py",
   "mimetype": "text/x-python",
   "name": "python",
   "nbconvert_exporter": "python",
   "pygments_lexer": "ipython2",
   "version": "2.7.13"
  }
 },
 "nbformat": 4,
 "nbformat_minor": 2
}
